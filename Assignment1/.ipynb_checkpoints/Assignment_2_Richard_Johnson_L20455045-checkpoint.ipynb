{
 "cells": [
  {
   "cell_type": "markdown",
   "metadata": {},
   "source": [
    "# Assignment 1: Data Science and Big Data Analysis (COSC 4301)"
   ]
  },
  {
   "cell_type": "markdown",
   "metadata": {},
   "source": [
    "#                           Richard Johnson L20455045\n",
    "\n",
    "\n",
    "\"Auto MPG Dataset\""
   ]
  },
  {
   "cell_type": "markdown",
   "metadata": {},
   "source": [
    "This dataset is a slightly modified version of the dataset provided in the StatLib library. In line with the use by Ross Quinlan (1993) in predicting the attribute \"mpg\", 8 of the original instances were removed because they had unknown values for the \"mpg\" attribute. The original dataset is available in the file \"auto-mpg.data-original\".\n",
    "\n",
    "\"The data concerns city-cycle fuel consumption in miles per gallon, to be predicted in terms of 3 multivalued discrete and 5 continuous attributes.\" (Quinlan, 1993)\n"
   ]
  },
  {
   "cell_type": "markdown",
   "metadata": {},
   "source": [
    " Attribute Information:\n",
    "1. mpg: continuous\n",
    "2. cylinders: multi-valued discrete\n",
    "3. displacement: continuous\n",
    "4. horsepower: continuous\n",
    "5. weight: continuous\n",
    "6. acceleration: continuous\n",
    "7. model year: multi-valued discrete\n",
    "8. origin: multi-valued discrete\n",
    "9. car name: string (unique for each instance)"
   ]
  },
  {
   "cell_type": "code",
   "execution_count": 1,
   "metadata": {},
   "outputs": [],
   "source": [
    "#Importing required library\n",
    "import numpy as np\n",
    "import pandas as pd"
   ]
  },
  {
   "cell_type": "code",
   "execution_count": 14,
   "metadata": {},
   "outputs": [],
   "source": [
    "#Load 'car.data' dataset into a pandas dataframe object 'data'\n",
    "\n",
    "data = pd.read_csv('auto-mpg.data-original', delim_whitespace=True, header=None)"
   ]
  },
  {
   "cell_type": "code",
   "execution_count": 15,
   "metadata": {},
   "outputs": [
    {
     "data": {
      "text/html": [
       "<div>\n",
       "<style scoped>\n",
       "    .dataframe tbody tr th:only-of-type {\n",
       "        vertical-align: middle;\n",
       "    }\n",
       "\n",
       "    .dataframe tbody tr th {\n",
       "        vertical-align: top;\n",
       "    }\n",
       "\n",
       "    .dataframe thead th {\n",
       "        text-align: right;\n",
       "    }\n",
       "</style>\n",
       "<table border=\"1\" class=\"dataframe\">\n",
       "  <thead>\n",
       "    <tr style=\"text-align: right;\">\n",
       "      <th></th>\n",
       "      <th>0</th>\n",
       "      <th>1</th>\n",
       "      <th>2</th>\n",
       "      <th>3</th>\n",
       "      <th>4</th>\n",
       "      <th>5</th>\n",
       "      <th>6</th>\n",
       "      <th>7</th>\n",
       "      <th>8</th>\n",
       "    </tr>\n",
       "  </thead>\n",
       "  <tbody>\n",
       "    <tr>\n",
       "      <th>0</th>\n",
       "      <td>18.0</td>\n",
       "      <td>8.0</td>\n",
       "      <td>307.0</td>\n",
       "      <td>130.0</td>\n",
       "      <td>3504.0</td>\n",
       "      <td>12.0</td>\n",
       "      <td>70.0</td>\n",
       "      <td>1.0</td>\n",
       "      <td>chevrolet chevelle malibu</td>\n",
       "    </tr>\n",
       "    <tr>\n",
       "      <th>1</th>\n",
       "      <td>15.0</td>\n",
       "      <td>8.0</td>\n",
       "      <td>350.0</td>\n",
       "      <td>165.0</td>\n",
       "      <td>3693.0</td>\n",
       "      <td>11.5</td>\n",
       "      <td>70.0</td>\n",
       "      <td>1.0</td>\n",
       "      <td>buick skylark 320</td>\n",
       "    </tr>\n",
       "    <tr>\n",
       "      <th>2</th>\n",
       "      <td>18.0</td>\n",
       "      <td>8.0</td>\n",
       "      <td>318.0</td>\n",
       "      <td>150.0</td>\n",
       "      <td>3436.0</td>\n",
       "      <td>11.0</td>\n",
       "      <td>70.0</td>\n",
       "      <td>1.0</td>\n",
       "      <td>plymouth satellite</td>\n",
       "    </tr>\n",
       "    <tr>\n",
       "      <th>3</th>\n",
       "      <td>16.0</td>\n",
       "      <td>8.0</td>\n",
       "      <td>304.0</td>\n",
       "      <td>150.0</td>\n",
       "      <td>3433.0</td>\n",
       "      <td>12.0</td>\n",
       "      <td>70.0</td>\n",
       "      <td>1.0</td>\n",
       "      <td>amc rebel sst</td>\n",
       "    </tr>\n",
       "    <tr>\n",
       "      <th>4</th>\n",
       "      <td>17.0</td>\n",
       "      <td>8.0</td>\n",
       "      <td>302.0</td>\n",
       "      <td>140.0</td>\n",
       "      <td>3449.0</td>\n",
       "      <td>10.5</td>\n",
       "      <td>70.0</td>\n",
       "      <td>1.0</td>\n",
       "      <td>ford torino</td>\n",
       "    </tr>\n",
       "  </tbody>\n",
       "</table>\n",
       "</div>"
      ],
      "text/plain": [
       "      0    1      2      3       4     5     6    7                          8\n",
       "0  18.0  8.0  307.0  130.0  3504.0  12.0  70.0  1.0  chevrolet chevelle malibu\n",
       "1  15.0  8.0  350.0  165.0  3693.0  11.5  70.0  1.0          buick skylark 320\n",
       "2  18.0  8.0  318.0  150.0  3436.0  11.0  70.0  1.0         plymouth satellite\n",
       "3  16.0  8.0  304.0  150.0  3433.0  12.0  70.0  1.0              amc rebel sst\n",
       "4  17.0  8.0  302.0  140.0  3449.0  10.5  70.0  1.0                ford torino"
      ]
     },
     "execution_count": 15,
     "metadata": {},
     "output_type": "execute_result"
    }
   ],
   "source": [
    "#Checking top5 data \n",
    "data.head()"
   ]
  },
  {
   "cell_type": "code",
   "execution_count": 28,
   "metadata": {},
   "outputs": [],
   "source": [
    "#Setting the columns name from our dataset file\n",
    "\n",
    "data.columns = ['mpg','cylinders','displacement','hp','weight','acceleration', 'model_year', 'origin', 'car_name']"
   ]
  },
  {
   "cell_type": "code",
   "execution_count": 29,
   "metadata": {},
   "outputs": [
    {
     "data": {
      "text/html": [
       "<div>\n",
       "<style scoped>\n",
       "    .dataframe tbody tr th:only-of-type {\n",
       "        vertical-align: middle;\n",
       "    }\n",
       "\n",
       "    .dataframe tbody tr th {\n",
       "        vertical-align: top;\n",
       "    }\n",
       "\n",
       "    .dataframe thead th {\n",
       "        text-align: right;\n",
       "    }\n",
       "</style>\n",
       "<table border=\"1\" class=\"dataframe\">\n",
       "  <thead>\n",
       "    <tr style=\"text-align: right;\">\n",
       "      <th></th>\n",
       "      <th>mpg</th>\n",
       "      <th>cylinders</th>\n",
       "      <th>displacement</th>\n",
       "      <th>hp</th>\n",
       "      <th>weight</th>\n",
       "      <th>acceleration</th>\n",
       "      <th>model_year</th>\n",
       "      <th>origin</th>\n",
       "      <th>car_name</th>\n",
       "    </tr>\n",
       "  </thead>\n",
       "  <tbody>\n",
       "    <tr>\n",
       "      <th>0</th>\n",
       "      <td>18.0</td>\n",
       "      <td>8.0</td>\n",
       "      <td>307.0</td>\n",
       "      <td>130.0</td>\n",
       "      <td>3504.0</td>\n",
       "      <td>12.0</td>\n",
       "      <td>70.0</td>\n",
       "      <td>1.0</td>\n",
       "      <td>chevrolet chevelle malibu</td>\n",
       "    </tr>\n",
       "    <tr>\n",
       "      <th>1</th>\n",
       "      <td>15.0</td>\n",
       "      <td>8.0</td>\n",
       "      <td>350.0</td>\n",
       "      <td>165.0</td>\n",
       "      <td>3693.0</td>\n",
       "      <td>11.5</td>\n",
       "      <td>70.0</td>\n",
       "      <td>1.0</td>\n",
       "      <td>buick skylark 320</td>\n",
       "    </tr>\n",
       "    <tr>\n",
       "      <th>2</th>\n",
       "      <td>18.0</td>\n",
       "      <td>8.0</td>\n",
       "      <td>318.0</td>\n",
       "      <td>150.0</td>\n",
       "      <td>3436.0</td>\n",
       "      <td>11.0</td>\n",
       "      <td>70.0</td>\n",
       "      <td>1.0</td>\n",
       "      <td>plymouth satellite</td>\n",
       "    </tr>\n",
       "    <tr>\n",
       "      <th>3</th>\n",
       "      <td>16.0</td>\n",
       "      <td>8.0</td>\n",
       "      <td>304.0</td>\n",
       "      <td>150.0</td>\n",
       "      <td>3433.0</td>\n",
       "      <td>12.0</td>\n",
       "      <td>70.0</td>\n",
       "      <td>1.0</td>\n",
       "      <td>amc rebel sst</td>\n",
       "    </tr>\n",
       "    <tr>\n",
       "      <th>4</th>\n",
       "      <td>17.0</td>\n",
       "      <td>8.0</td>\n",
       "      <td>302.0</td>\n",
       "      <td>140.0</td>\n",
       "      <td>3449.0</td>\n",
       "      <td>10.5</td>\n",
       "      <td>70.0</td>\n",
       "      <td>1.0</td>\n",
       "      <td>ford torino</td>\n",
       "    </tr>\n",
       "    <tr>\n",
       "      <th>...</th>\n",
       "      <td>...</td>\n",
       "      <td>...</td>\n",
       "      <td>...</td>\n",
       "      <td>...</td>\n",
       "      <td>...</td>\n",
       "      <td>...</td>\n",
       "      <td>...</td>\n",
       "      <td>...</td>\n",
       "      <td>...</td>\n",
       "    </tr>\n",
       "    <tr>\n",
       "      <th>401</th>\n",
       "      <td>27.0</td>\n",
       "      <td>4.0</td>\n",
       "      <td>140.0</td>\n",
       "      <td>86.0</td>\n",
       "      <td>2790.0</td>\n",
       "      <td>15.6</td>\n",
       "      <td>82.0</td>\n",
       "      <td>1.0</td>\n",
       "      <td>ford mustang gl</td>\n",
       "    </tr>\n",
       "    <tr>\n",
       "      <th>402</th>\n",
       "      <td>44.0</td>\n",
       "      <td>4.0</td>\n",
       "      <td>97.0</td>\n",
       "      <td>52.0</td>\n",
       "      <td>2130.0</td>\n",
       "      <td>24.6</td>\n",
       "      <td>82.0</td>\n",
       "      <td>2.0</td>\n",
       "      <td>vw pickup</td>\n",
       "    </tr>\n",
       "    <tr>\n",
       "      <th>403</th>\n",
       "      <td>32.0</td>\n",
       "      <td>4.0</td>\n",
       "      <td>135.0</td>\n",
       "      <td>84.0</td>\n",
       "      <td>2295.0</td>\n",
       "      <td>11.6</td>\n",
       "      <td>82.0</td>\n",
       "      <td>1.0</td>\n",
       "      <td>dodge rampage</td>\n",
       "    </tr>\n",
       "    <tr>\n",
       "      <th>404</th>\n",
       "      <td>28.0</td>\n",
       "      <td>4.0</td>\n",
       "      <td>120.0</td>\n",
       "      <td>79.0</td>\n",
       "      <td>2625.0</td>\n",
       "      <td>18.6</td>\n",
       "      <td>82.0</td>\n",
       "      <td>1.0</td>\n",
       "      <td>ford ranger</td>\n",
       "    </tr>\n",
       "    <tr>\n",
       "      <th>405</th>\n",
       "      <td>31.0</td>\n",
       "      <td>4.0</td>\n",
       "      <td>119.0</td>\n",
       "      <td>82.0</td>\n",
       "      <td>2720.0</td>\n",
       "      <td>19.4</td>\n",
       "      <td>82.0</td>\n",
       "      <td>1.0</td>\n",
       "      <td>chevy s-10</td>\n",
       "    </tr>\n",
       "  </tbody>\n",
       "</table>\n",
       "<p>406 rows × 9 columns</p>\n",
       "</div>"
      ],
      "text/plain": [
       "      mpg  cylinders  displacement     hp  weight  acceleration  model_year  \\\n",
       "0    18.0        8.0         307.0  130.0  3504.0          12.0        70.0   \n",
       "1    15.0        8.0         350.0  165.0  3693.0          11.5        70.0   \n",
       "2    18.0        8.0         318.0  150.0  3436.0          11.0        70.0   \n",
       "3    16.0        8.0         304.0  150.0  3433.0          12.0        70.0   \n",
       "4    17.0        8.0         302.0  140.0  3449.0          10.5        70.0   \n",
       "..    ...        ...           ...    ...     ...           ...         ...   \n",
       "401  27.0        4.0         140.0   86.0  2790.0          15.6        82.0   \n",
       "402  44.0        4.0          97.0   52.0  2130.0          24.6        82.0   \n",
       "403  32.0        4.0         135.0   84.0  2295.0          11.6        82.0   \n",
       "404  28.0        4.0         120.0   79.0  2625.0          18.6        82.0   \n",
       "405  31.0        4.0         119.0   82.0  2720.0          19.4        82.0   \n",
       "\n",
       "     origin                   car_name  \n",
       "0       1.0  chevrolet chevelle malibu  \n",
       "1       1.0          buick skylark 320  \n",
       "2       1.0         plymouth satellite  \n",
       "3       1.0              amc rebel sst  \n",
       "4       1.0                ford torino  \n",
       "..      ...                        ...  \n",
       "401     1.0            ford mustang gl  \n",
       "402     2.0                  vw pickup  \n",
       "403     1.0              dodge rampage  \n",
       "404     1.0                ford ranger  \n",
       "405     1.0                 chevy s-10  \n",
       "\n",
       "[406 rows x 9 columns]"
      ]
     },
     "execution_count": 29,
     "metadata": {},
     "output_type": "execute_result"
    }
   ],
   "source": [
    "#Watching the changes\n",
    "data"
   ]
  },
  {
   "cell_type": "code",
   "execution_count": 30,
   "metadata": {
    "scrolled": false
   },
   "outputs": [
    {
     "name": "stdout",
     "output_type": "stream",
     "text": [
      "<class 'pandas.core.frame.DataFrame'>\n",
      "RangeIndex: 406 entries, 0 to 405\n",
      "Data columns (total 9 columns):\n",
      " #   Column        Non-Null Count  Dtype  \n",
      "---  ------        --------------  -----  \n",
      " 0   mpg           398 non-null    float64\n",
      " 1   cylinders     406 non-null    float64\n",
      " 2   displacement  406 non-null    float64\n",
      " 3   hp            400 non-null    float64\n",
      " 4   weight        406 non-null    float64\n",
      " 5   acceleration  406 non-null    float64\n",
      " 6   model_year    406 non-null    float64\n",
      " 7   origin        406 non-null    float64\n",
      " 8   car_name      406 non-null    object \n",
      "dtypes: float64(8), object(1)\n",
      "memory usage: 28.7+ KB\n"
     ]
    }
   ],
   "source": [
    "#Getting information of our dataset\n",
    "data.info()"
   ]
  },
  {
   "cell_type": "code",
   "execution_count": 31,
   "metadata": {},
   "outputs": [
    {
     "data": {
      "text/plain": [
       "mpg              True\n",
       "cylinders       False\n",
       "displacement    False\n",
       "hp               True\n",
       "weight          False\n",
       "acceleration    False\n",
       "model_year      False\n",
       "origin          False\n",
       "car_name        False\n",
       "dtype: bool"
      ]
     },
     "execution_count": 31,
     "metadata": {},
     "output_type": "execute_result"
    }
   ],
   "source": [
    "#Checking for null values \n",
    "#Result shows no null values\n",
    "data.isnull().any()"
   ]
  },
  {
   "cell_type": "code",
   "execution_count": 32,
   "metadata": {},
   "outputs": [
    {
     "data": {
      "text/plain": [
       "129"
      ]
     },
     "execution_count": 32,
     "metadata": {},
     "output_type": "execute_result"
    }
   ],
   "source": [
    "#Finding number of unique value in 'mpg' column\n",
    "\n",
    "data['mpg'].nunique()"
   ]
  },
  {
   "cell_type": "code",
   "execution_count": 33,
   "metadata": {},
   "outputs": [
    {
     "data": {
      "text/plain": [
       "array([8., 4., 6., 3., 5.])"
      ]
     },
     "execution_count": 33,
     "metadata": {},
     "output_type": "execute_result"
    }
   ],
   "source": [
    "#Finding unique values for all columns\n",
    "\n",
    "data['cylinders'].unique()"
   ]
  },
  {
   "cell_type": "code",
   "execution_count": 34,
   "metadata": {},
   "outputs": [
    {
     "data": {
      "text/plain": [
       "array([307. , 350. , 318. , 304. , 302. , 429. , 454. , 440. , 455. ,\n",
       "       390. , 133. , 351. , 383. , 360. , 340. , 400. , 113. , 198. ,\n",
       "       199. , 200. ,  97. , 110. , 107. , 104. , 121. , 140. ,  98. ,\n",
       "       232. , 225. , 250. , 258. , 122. , 116. ,  79. ,  88. ,  71. ,\n",
       "        72. ,  91. ,  97.5,  70. , 120. ,  96. , 108. , 155. ,  68. ,\n",
       "       114. , 156. ,  76. ,  83. ,  90. , 231. , 262. , 134. , 119. ,\n",
       "       171. , 115. , 101. , 305. ,  85. , 130. , 168. , 111. , 260. ,\n",
       "       151. , 146. ,  80. ,  78. , 105. , 131. , 163. ,  89. , 267. ,\n",
       "        86. , 183. , 141. , 173. , 135. ,  81. , 100. , 145. , 112. ,\n",
       "       181. , 144. ])"
      ]
     },
     "execution_count": 34,
     "metadata": {},
     "output_type": "execute_result"
    }
   ],
   "source": [
    "data['displacement'].unique()"
   ]
  },
  {
   "cell_type": "code",
   "execution_count": 35,
   "metadata": {},
   "outputs": [
    {
     "data": {
      "text/plain": [
       "array([130., 165., 150., 140., 198., 220., 215., 225., 190., 115., 153.,\n",
       "       175., 170., 160.,  95.,  97.,  85.,  88.,  46.,  87.,  90., 113.,\n",
       "       200., 210., 193.,  nan,  48., 100., 105., 180., 110.,  72.,  86.,\n",
       "        70.,  76.,  65.,  69.,  60.,  80.,  54., 208., 155., 112.,  92.,\n",
       "       145., 137., 158., 167.,  94., 107., 230.,  49.,  75.,  91., 122.,\n",
       "        67.,  83.,  78.,  52.,  61.,  93., 148., 129.,  96.,  71.,  98.,\n",
       "        53.,  81.,  79., 120., 152., 102., 108.,  68.,  58., 149.,  89.,\n",
       "        63.,  66., 139., 103., 125., 133., 138., 135., 142.,  77.,  62.,\n",
       "       132.,  84.,  64.,  74., 116.,  82.])"
      ]
     },
     "execution_count": 35,
     "metadata": {},
     "output_type": "execute_result"
    }
   ],
   "source": [
    "data['hp'].unique()"
   ]
  },
  {
   "cell_type": "code",
   "execution_count": 36,
   "metadata": {},
   "outputs": [
    {
     "data": {
      "text/plain": [
       "array([3504., 3693., 3436., 3433., 3449., 4341., 4354., 4312., 4425.,\n",
       "       3850., 3090., 4142., 4034., 4166., 3563., 3609., 3353., 3761.,\n",
       "       3086., 2372., 2833., 2774., 2587., 2130., 1835., 2672., 2430.,\n",
       "       2375., 2234., 2648., 4615., 4376., 4382., 4732., 2264., 2228.,\n",
       "       2046., 1978., 2634., 3439., 3329., 3302., 3288., 4209., 4464.,\n",
       "       4154., 4096., 4955., 4746., 5140., 2962., 2408., 3282., 3139.,\n",
       "       2220., 2123., 2074., 2065., 1773., 1613., 1834., 1955., 2278.,\n",
       "       2126., 2254., 2226., 4274., 4385., 4135., 4129., 3672., 4633.,\n",
       "       4502., 4456., 4422., 2330., 3892., 4098., 4294., 4077., 2933.,\n",
       "       2511., 2979., 2189., 2395., 2288., 2506., 2164., 2100., 4100.,\n",
       "       3988., 4042., 3777., 4952., 4363., 4237., 4735., 4951., 3821.,\n",
       "       3121., 3278., 2945., 3021., 2904., 1950., 4997., 4906., 4654.,\n",
       "       4499., 2789., 2279., 2401., 2379., 2124., 2310., 2472., 2265.,\n",
       "       4082., 4278., 1867., 2158., 2582., 2868., 3399., 2660., 2807.,\n",
       "       3664., 3102., 2875., 2901., 3336., 2451., 1836., 2542., 3781.,\n",
       "       3632., 3613., 4141., 4699., 4457., 4638., 4257., 2219., 1963.,\n",
       "       2300., 1649., 2003., 2125., 2108., 2246., 2489., 2391., 2000.,\n",
       "       3264., 3459., 3432., 3158., 4668., 4440., 4498., 4657., 3907.,\n",
       "       3897., 3730., 3785., 3039., 3221., 3169., 2171., 2639., 2914.,\n",
       "       2592., 2702., 2223., 2545., 2984., 1937., 3211., 2694., 2957.,\n",
       "       2671., 1795., 2464., 2572., 2255., 2202., 4215., 4190., 3962.,\n",
       "       3233., 3012., 3085., 2035., 3651., 3574., 3645., 3193., 1825.,\n",
       "       1990., 2155., 2565., 3150., 3940., 3270., 2930., 3820., 4380.,\n",
       "       4055., 3870., 3755., 2045., 1945., 3880., 4060., 4140., 4295.,\n",
       "       3520., 3425., 3630., 3525., 4220., 4165., 4325., 4335., 1940.,\n",
       "       2740., 2755., 2051., 2075., 1985., 2190., 2815., 2600., 2720.,\n",
       "       1800., 2070., 3365., 3735., 3570., 3535., 3155., 2965., 3430.,\n",
       "       3210., 3380., 3070., 3620., 3410., 3445., 3205., 4080., 2560.,\n",
       "       2230., 2515., 2745., 2855., 2405., 2830., 3140., 2795., 2135.,\n",
       "       3245., 2990., 2890., 3265., 3360., 3840., 3725., 3955., 3830.,\n",
       "       4360., 4054., 3605., 1925., 1975., 1915., 2670., 3530., 3900.,\n",
       "       3190., 3420., 2200., 2150., 2020., 2595., 2700., 2556., 2144.,\n",
       "       1968., 2120., 2019., 2678., 2870., 3003., 3381., 2188., 2711.,\n",
       "       2434., 2110., 2800., 2085., 2335., 2950., 3250., 1850., 2145.,\n",
       "       1845., 2910., 2420., 2500., 2905., 2290., 2490., 2635., 2620.,\n",
       "       2725., 2385., 1755., 1875., 1760., 2050., 2215., 2380., 2320.,\n",
       "       2210., 2350., 2615., 3230., 3160., 2900., 3415., 3060., 3465.,\n",
       "       2605., 2640., 2575., 2525., 2735., 2865., 3035., 1980., 2025.,\n",
       "       1970., 2160., 2205., 2245., 1965., 1995., 3015., 2585., 2835.,\n",
       "       2665., 2370., 2790., 2295., 2625.])"
      ]
     },
     "execution_count": 36,
     "metadata": {},
     "output_type": "execute_result"
    }
   ],
   "source": [
    "data['weight'].unique()"
   ]
  },
  {
   "cell_type": "code",
   "execution_count": 37,
   "metadata": {},
   "outputs": [
    {
     "data": {
      "text/plain": [
       "array([12. , 11.5, 11. , 10.5, 10. ,  9. ,  8.5, 17.5,  8. ,  9.5, 15. ,\n",
       "       15.5, 16. , 14.5, 20.5, 12.5, 14. , 13.5, 18.5, 19. , 20. , 13. ,\n",
       "       19.5, 18. , 17. , 23.5, 16.5, 21. , 16.9, 14.9, 17.7, 15.3, 13.9,\n",
       "       12.8, 15.4, 17.6, 22.2, 22.1, 14.2, 17.4, 16.2, 17.8, 12.2, 16.4,\n",
       "       13.6, 15.7, 13.2, 21.9, 16.7, 12.1, 14.8, 18.6, 16.8, 13.7, 11.1,\n",
       "       11.4, 18.2, 15.8, 15.9, 14.1, 21.5, 14.4, 19.4, 19.2, 17.2, 18.7,\n",
       "       15.1, 13.4, 11.2, 14.7, 16.6, 17.3, 15.2, 14.3, 20.1, 24.8, 11.3,\n",
       "       12.9, 18.8, 18.1, 17.9, 21.7, 23.7, 19.9, 21.8, 13.8, 12.6, 16.1,\n",
       "       20.7, 18.3, 20.4, 19.6, 17.1, 15.6, 24.6, 11.6])"
      ]
     },
     "execution_count": 37,
     "metadata": {},
     "output_type": "execute_result"
    }
   ],
   "source": [
    "data['acceleration'].unique()"
   ]
  },
  {
   "cell_type": "code",
   "execution_count": 38,
   "metadata": {
    "scrolled": true
   },
   "outputs": [
    {
     "data": {
      "text/plain": [
       "array([70., 71., 72., 73., 74., 75., 76., 77., 78., 79., 80., 81., 82.])"
      ]
     },
     "execution_count": 38,
     "metadata": {},
     "output_type": "execute_result"
    }
   ],
   "source": [
    "data['model_year'].unique()"
   ]
  },
  {
   "cell_type": "code",
   "execution_count": 39,
   "metadata": {},
   "outputs": [
    {
     "data": {
      "text/plain": [
       "array([1., 2., 3.])"
      ]
     },
     "execution_count": 39,
     "metadata": {},
     "output_type": "execute_result"
    }
   ],
   "source": [
    "data['origin'].unique()"
   ]
  },
  {
   "cell_type": "code",
   "execution_count": 40,
   "metadata": {},
   "outputs": [
    {
     "data": {
      "text/plain": [
       "array(['chevrolet chevelle malibu', 'buick skylark 320',\n",
       "       'plymouth satellite', 'amc rebel sst', 'ford torino',\n",
       "       'ford galaxie 500', 'chevrolet impala', 'plymouth fury iii',\n",
       "       'pontiac catalina', 'amc ambassador dpl', 'citroen ds-21 pallas',\n",
       "       'chevrolet chevelle concours (sw)', 'ford torino (sw)',\n",
       "       'plymouth satellite (sw)', 'amc rebel sst (sw)',\n",
       "       'dodge challenger se', \"plymouth 'cuda 340\",\n",
       "       'ford mustang boss 302', 'chevrolet monte carlo',\n",
       "       'buick estate wagon (sw)', 'toyota corona mark ii',\n",
       "       'plymouth duster', 'amc hornet', 'ford maverick', 'datsun pl510',\n",
       "       'volkswagen 1131 deluxe sedan', 'peugeot 504', 'audi 100 ls',\n",
       "       'saab 99e', 'bmw 2002', 'amc gremlin', 'ford f250', 'chevy c20',\n",
       "       'dodge d200', 'hi 1200d', 'chevrolet vega 2300', 'toyota corona',\n",
       "       'ford pinto', 'volkswagen super beetle 117',\n",
       "       'plymouth satellite custom', 'ford torino 500', 'amc matador',\n",
       "       'pontiac catalina brougham', 'dodge monaco (sw)',\n",
       "       'ford country squire (sw)', 'pontiac safari (sw)',\n",
       "       'amc hornet sportabout (sw)', 'chevrolet vega (sw)',\n",
       "       'pontiac firebird', 'ford mustang', 'mercury capri 2000',\n",
       "       'opel 1900', 'peugeot 304', 'fiat 124b', 'toyota corolla 1200',\n",
       "       'datsun 1200', 'volkswagen model 111', 'plymouth cricket',\n",
       "       'toyota corona hardtop', 'dodge colt hardtop', 'volkswagen type 3',\n",
       "       'chevrolet vega', 'ford pinto runabout', 'amc ambassador sst',\n",
       "       'mercury marquis', 'buick lesabre custom',\n",
       "       'oldsmobile delta 88 royale', 'chrysler newport royal',\n",
       "       'mazda rx2 coupe', 'amc matador (sw)', 'ford gran torino (sw)',\n",
       "       'plymouth satellite custom (sw)', 'volvo 145e (sw)',\n",
       "       'volkswagen 411 (sw)', 'peugeot 504 (sw)', 'renault 12 (sw)',\n",
       "       'ford pinto (sw)', 'datsun 510 (sw)',\n",
       "       'toyouta corona mark ii (sw)', 'dodge colt (sw)',\n",
       "       'toyota corolla 1600 (sw)', 'buick century 350',\n",
       "       'chevrolet malibu', 'ford gran torino', 'dodge coronet custom',\n",
       "       'mercury marquis brougham', 'chevrolet caprice classic',\n",
       "       'ford ltd', 'plymouth fury gran sedan',\n",
       "       'chrysler new yorker brougham', 'buick electra 225 custom',\n",
       "       'amc ambassador brougham', 'plymouth valiant',\n",
       "       'chevrolet nova custom', 'volkswagen super beetle', 'ford country',\n",
       "       'plymouth custom suburb', 'oldsmobile vista cruiser',\n",
       "       'toyota carina', 'datsun 610', 'maxda rx3', 'mercury capri v6',\n",
       "       'fiat 124 sport coupe', 'chevrolet monte carlo s',\n",
       "       'pontiac grand prix', 'fiat 128', 'opel manta', 'audi 100ls',\n",
       "       'volvo 144ea', 'dodge dart custom', 'saab 99le', 'toyota mark ii',\n",
       "       'oldsmobile omega', 'chevrolet nova', 'datsun b210',\n",
       "       'chevrolet chevelle malibu classic', 'plymouth satellite sebring',\n",
       "       'buick century luxus (sw)', 'dodge coronet custom (sw)',\n",
       "       'audi fox', 'volkswagen dasher', 'datsun 710', 'dodge colt',\n",
       "       'fiat 124 tc', 'honda civic', 'subaru', 'fiat x1.9',\n",
       "       'plymouth valiant custom', 'mercury monarch', 'chevrolet bel air',\n",
       "       'plymouth grand fury', 'buick century',\n",
       "       'chevroelt chevelle malibu', 'plymouth fury', 'buick skyhawk',\n",
       "       'chevrolet monza 2+2', 'ford mustang ii', 'toyota corolla',\n",
       "       'pontiac astro', 'volkswagen rabbit', 'amc pacer', 'volvo 244dl',\n",
       "       'honda civic cvcc', 'fiat 131', 'capri ii', 'renault 12tl',\n",
       "       'dodge coronet brougham', 'chevrolet chevette', 'chevrolet woody',\n",
       "       'vw rabbit', 'dodge aspen se', 'ford granada ghia',\n",
       "       'pontiac ventura sj', 'amc pacer d/l', 'datsun b-210', 'volvo 245',\n",
       "       'plymouth volare premier v8', 'mercedes-benz 280s',\n",
       "       'cadillac seville', 'chevy c10', 'ford f108', 'dodge d100',\n",
       "       'honda accord cvcc', 'buick opel isuzu deluxe', 'renault 5 gtl',\n",
       "       'plymouth arrow gs', 'datsun f-10 hatchback',\n",
       "       'oldsmobile cutlass supreme', 'dodge monaco brougham',\n",
       "       'mercury cougar brougham', 'chevrolet concours', 'buick skylark',\n",
       "       'plymouth volare custom', 'ford granada', 'pontiac grand prix lj',\n",
       "       'chevrolet monte carlo landau', 'chrysler cordoba',\n",
       "       'ford thunderbird', 'volkswagen rabbit custom',\n",
       "       'pontiac sunbird coupe', 'toyota corolla liftback',\n",
       "       'ford mustang ii 2+2', 'dodge colt m/m', 'subaru dl', 'datsun 810',\n",
       "       'bmw 320i', 'mazda rx-4', 'volkswagen rabbit custom diesel',\n",
       "       'ford fiesta', 'mazda glc deluxe', 'datsun b210 gx',\n",
       "       'oldsmobile cutlass salon brougham', 'dodge diplomat',\n",
       "       'mercury monarch ghia', 'pontiac phoenix lj',\n",
       "       'ford fairmont (auto)', 'ford fairmont (man)', 'plymouth volare',\n",
       "       'amc concord', 'buick century special', 'mercury zephyr',\n",
       "       'dodge aspen', 'amc concord d/l',\n",
       "       'buick regal sport coupe (turbo)', 'ford futura',\n",
       "       'dodge magnum xe', 'datsun 510', 'dodge omni',\n",
       "       'toyota celica gt liftback', 'plymouth sapporo',\n",
       "       'oldsmobile starfire sx', 'datsun 200-sx', 'audi 5000',\n",
       "       'volvo 264gl', 'saab 99gle', 'peugeot 604sl',\n",
       "       'volkswagen scirocco', 'honda accord lx', 'pontiac lemans v6',\n",
       "       'mercury zephyr 6', 'ford fairmont 4', 'amc concord dl 6',\n",
       "       'dodge aspen 6', 'ford ltd landau', 'mercury grand marquis',\n",
       "       'dodge st. regis', 'chevrolet malibu classic (sw)',\n",
       "       'chrysler lebaron town @ country (sw)', 'vw rabbit custom',\n",
       "       'maxda glc deluxe', 'dodge colt hatchback custom', 'amc spirit dl',\n",
       "       'mercedes benz 300d', 'cadillac eldorado', 'plymouth horizon',\n",
       "       'plymouth horizon tc3', 'datsun 210', 'fiat strada custom',\n",
       "       'buick skylark limited', 'chevrolet citation',\n",
       "       'oldsmobile omega brougham', 'pontiac phoenix',\n",
       "       'toyota corolla tercel', 'datsun 310', 'ford fairmont',\n",
       "       'audi 4000', 'toyota corona liftback', 'mazda 626',\n",
       "       'datsun 510 hatchback', 'mazda glc', 'vw rabbit c (diesel)',\n",
       "       'vw dasher (diesel)', 'audi 5000s (diesel)', 'mercedes-benz 240d',\n",
       "       'honda civic 1500 gl', 'renault lecar deluxe', 'vokswagen rabbit',\n",
       "       'datsun 280-zx', 'mazda rx-7 gs', 'triumph tr7 coupe',\n",
       "       'ford mustang cobra', 'honda accord', 'plymouth reliant',\n",
       "       'dodge aries wagon (sw)', 'toyota starlet', 'plymouth champ',\n",
       "       'honda civic 1300', 'datsun 210 mpg', 'toyota tercel',\n",
       "       'mazda glc 4', 'plymouth horizon 4', 'ford escort 4w',\n",
       "       'ford escort 2h', 'volkswagen jetta', 'renault 18i',\n",
       "       'honda prelude', 'datsun 200sx', 'peugeot 505s turbo diesel',\n",
       "       'saab 900s', 'volvo diesel', 'toyota cressida',\n",
       "       'datsun 810 maxima', 'oldsmobile cutlass ls', 'ford granada gl',\n",
       "       'chrysler lebaron salon', 'chevrolet cavalier',\n",
       "       'chevrolet cavalier wagon', 'chevrolet cavalier 2-door',\n",
       "       'pontiac j2000 se hatchback', 'dodge aries se',\n",
       "       'ford fairmont futura', 'amc concord dl', 'volkswagen rabbit l',\n",
       "       'mazda glc custom l', 'mazda glc custom', 'plymouth horizon miser',\n",
       "       'mercury lynx l', 'nissan stanza xe', 'honda civic (auto)',\n",
       "       'datsun 310 gx', 'buick century limited',\n",
       "       'oldsmobile cutlass ciera (diesel)', 'chrysler lebaron medallion',\n",
       "       'ford granada l', 'toyota celica gt', 'dodge charger 2.2',\n",
       "       'chevrolet camaro', 'ford mustang gl', 'vw pickup',\n",
       "       'dodge rampage', 'ford ranger', 'chevy s-10'], dtype=object)"
      ]
     },
     "execution_count": 40,
     "metadata": {},
     "output_type": "execute_result"
    }
   ],
   "source": [
    "data['car_name'].unique()"
   ]
  },
  {
   "cell_type": "code",
   "execution_count": 41,
   "metadata": {},
   "outputs": [
    {
     "data": {
      "text/plain": [
       "mpg             129\n",
       "cylinders         5\n",
       "displacement     83\n",
       "hp               93\n",
       "weight          356\n",
       "acceleration     96\n",
       "model_year       13\n",
       "origin            3\n",
       "car_name        312\n",
       "dtype: int64"
      ]
     },
     "execution_count": 41,
     "metadata": {},
     "output_type": "execute_result"
    }
   ],
   "source": [
    "#Finding unique value in each column\n",
    "data.nunique()"
   ]
  },
  {
   "cell_type": "markdown",
   "metadata": {},
   "source": [
    "# Handling Missing Values"
   ]
  },
  {
   "cell_type": "code",
   "execution_count": 42,
   "metadata": {},
   "outputs": [],
   "source": [
    "#Defining method to replace '?' with null value\n",
    "\n",
    "def check(x):\n",
    "    if x == '?':\n",
    "        return np.NaN\n",
    "    return x"
   ]
  },
  {
   "cell_type": "code",
   "execution_count": 43,
   "metadata": {},
   "outputs": [],
   "source": [
    "#Applying that function to every columns\n",
    "\n",
    "data['mpg'] = data['mpg'].apply(check)\n",
    "data['cylinders'] = data['cylinders'].apply(check)\n",
    "data['displacement'] = data['displacement'].apply(check)\n",
    "data['hp'] = data['hp'].apply(check)\n",
    "data['weight'] = data['weight'].apply(check)\n",
    "data['acceleration'] = data['acceleration'].apply(check)\n",
    "data['model_year'] = data['model_year'].apply(check)\n",
    "data['origin'] = data['origin'].apply(check)\n",
    "data['car_name'] = data['car_name'].apply(check)"
   ]
  },
  {
   "cell_type": "code",
   "execution_count": 44,
   "metadata": {},
   "outputs": [
    {
     "data": {
      "text/plain": [
       "mpg             8\n",
       "cylinders       0\n",
       "displacement    0\n",
       "hp              6\n",
       "weight          0\n",
       "acceleration    0\n",
       "model_year      0\n",
       "origin          0\n",
       "car_name        0\n",
       "dtype: int64"
      ]
     },
     "execution_count": 44,
     "metadata": {},
     "output_type": "execute_result"
    }
   ],
   "source": [
    "#Checking total null value in each columns\n",
    "\n",
    "data.isnull().sum()"
   ]
  },
  {
   "cell_type": "code",
   "execution_count": 45,
   "metadata": {},
   "outputs": [],
   "source": [
    "#Finding average value of 'mpg' after dropping null value and converting rest of the objects to integer\n",
    "avg_col1 = round(data['mpg'].dropna().astype(int).mean())"
   ]
  },
  {
   "cell_type": "code",
   "execution_count": 46,
   "metadata": {},
   "outputs": [
    {
     "data": {
      "text/plain": [
       "23"
      ]
     },
     "execution_count": 46,
     "metadata": {},
     "output_type": "execute_result"
    }
   ],
   "source": [
    "avg_col1"
   ]
  },
  {
   "cell_type": "code",
   "execution_count": 47,
   "metadata": {},
   "outputs": [
    {
     "name": "stdout",
     "output_type": "stream",
     "text": [
      "23\n",
      "5\n",
      "195\n",
      "105\n",
      "2979\n",
      "15\n",
      "76\n",
      "2\n"
     ]
    }
   ],
   "source": [
    "#Handling missing values\n",
    "\n",
    "#Finding average value of each columns and replacing null value with average value of each columns\n",
    "avg_col = []\n",
    "for i in range(len(data.columns)-1):\n",
    "    avg_col.append(round(data[data.columns[i]].dropna().astype(int).mean()))\n",
    "    data[data.columns[i]] = data[data.columns[i]].fillna(avg_col[i])\n",
    "    print(avg_col[i])"
   ]
  },
  {
   "cell_type": "code",
   "execution_count": 48,
   "metadata": {},
   "outputs": [],
   "source": [
    "#Converting all the attribute columns to integer type\n",
    "\n",
    "data['mpg'] = data['mpg'].astype(int)\n",
    "data['cylinders'] = data['cylinders'].astype(int)\n",
    "data['displacement'] = data['displacement'].astype(int)\n",
    "data['hp'] = data['hp'].astype(int)\n",
    "data['weight'] = data['weight'].astype(int)\n",
    "data['acceleration'] = data['acceleration'].astype(int)\n",
    "data['model_year'] = data['model_year'].astype(int)\n",
    "data['origin'] = data['origin'].astype(int)"
   ]
  },
  {
   "cell_type": "code",
   "execution_count": 49,
   "metadata": {},
   "outputs": [
    {
     "name": "stdout",
     "output_type": "stream",
     "text": [
      "<class 'pandas.core.frame.DataFrame'>\n",
      "RangeIndex: 406 entries, 0 to 405\n",
      "Data columns (total 9 columns):\n",
      " #   Column        Non-Null Count  Dtype \n",
      "---  ------        --------------  ----- \n",
      " 0   mpg           406 non-null    int64 \n",
      " 1   cylinders     406 non-null    int64 \n",
      " 2   displacement  406 non-null    int64 \n",
      " 3   hp            406 non-null    int64 \n",
      " 4   weight        406 non-null    int64 \n",
      " 5   acceleration  406 non-null    int64 \n",
      " 6   model_year    406 non-null    int64 \n",
      " 7   origin        406 non-null    int64 \n",
      " 8   car_name      406 non-null    object\n",
      "dtypes: int64(8), object(1)\n",
      "memory usage: 28.7+ KB\n"
     ]
    }
   ],
   "source": [
    "#Checking the data again\n",
    "\n",
    "data.info()"
   ]
  },
  {
   "cell_type": "code",
   "execution_count": 50,
   "metadata": {},
   "outputs": [
    {
     "data": {
      "text/plain": [
       "mpg             0\n",
       "cylinders       0\n",
       "displacement    0\n",
       "hp              0\n",
       "weight          0\n",
       "acceleration    0\n",
       "model_year      0\n",
       "origin          0\n",
       "car_name        0\n",
       "dtype: int64"
      ]
     },
     "execution_count": 50,
     "metadata": {},
     "output_type": "execute_result"
    }
   ],
   "source": [
    "# Check for any number of missing value\n",
    "data.isnull().sum()"
   ]
  },
  {
   "cell_type": "markdown",
   "metadata": {},
   "source": [
    "# Calculate Similarity for each attribute"
   ]
  },
  {
   "cell_type": "markdown",
   "metadata": {},
   "source": [
    "![](1.png)"
   ]
  },
  {
   "cell_type": "code",
   "execution_count": 61,
   "metadata": {},
   "outputs": [],
   "source": [
    "#Creating numpy array equals the size of data for each columns\n",
    "#To store the similarity between data objects\n",
    "\n",
    "array1 = np.zeros((len(data),len(data)))\n",
    "array2 = np.zeros((len(data),len(data)))\n",
    "array3 = np.zeros((len(data),len(data)))\n",
    "array4 = np.zeros((len(data),len(data)))\n",
    "array5 = np.zeros((len(data),len(data)))\n",
    "array6 = np.zeros((len(data),len(data)))\n",
    "array7 = np.zeros((len(data),len(data)))\n",
    "array8 = np.zeros((len(data),len(data)))\n",
    "array9 = np.zeros((len(data),len(data)))"
   ]
  },
  {
   "cell_type": "code",
   "execution_count": 62,
   "metadata": {},
   "outputs": [
    {
     "data": {
      "text/plain": [
       "array([[0., 0., 0., ..., 0., 0., 0.],\n",
       "       [0., 0., 0., ..., 0., 0., 0.],\n",
       "       [0., 0., 0., ..., 0., 0., 0.],\n",
       "       ...,\n",
       "       [0., 0., 0., ..., 0., 0., 0.],\n",
       "       [0., 0., 0., ..., 0., 0., 0.],\n",
       "       [0., 0., 0., ..., 0., 0., 0.]])"
      ]
     },
     "execution_count": 62,
     "metadata": {},
     "output_type": "execute_result"
    }
   ],
   "source": [
    "array1"
   ]
  },
  {
   "cell_type": "code",
   "execution_count": 63,
   "metadata": {},
   "outputs": [
    {
     "name": "stdout",
     "output_type": "stream",
     "text": [
      "[[1.         0.25       1.         ... 0.06666667 0.09090909 0.07142857]\n",
      " [0.25       1.         0.25       ... 0.05555556 0.07142857 0.05882353]\n",
      " [1.         0.25       1.         ... 0.06666667 0.09090909 0.07142857]\n",
      " ...\n",
      " [0.06666667 0.05555556 0.06666667 ... 1.         0.2        0.5       ]\n",
      " [0.09090909 0.07142857 0.09090909 ... 0.2        1.         0.25      ]\n",
      " [0.07142857 0.05882353 0.07142857 ... 0.5        0.25       1.        ]]\n"
     ]
    }
   ],
   "source": [
    "#Similarity for the attribute 'mpg' (RATIO ATTRIBUTE)\n",
    "\n",
    "#Using d = |p-q|; s = 1/(1+d)\n",
    "\n",
    "s = data['mpg']\n",
    "\n",
    "for i in range(0,406):\n",
    "    for j in range (i,406):\n",
    "        array1[i,j]  =  1/(1+(abs (s[i] - s[j])))\n",
    "        array1[j,i] = 1/(1+(abs (s[i] - s[j])))\n",
    "\n",
    "print(array1)"
   ]
  },
  {
   "cell_type": "code",
   "execution_count": 64,
   "metadata": {
    "scrolled": true
   },
   "outputs": [
    {
     "name": "stdout",
     "output_type": "stream",
     "text": [
      "[[1.  1.  1.  ... 0.2 0.2 0.2]\n",
      " [1.  1.  1.  ... 0.2 0.2 0.2]\n",
      " [1.  1.  1.  ... 0.2 0.2 0.2]\n",
      " ...\n",
      " [0.2 0.2 0.2 ... 1.  1.  1. ]\n",
      " [0.2 0.2 0.2 ... 1.  1.  1. ]\n",
      " [0.2 0.2 0.2 ... 1.  1.  1. ]]\n"
     ]
    }
   ],
   "source": [
    "#Similarity for the attribute 'cylinders' (RATIO ATTRIBUTE)\n",
    "\n",
    "#Using d = |p-q|; s = 1/(1+d)\n",
    "\n",
    "s = data['cylinders']\n",
    "\n",
    "for i in range(0,406):\n",
    "    for j in range (i,406):\n",
    "        array2[i,j]  =  1/(1+(abs (s[i] - s[j])))\n",
    "        array2[j,i] = 1/(1+(abs (s[i] - s[j])))\n",
    "\n",
    "print(array2)"
   ]
  },
  {
   "cell_type": "code",
   "execution_count": 65,
   "metadata": {
    "scrolled": true
   },
   "outputs": [
    {
     "name": "stdout",
     "output_type": "stream",
     "text": [
      "[[1.         0.02272727 0.08333333 ... 0.00578035 0.00531915 0.00529101]\n",
      " [0.02272727 1.         0.03030303 ... 0.00462963 0.004329   0.00431034]\n",
      " [0.08333333 0.03030303 1.         ... 0.00543478 0.00502513 0.005     ]\n",
      " ...\n",
      " [0.00578035 0.00462963 0.00543478 ... 1.         0.0625     0.05882353]\n",
      " [0.00531915 0.004329   0.00502513 ... 0.0625     1.         0.5       ]\n",
      " [0.00529101 0.00431034 0.005      ... 0.05882353 0.5        1.        ]]\n"
     ]
    }
   ],
   "source": [
    "#Similarity for the attribute 'displacement' (RATIO ATTRIBUTE)\n",
    "\n",
    "#Using d = |p-q|; s = 1/(1+d)\n",
    "\n",
    "s = data['displacement']\n",
    "\n",
    "for i in range(0,406):\n",
    "    for j in range (i,406):\n",
    "        array3[i,j]  =  1/(1+(abs (s[i] - s[j])))\n",
    "        array3[j,i] = 1/(1+(abs (s[i] - s[j])))\n",
    "\n",
    "print(array3)"
   ]
  },
  {
   "cell_type": "code",
   "execution_count": 66,
   "metadata": {},
   "outputs": [
    {
     "name": "stdout",
     "output_type": "stream",
     "text": [
      "[[1.         0.02777778 0.04761905 ... 0.0212766  0.01923077 0.02040816]\n",
      " [0.02777778 1.         0.0625     ... 0.01219512 0.01149425 0.01190476]\n",
      " [0.04761905 0.0625     1.         ... 0.01492537 0.01388889 0.01449275]\n",
      " ...\n",
      " [0.0212766  0.01219512 0.01492537 ... 1.         0.16666667 0.33333333]\n",
      " [0.01923077 0.01149425 0.01388889 ... 0.16666667 1.         0.25      ]\n",
      " [0.02040816 0.01190476 0.01449275 ... 0.33333333 0.25       1.        ]]\n"
     ]
    }
   ],
   "source": [
    "#Similarity for the attribute 'hp' (RATIO ATTRIBUTE)\n",
    "\n",
    "#Using d = |p-q|; s = 1/(1+d)\n",
    "\n",
    "s = data['hp']\n",
    "\n",
    "for i in range(0,406):\n",
    "    for j in range (i,406):\n",
    "        array4[i,j]  =  1/(1+(abs (s[i] - s[j])))\n",
    "        array4[j,i] = 1/(1+(abs (s[i] - s[j])))\n",
    "\n",
    "print(array4)"
   ]
  },
  {
   "cell_type": "code",
   "execution_count": 67,
   "metadata": {},
   "outputs": [
    {
     "name": "stdout",
     "output_type": "stream",
     "text": [
      "[[1.00000000e+00 5.26315789e-03 1.44927536e-02 ... 8.26446281e-04\n",
      "  1.13636364e-03 1.27388535e-03]\n",
      " [5.26315789e-03 1.00000000e+00 3.87596899e-03 ... 7.14796283e-04\n",
      "  9.35453695e-04 1.02669405e-03]\n",
      " [1.44927536e-02 3.87596899e-03 1.00000000e+00 ... 8.75656743e-04\n",
      "  1.23152709e-03 1.39470014e-03]\n",
      " ...\n",
      " [8.26446281e-04 7.14796283e-04 8.75656743e-04 ... 1.00000000e+00\n",
      "  3.02114804e-03 2.34741784e-03]\n",
      " [1.13636364e-03 9.35453695e-04 1.23152709e-03 ... 3.02114804e-03\n",
      "  1.00000000e+00 1.04166667e-02]\n",
      " [1.27388535e-03 1.02669405e-03 1.39470014e-03 ... 2.34741784e-03\n",
      "  1.04166667e-02 1.00000000e+00]]\n"
     ]
    }
   ],
   "source": [
    "#Similarity for the attribute 'weight' (RATIO ATTRIBUTE)\n",
    "\n",
    "#Using d = |p-q|; s = 1/(1+d)\n",
    "\n",
    "s = data['weight']\n",
    "\n",
    "for i in range(0,406):\n",
    "    for j in range (i,406):\n",
    "        array5[i,j]  =  1/(1+(abs (s[i] - s[j])))\n",
    "        array5[j,i] = 1/(1+(abs (s[i] - s[j])))\n",
    "\n",
    "print(array5)"
   ]
  },
  {
   "cell_type": "code",
   "execution_count": 68,
   "metadata": {},
   "outputs": [
    {
     "name": "stdout",
     "output_type": "stream",
     "text": [
      "[[1.         0.5        0.5        ... 0.5        0.14285714 0.125     ]\n",
      " [0.5        1.         1.         ... 1.         0.125      0.11111111]\n",
      " [0.5        1.         1.         ... 1.         0.125      0.11111111]\n",
      " ...\n",
      " [0.5        1.         1.         ... 1.         0.125      0.11111111]\n",
      " [0.14285714 0.125      0.125      ... 0.125      1.         0.5       ]\n",
      " [0.125      0.11111111 0.11111111 ... 0.11111111 0.5        1.        ]]\n"
     ]
    }
   ],
   "source": [
    "#Similarity for the attribute 'acceleration' (RATIO ATTRIBUTE)\n",
    "\n",
    "#Using d = |p-q|; s = 1/(1+d)\n",
    "\n",
    "s = data['acceleration']\n",
    "\n",
    "for i in range(0,406):\n",
    "    for j in range (i,406):\n",
    "        array6[i,j]  =  1/(1+(abs (s[i] - s[j])))\n",
    "        array6[j,i] = 1/(1+(abs (s[i] - s[j])))\n",
    "\n",
    "print(array6)"
   ]
  },
  {
   "cell_type": "code",
   "execution_count": 69,
   "metadata": {},
   "outputs": [
    {
     "name": "stdout",
     "output_type": "stream",
     "text": [
      "[[1.         1.         1.         ... 0.07692308 0.07692308 0.07692308]\n",
      " [1.         1.         1.         ... 0.07692308 0.07692308 0.07692308]\n",
      " [1.         1.         1.         ... 0.07692308 0.07692308 0.07692308]\n",
      " ...\n",
      " [0.07692308 0.07692308 0.07692308 ... 1.         1.         1.        ]\n",
      " [0.07692308 0.07692308 0.07692308 ... 1.         1.         1.        ]\n",
      " [0.07692308 0.07692308 0.07692308 ... 1.         1.         1.        ]]\n"
     ]
    }
   ],
   "source": [
    "#Similarity for the attribute 'model_year' (RATIO ATTRIBUTE)\n",
    "\n",
    "#Using d = |p-q|; s = 1/(1+d)\n",
    "\n",
    "s = data['model_year']\n",
    "\n",
    "for i in range(0,406):\n",
    "    for j in range (i,406):\n",
    "        array7[i,j]  =  1/(1+(abs (s[i] - s[j])))\n",
    "        array7[j,i] = 1/(1+(abs (s[i] - s[j])))\n",
    "\n",
    "print(array7)"
   ]
  },
  {
   "cell_type": "code",
   "execution_count": 70,
   "metadata": {},
   "outputs": [
    {
     "name": "stdout",
     "output_type": "stream",
     "text": [
      "[[1. 1. 1. ... 1. 1. 1.]\n",
      " [1. 1. 1. ... 1. 1. 1.]\n",
      " [1. 1. 1. ... 1. 1. 1.]\n",
      " ...\n",
      " [1. 1. 1. ... 1. 1. 1.]\n",
      " [1. 1. 1. ... 1. 1. 1.]\n",
      " [1. 1. 1. ... 1. 1. 1.]]\n"
     ]
    }
   ],
   "source": [
    "#Similarity for the attribute 'origin' (RATIO ATTRIBUTE)\n",
    "\n",
    "#Using d = |p-q|; s = 1/(1+d)\n",
    "\n",
    "s = data['origin']\n",
    "\n",
    "for i in range(0,406):\n",
    "    for j in range (i,406):\n",
    "        array8[i,j]  =  1/(1+(abs (s[i] - s[j])))\n",
    "        array8[j,i] = 1/(1+(abs (s[i] - s[j])))\n",
    "\n",
    "print(array8)"
   ]
  },
  {
   "cell_type": "code",
   "execution_count": 73,
   "metadata": {},
   "outputs": [
    {
     "name": "stdout",
     "output_type": "stream",
     "text": [
      "[[1. 0. 0. ... 0. 0. 0.]\n",
      " [0. 1. 0. ... 0. 0. 0.]\n",
      " [0. 0. 1. ... 0. 0. 0.]\n",
      " ...\n",
      " [0. 0. 0. ... 1. 0. 0.]\n",
      " [0. 0. 0. ... 0. 1. 0.]\n",
      " [0. 0. 0. ... 0. 0. 1.]]\n"
     ]
    }
   ],
   "source": [
    "#Similarity for the attribute  'car_name'(NOMINAL ATTRIBUTE)\n",
    "\n",
    "#Using s = 1 if p=q; s=0 if p!=q\n",
    "\n",
    "s = data['car_name']\n",
    "\n",
    "for i in range(0,406):\n",
    "    for j in range (i,406):\n",
    "        if s [i] == s[j]:\n",
    "            array9[i,j] = 1\n",
    "            array9[j,i] = 1\n",
    "    \n",
    "        else:\n",
    "            array9[i,j] = 0\n",
    "            array9[j,i] = 0\n",
    "\n",
    "print(array9)"
   ]
  },
  {
   "cell_type": "markdown",
   "metadata": {},
   "source": [
    "# Combining Similarity"
   ]
  },
  {
   "cell_type": "markdown",
   "metadata": {},
   "source": [
    "![](2.png)"
   ]
  },
  {
   "cell_type": "code",
   "execution_count": 74,
   "metadata": {},
   "outputs": [],
   "source": [
    "#Creating Dataframe to store similairty value of each data objects attribute-wise\n",
    "\n",
    "mat1 = pd.DataFrame(array1)\n",
    "mat2 = pd.DataFrame(array2)\n",
    "mat3 = pd.DataFrame(array3)\n",
    "mat4 = pd.DataFrame(array4)\n",
    "mat5 = pd.DataFrame(array5)\n",
    "mat6 = pd.DataFrame(array6)\n",
    "mat7 = pd.DataFrame(array7)\n",
    "mat8 = pd.DataFrame(array8)\n",
    "mat9 = pd.DataFrame(array9)\n",
    "z = np.zeros((len(data),len(data)))\n",
    "final_matrix = pd.DataFrame(z)"
   ]
  },
  {
   "cell_type": "code",
   "execution_count": 75,
   "metadata": {},
   "outputs": [],
   "source": [
    "# Using combining similiraty formula to combine the similarity between attributes\n",
    "# In formula, del(k) value equals 1 because the values does not equals zero or have missing values\n",
    "\n",
    "d = 1\n",
    "for i in range(len(data)):\n",
    "    for j in range(i,len(data)):\n",
    "        z[i,j] = z[j,i] = (d*mat1.loc[i,j]+d*mat2.loc[i,j]+d*mat3.loc[i,j]+d*mat4.loc[i,j]+d*mat5.loc[i,j]\n",
    "                          +d*mat6.loc[i,j]+d*mat7.loc[i,j]+d*mat8.loc[i,j]+d*mat9.loc[i,j])/9"
   ]
  },
  {
   "cell_type": "code",
   "execution_count": 76,
   "metadata": {},
   "outputs": [
    {
     "data": {
      "text/plain": [
       "array([[1.        , 0.42286313, 0.51616057, ..., 0.20794146, 0.1707084 ,\n",
       "        0.16670274],\n",
       "       [0.42286313, 1.        , 0.48296433, ..., 0.26111313, 0.16556782,\n",
       "        0.16267772],\n",
       "       [0.51616057, 0.48296433, 1.        , ..., 0.2627584 , 0.16810863,\n",
       "        0.16448336],\n",
       "       ...,\n",
       "       [0.20794146, 0.26111313, 0.2627584 , ..., 1.        , 0.39524309,\n",
       "        0.44506838],\n",
       "       [0.1707084 , 0.16556782, 0.16810863, ..., 0.39524309, 1.        ,\n",
       "        0.50115741],\n",
       "       [0.16670274, 0.16267772, 0.16448336, ..., 0.44506838, 0.50115741,\n",
       "        1.        ]])"
      ]
     },
     "execution_count": 76,
     "metadata": {},
     "output_type": "execute_result"
    }
   ],
   "source": [
    "#Checking combined similarity value\n",
    "z"
   ]
  },
  {
   "cell_type": "code",
   "execution_count": 77,
   "metadata": {},
   "outputs": [],
   "source": [
    "#Creating Dataframe for the final values\n",
    "final_matrix = pd.DataFrame(z)"
   ]
  },
  {
   "cell_type": "code",
   "execution_count": 78,
   "metadata": {},
   "outputs": [
    {
     "data": {
      "text/html": [
       "<div>\n",
       "<style scoped>\n",
       "    .dataframe tbody tr th:only-of-type {\n",
       "        vertical-align: middle;\n",
       "    }\n",
       "\n",
       "    .dataframe tbody tr th {\n",
       "        vertical-align: top;\n",
       "    }\n",
       "\n",
       "    .dataframe thead th {\n",
       "        text-align: right;\n",
       "    }\n",
       "</style>\n",
       "<table border=\"1\" class=\"dataframe\">\n",
       "  <thead>\n",
       "    <tr style=\"text-align: right;\">\n",
       "      <th></th>\n",
       "      <th>0</th>\n",
       "      <th>1</th>\n",
       "      <th>2</th>\n",
       "      <th>3</th>\n",
       "      <th>4</th>\n",
       "      <th>5</th>\n",
       "      <th>6</th>\n",
       "      <th>7</th>\n",
       "      <th>8</th>\n",
       "      <th>9</th>\n",
       "      <th>...</th>\n",
       "      <th>396</th>\n",
       "      <th>397</th>\n",
       "      <th>398</th>\n",
       "      <th>399</th>\n",
       "      <th>400</th>\n",
       "      <th>401</th>\n",
       "      <th>402</th>\n",
       "      <th>403</th>\n",
       "      <th>404</th>\n",
       "      <th>405</th>\n",
       "    </tr>\n",
       "  </thead>\n",
       "  <tbody>\n",
       "    <tr>\n",
       "      <th>0</th>\n",
       "      <td>1.000000</td>\n",
       "      <td>0.422863</td>\n",
       "      <td>0.516161</td>\n",
       "      <td>0.516093</td>\n",
       "      <td>0.456530</td>\n",
       "      <td>0.400794</td>\n",
       "      <td>0.385436</td>\n",
       "      <td>0.380036</td>\n",
       "      <td>0.394616</td>\n",
       "      <td>0.386798</td>\n",
       "      <td>...</td>\n",
       "      <td>0.194964</td>\n",
       "      <td>0.223430</td>\n",
       "      <td>0.134754</td>\n",
       "      <td>0.206388</td>\n",
       "      <td>0.175128</td>\n",
       "      <td>0.184055</td>\n",
       "      <td>0.101001</td>\n",
       "      <td>0.207941</td>\n",
       "      <td>0.170708</td>\n",
       "      <td>0.166703</td>\n",
       "    </tr>\n",
       "    <tr>\n",
       "      <th>1</th>\n",
       "      <td>0.422863</td>\n",
       "      <td>1.000000</td>\n",
       "      <td>0.482964</td>\n",
       "      <td>0.454179</td>\n",
       "      <td>0.432921</td>\n",
       "      <td>0.504828</td>\n",
       "      <td>0.429136</td>\n",
       "      <td>0.420246</td>\n",
       "      <td>0.447466</td>\n",
       "      <td>0.479909</td>\n",
       "      <td>...</td>\n",
       "      <td>0.181089</td>\n",
       "      <td>0.201482</td>\n",
       "      <td>0.113248</td>\n",
       "      <td>0.185921</td>\n",
       "      <td>0.168467</td>\n",
       "      <td>0.174688</td>\n",
       "      <td>0.099448</td>\n",
       "      <td>0.261113</td>\n",
       "      <td>0.165568</td>\n",
       "      <td>0.162678</td>\n",
       "    </tr>\n",
       "    <tr>\n",
       "      <th>2</th>\n",
       "      <td>0.516161</td>\n",
       "      <td>0.482964</td>\n",
       "      <td>1.000000</td>\n",
       "      <td>0.572222</td>\n",
       "      <td>0.469018</td>\n",
       "      <td>0.420049</td>\n",
       "      <td>0.395089</td>\n",
       "      <td>0.386047</td>\n",
       "      <td>0.413490</td>\n",
       "      <td>0.393389</td>\n",
       "      <td>...</td>\n",
       "      <td>0.184699</td>\n",
       "      <td>0.211006</td>\n",
       "      <td>0.115050</td>\n",
       "      <td>0.187132</td>\n",
       "      <td>0.171575</td>\n",
       "      <td>0.177716</td>\n",
       "      <td>0.100084</td>\n",
       "      <td>0.262758</td>\n",
       "      <td>0.168109</td>\n",
       "      <td>0.164483</td>\n",
       "    </tr>\n",
       "    <tr>\n",
       "      <th>3</th>\n",
       "      <td>0.516093</td>\n",
       "      <td>0.454179</td>\n",
       "      <td>0.572222</td>\n",
       "      <td>1.000000</td>\n",
       "      <td>0.479600</td>\n",
       "      <td>0.429198</td>\n",
       "      <td>0.400569</td>\n",
       "      <td>0.395213</td>\n",
       "      <td>0.409712</td>\n",
       "      <td>0.415364</td>\n",
       "      <td>...</td>\n",
       "      <td>0.191778</td>\n",
       "      <td>0.214162</td>\n",
       "      <td>0.132753</td>\n",
       "      <td>0.205143</td>\n",
       "      <td>0.172431</td>\n",
       "      <td>0.181473</td>\n",
       "      <td>0.100445</td>\n",
       "      <td>0.206381</td>\n",
       "      <td>0.168582</td>\n",
       "      <td>0.165077</td>\n",
       "    </tr>\n",
       "    <tr>\n",
       "      <th>4</th>\n",
       "      <td>0.456530</td>\n",
       "      <td>0.432921</td>\n",
       "      <td>0.469018</td>\n",
       "      <td>0.479600</td>\n",
       "      <td>1.000000</td>\n",
       "      <td>0.484357</td>\n",
       "      <td>0.418887</td>\n",
       "      <td>0.400538</td>\n",
       "      <td>0.474349</td>\n",
       "      <td>0.411111</td>\n",
       "      <td>...</td>\n",
       "      <td>0.178366</td>\n",
       "      <td>0.203013</td>\n",
       "      <td>0.105838</td>\n",
       "      <td>0.177927</td>\n",
       "      <td>0.169002</td>\n",
       "      <td>0.173370</td>\n",
       "      <td>0.099572</td>\n",
       "      <td>0.207087</td>\n",
       "      <td>0.166019</td>\n",
       "      <td>0.163038</td>\n",
       "    </tr>\n",
       "    <tr>\n",
       "      <th>...</th>\n",
       "      <td>...</td>\n",
       "      <td>...</td>\n",
       "      <td>...</td>\n",
       "      <td>...</td>\n",
       "      <td>...</td>\n",
       "      <td>...</td>\n",
       "      <td>...</td>\n",
       "      <td>...</td>\n",
       "      <td>...</td>\n",
       "      <td>...</td>\n",
       "      <td>...</td>\n",
       "      <td>...</td>\n",
       "      <td>...</td>\n",
       "      <td>...</td>\n",
       "      <td>...</td>\n",
       "      <td>...</td>\n",
       "      <td>...</td>\n",
       "      <td>...</td>\n",
       "      <td>...</td>\n",
       "      <td>...</td>\n",
       "      <td>...</td>\n",
       "    </tr>\n",
       "    <tr>\n",
       "      <th>401</th>\n",
       "      <td>0.184055</td>\n",
       "      <td>0.174688</td>\n",
       "      <td>0.177716</td>\n",
       "      <td>0.181473</td>\n",
       "      <td>0.173370</td>\n",
       "      <td>0.170384</td>\n",
       "      <td>0.166937</td>\n",
       "      <td>0.165003</td>\n",
       "      <td>0.169549</td>\n",
       "      <td>0.165922</td>\n",
       "      <td>...</td>\n",
       "      <td>0.467393</td>\n",
       "      <td>0.341059</td>\n",
       "      <td>0.348020</td>\n",
       "      <td>0.437301</td>\n",
       "      <td>0.513653</td>\n",
       "      <td>1.000000</td>\n",
       "      <td>0.300930</td>\n",
       "      <td>0.429854</td>\n",
       "      <td>0.436516</td>\n",
       "      <td>0.406615</td>\n",
       "    </tr>\n",
       "    <tr>\n",
       "      <th>402</th>\n",
       "      <td>0.101001</td>\n",
       "      <td>0.099448</td>\n",
       "      <td>0.100084</td>\n",
       "      <td>0.100445</td>\n",
       "      <td>0.099572</td>\n",
       "      <td>0.098576</td>\n",
       "      <td>0.097871</td>\n",
       "      <td>0.097496</td>\n",
       "      <td>0.098313</td>\n",
       "      <td>0.097806</td>\n",
       "      <td>...</td>\n",
       "      <td>0.298532</td>\n",
       "      <td>0.221431</td>\n",
       "      <td>0.300575</td>\n",
       "      <td>0.306060</td>\n",
       "      <td>0.302844</td>\n",
       "      <td>0.300930</td>\n",
       "      <td>1.000000</td>\n",
       "      <td>0.301147</td>\n",
       "      <td>0.309009</td>\n",
       "      <td>0.312836</td>\n",
       "    </tr>\n",
       "    <tr>\n",
       "      <th>403</th>\n",
       "      <td>0.207941</td>\n",
       "      <td>0.261113</td>\n",
       "      <td>0.262758</td>\n",
       "      <td>0.206381</td>\n",
       "      <td>0.207087</td>\n",
       "      <td>0.205006</td>\n",
       "      <td>0.185978</td>\n",
       "      <td>0.176766</td>\n",
       "      <td>0.204465</td>\n",
       "      <td>0.177375</td>\n",
       "      <td>...</td>\n",
       "      <td>0.394762</td>\n",
       "      <td>0.302309</td>\n",
       "      <td>0.427365</td>\n",
       "      <td>0.616277</td>\n",
       "      <td>0.390303</td>\n",
       "      <td>0.429854</td>\n",
       "      <td>0.301147</td>\n",
       "      <td>1.000000</td>\n",
       "      <td>0.395243</td>\n",
       "      <td>0.445068</td>\n",
       "    </tr>\n",
       "    <tr>\n",
       "      <th>404</th>\n",
       "      <td>0.170708</td>\n",
       "      <td>0.165568</td>\n",
       "      <td>0.168109</td>\n",
       "      <td>0.168582</td>\n",
       "      <td>0.166019</td>\n",
       "      <td>0.163512</td>\n",
       "      <td>0.161577</td>\n",
       "      <td>0.160612</td>\n",
       "      <td>0.162782</td>\n",
       "      <td>0.161411</td>\n",
       "      <td>...</td>\n",
       "      <td>0.406242</td>\n",
       "      <td>0.302132</td>\n",
       "      <td>0.313327</td>\n",
       "      <td>0.390095</td>\n",
       "      <td>0.457517</td>\n",
       "      <td>0.436516</td>\n",
       "      <td>0.309009</td>\n",
       "      <td>0.395243</td>\n",
       "      <td>1.000000</td>\n",
       "      <td>0.501157</td>\n",
       "    </tr>\n",
       "    <tr>\n",
       "      <th>405</th>\n",
       "      <td>0.166703</td>\n",
       "      <td>0.162678</td>\n",
       "      <td>0.164483</td>\n",
       "      <td>0.165077</td>\n",
       "      <td>0.163038</td>\n",
       "      <td>0.160903</td>\n",
       "      <td>0.159352</td>\n",
       "      <td>0.158556</td>\n",
       "      <td>0.160331</td>\n",
       "      <td>0.159202</td>\n",
       "      <td>...</td>\n",
       "      <td>0.384212</td>\n",
       "      <td>0.294406</td>\n",
       "      <td>0.344353</td>\n",
       "      <td>0.411614</td>\n",
       "      <td>0.408786</td>\n",
       "      <td>0.406615</td>\n",
       "      <td>0.312836</td>\n",
       "      <td>0.445068</td>\n",
       "      <td>0.501157</td>\n",
       "      <td>1.000000</td>\n",
       "    </tr>\n",
       "  </tbody>\n",
       "</table>\n",
       "<p>406 rows × 406 columns</p>\n",
       "</div>"
      ],
      "text/plain": [
       "          0         1         2         3         4         5         6    \\\n",
       "0    1.000000  0.422863  0.516161  0.516093  0.456530  0.400794  0.385436   \n",
       "1    0.422863  1.000000  0.482964  0.454179  0.432921  0.504828  0.429136   \n",
       "2    0.516161  0.482964  1.000000  0.572222  0.469018  0.420049  0.395089   \n",
       "3    0.516093  0.454179  0.572222  1.000000  0.479600  0.429198  0.400569   \n",
       "4    0.456530  0.432921  0.469018  0.479600  1.000000  0.484357  0.418887   \n",
       "..        ...       ...       ...       ...       ...       ...       ...   \n",
       "401  0.184055  0.174688  0.177716  0.181473  0.173370  0.170384  0.166937   \n",
       "402  0.101001  0.099448  0.100084  0.100445  0.099572  0.098576  0.097871   \n",
       "403  0.207941  0.261113  0.262758  0.206381  0.207087  0.205006  0.185978   \n",
       "404  0.170708  0.165568  0.168109  0.168582  0.166019  0.163512  0.161577   \n",
       "405  0.166703  0.162678  0.164483  0.165077  0.163038  0.160903  0.159352   \n",
       "\n",
       "          7         8         9    ...       396       397       398  \\\n",
       "0    0.380036  0.394616  0.386798  ...  0.194964  0.223430  0.134754   \n",
       "1    0.420246  0.447466  0.479909  ...  0.181089  0.201482  0.113248   \n",
       "2    0.386047  0.413490  0.393389  ...  0.184699  0.211006  0.115050   \n",
       "3    0.395213  0.409712  0.415364  ...  0.191778  0.214162  0.132753   \n",
       "4    0.400538  0.474349  0.411111  ...  0.178366  0.203013  0.105838   \n",
       "..        ...       ...       ...  ...       ...       ...       ...   \n",
       "401  0.165003  0.169549  0.165922  ...  0.467393  0.341059  0.348020   \n",
       "402  0.097496  0.098313  0.097806  ...  0.298532  0.221431  0.300575   \n",
       "403  0.176766  0.204465  0.177375  ...  0.394762  0.302309  0.427365   \n",
       "404  0.160612  0.162782  0.161411  ...  0.406242  0.302132  0.313327   \n",
       "405  0.158556  0.160331  0.159202  ...  0.384212  0.294406  0.344353   \n",
       "\n",
       "          399       400       401       402       403       404       405  \n",
       "0    0.206388  0.175128  0.184055  0.101001  0.207941  0.170708  0.166703  \n",
       "1    0.185921  0.168467  0.174688  0.099448  0.261113  0.165568  0.162678  \n",
       "2    0.187132  0.171575  0.177716  0.100084  0.262758  0.168109  0.164483  \n",
       "3    0.205143  0.172431  0.181473  0.100445  0.206381  0.168582  0.165077  \n",
       "4    0.177927  0.169002  0.173370  0.099572  0.207087  0.166019  0.163038  \n",
       "..        ...       ...       ...       ...       ...       ...       ...  \n",
       "401  0.437301  0.513653  1.000000  0.300930  0.429854  0.436516  0.406615  \n",
       "402  0.306060  0.302844  0.300930  1.000000  0.301147  0.309009  0.312836  \n",
       "403  0.616277  0.390303  0.429854  0.301147  1.000000  0.395243  0.445068  \n",
       "404  0.390095  0.457517  0.436516  0.309009  0.395243  1.000000  0.501157  \n",
       "405  0.411614  0.408786  0.406615  0.312836  0.445068  0.501157  1.000000  \n",
       "\n",
       "[406 rows x 406 columns]"
      ]
     },
     "execution_count": 78,
     "metadata": {},
     "output_type": "execute_result"
    }
   ],
   "source": [
    "final_matrix"
   ]
  },
  {
   "cell_type": "code",
   "execution_count": 79,
   "metadata": {},
   "outputs": [],
   "source": [
    "#Writing the combined similarity to output file\n",
    "final_matrix.to_csv('Similarity Matrix.csv')"
   ]
  }
 ],
 "metadata": {
  "kernelspec": {
   "display_name": "Python 3",
   "language": "python",
   "name": "python3"
  },
  "language_info": {
   "codemirror_mode": {
    "name": "ipython",
    "version": 3
   },
   "file_extension": ".py",
   "mimetype": "text/x-python",
   "name": "python",
   "nbconvert_exporter": "python",
   "pygments_lexer": "ipython3",
   "version": "3.8.8"
  },
  "varInspector": {
   "cols": {
    "lenName": 16,
    "lenType": 16,
    "lenVar": 40
   },
   "kernels_config": {
    "python": {
     "delete_cmd_postfix": "",
     "delete_cmd_prefix": "del ",
     "library": "var_list.py",
     "varRefreshCmd": "print(var_dic_list())"
    },
    "r": {
     "delete_cmd_postfix": ") ",
     "delete_cmd_prefix": "rm(",
     "library": "var_list.r",
     "varRefreshCmd": "cat(var_dic_list()) "
    }
   },
   "types_to_exclude": [
    "module",
    "function",
    "builtin_function_or_method",
    "instance",
    "_Feature"
   ],
   "window_display": false
  }
 },
 "nbformat": 4,
 "nbformat_minor": 2
}
