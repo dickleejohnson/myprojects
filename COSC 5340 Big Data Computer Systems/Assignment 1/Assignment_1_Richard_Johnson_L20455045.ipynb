{
 "cells": [
  {
   "cell_type": "markdown",
   "id": "d3b75b5e",
   "metadata": {},
   "source": [
    "Richard Johnson\n",
    "L20455045\n",
    "COSC 5340 Big Data Computer Systems\n",
    "Assignment 1\n",
    "15 Feb 2021\n",
    "Professor Jiangjiang Liu"
   ]
  },
  {
   "cell_type": "code",
   "execution_count": 45,
   "id": "48183a30",
   "metadata": {},
   "outputs": [],
   "source": [
    "#Importing required library\n",
    "import numpy as np\n",
    "from numpy import percentile\n",
    "import pandas as pd\n",
    "import matplotlib.pyplot as plt"
   ]
  },
  {
   "cell_type": "markdown",
   "id": "84b9092a",
   "metadata": {},
   "source": [
    "Page 80 Question 2.2 a-f [30] \n",
    "Suppose that the data for analysis includes the attribute age. The age values for the data\n",
    "tuples are (in increasing order) 13, 15, 16, 16, 19, 20, 20, 21, 22, 22, 25, 25, 25, 25, 30,\n",
    "33, 33, 35, 35, 35, 35, 36, 40, 45, 46, 52, 70.\n",
    "(a) What is the mean of the data? What is the median?\n",
    "(b) What is the mode of the data? Comment on the data’s modality (i.e., bimodal,\n",
    "trimodal, etc.).\n",
    "(c) What is the midrange of the data?\n",
    "(d) Can you find (roughly) the first quartile (Q1) and the third quartile (Q3) of the data?\n",
    "(e) Give the five-number summary of the data.\n",
    "(f) Show a boxplot of the data."
   ]
  },
  {
   "cell_type": "code",
   "execution_count": 36,
   "id": "7bf71ad9",
   "metadata": {},
   "outputs": [],
   "source": [
    "age = [13, 15, 16, 16, 19, 20, 20, 21, 22, 22, 25, 25, 25, 25, 30, 33, 33, 35, 35, 35, 35,\n",
    "      36, 40, 45, 46, 52, 70]"
   ]
  },
  {
   "cell_type": "code",
   "execution_count": 37,
   "id": "2f0273bc",
   "metadata": {},
   "outputs": [],
   "source": [
    "df = pd.DataFrame(age)"
   ]
  },
  {
   "cell_type": "code",
   "execution_count": 38,
   "id": "006c6816",
   "metadata": {},
   "outputs": [
    {
     "data": {
      "text/plain": [
       "0    29.962963\n",
       "dtype: float64"
      ]
     },
     "execution_count": 38,
     "metadata": {},
     "output_type": "execute_result"
    }
   ],
   "source": [
    "#a) What is the mean of the data?\n",
    "mean = df.mean(axis=0)\n",
    "mean"
   ]
  },
  {
   "cell_type": "code",
   "execution_count": 39,
   "id": "64b468d0",
   "metadata": {},
   "outputs": [
    {
     "data": {
      "text/plain": [
       "0    25.0\n",
       "dtype: float64"
      ]
     },
     "execution_count": 39,
     "metadata": {},
     "output_type": "execute_result"
    }
   ],
   "source": [
    "#a) What is the median?\n",
    "median = df.median(axis=0)\n",
    "median"
   ]
  },
  {
   "cell_type": "code",
   "execution_count": 40,
   "id": "128e6bdf",
   "metadata": {},
   "outputs": [
    {
     "data": {
      "text/html": [
       "<div>\n",
       "<style scoped>\n",
       "    .dataframe tbody tr th:only-of-type {\n",
       "        vertical-align: middle;\n",
       "    }\n",
       "\n",
       "    .dataframe tbody tr th {\n",
       "        vertical-align: top;\n",
       "    }\n",
       "\n",
       "    .dataframe thead th {\n",
       "        text-align: right;\n",
       "    }\n",
       "</style>\n",
       "<table border=\"1\" class=\"dataframe\">\n",
       "  <thead>\n",
       "    <tr style=\"text-align: right;\">\n",
       "      <th></th>\n",
       "      <th>0</th>\n",
       "    </tr>\n",
       "  </thead>\n",
       "  <tbody>\n",
       "    <tr>\n",
       "      <th>0</th>\n",
       "      <td>25</td>\n",
       "    </tr>\n",
       "    <tr>\n",
       "      <th>1</th>\n",
       "      <td>35</td>\n",
       "    </tr>\n",
       "  </tbody>\n",
       "</table>\n",
       "</div>"
      ],
      "text/plain": [
       "    0\n",
       "0  25\n",
       "1  35"
      ]
     },
     "execution_count": 40,
     "metadata": {},
     "output_type": "execute_result"
    }
   ],
   "source": [
    "#b) What is the mode of he data?\n",
    "mode = df.mode(axis=0)\n",
    "mode"
   ]
  },
  {
   "cell_type": "markdown",
   "id": "adfd02cd",
   "metadata": {},
   "source": [
    "This data is bimodal"
   ]
  },
  {
   "cell_type": "code",
   "execution_count": 41,
   "id": "c12be9f0",
   "metadata": {},
   "outputs": [
    {
     "data": {
      "text/plain": [
       "0    57\n",
       "dtype: int64"
      ]
     },
     "execution_count": 41,
     "metadata": {},
     "output_type": "execute_result"
    }
   ],
   "source": [
    "#c) What is the midrange of the data?\n",
    "max = df.max(axis=0)\n",
    "min = df.min(axis=0)\n",
    "\n",
    "midrange = max - min\n",
    "midrange"
   ]
  },
  {
   "cell_type": "code",
   "execution_count": 43,
   "id": "66637f1d",
   "metadata": {},
   "outputs": [
    {
     "data": {
      "text/plain": [
       "array([20.5, 35. ])"
      ]
     },
     "execution_count": 43,
     "metadata": {},
     "output_type": "execute_result"
    }
   ],
   "source": [
    "#d) Can you find (roughly) the first quartile (Q1) and the third quartile (Q3) of the data?\n",
    "quartiles = percentile(df, [25, 75])\n",
    "quartiles"
   ]
  },
  {
   "cell_type": "code",
   "execution_count": 44,
   "id": "abc5e6b6",
   "metadata": {},
   "outputs": [
    {
     "name": "stdout",
     "output_type": "stream",
     "text": [
      "Min: 13.000\n",
      "Q1: 20.500\n",
      "Median: 25.000\n",
      "Q3: 35.000\n",
      "Max: 70.000\n"
     ]
    }
   ],
   "source": [
    "#e) Give the five-number summary of the data\n",
    "print('Min: %.3f' % min)\n",
    "print('Q1: %.3f' % quartiles[0])\n",
    "print('Median: %.3f' % median)\n",
    "print('Q3: %.3f' % quartiles[1])\n",
    "print('Max: %.3f' % max)"
   ]
  },
  {
   "cell_type": "code",
   "execution_count": 63,
   "id": "e024d949",
   "metadata": {},
   "outputs": [
    {
     "data": {
      "image/png": "[encoded data removed]",
      "text/plain": [
       "<Figure size 432x288 with 1 Axes>"
      ]
     },
     "metadata": {
      "needs_background": "light"
     },
     "output_type": "display_data"
    }
   ],
   "source": [
    "#f) Show a boxplot of the data\n",
    "plot = df.boxplot()"
   ]
  },
  {
   "cell_type": "markdown",
   "id": "86e9f00d",
   "metadata": {},
   "source": [
    "Page 80 Question 2.4 a-b [20]\n",
    "Suppose that a hospital tested the age and body fat data for 18 randomly selected adults\n",
    "with the following results:\n",
    "\n",
    "age 23 23 27 27 39 41 47 49 50\n",
    "\n",
    "%fat 9.5 26.5 7.8 17.8 31.4 25.9 27.4 27.2 31.2\n",
    "\n",
    "age 52 54 54 56 57 58 58 60 61\n",
    "\n",
    "%fat 34.6 42.5 28.8 33.4 30.2 34.1 32.9 41.2 35.7\n",
    "\n",
    "(a) Calculate the mean, median, and standard deviation of age and %fat.\n",
    "\n",
    "(b) Draw the boxplots for age and %fat."
   ]
  },
  {
   "cell_type": "code",
   "execution_count": 48,
   "id": "06e3fff5",
   "metadata": {},
   "outputs": [
    {
     "data": {
      "text/html": [
       "<div>\n",
       "<style scoped>\n",
       "    .dataframe tbody tr th:only-of-type {\n",
       "        vertical-align: middle;\n",
       "    }\n",
       "\n",
       "    .dataframe tbody tr th {\n",
       "        vertical-align: top;\n",
       "    }\n",
       "\n",
       "    .dataframe thead th {\n",
       "        text-align: right;\n",
       "    }\n",
       "</style>\n",
       "<table border=\"1\" class=\"dataframe\">\n",
       "  <thead>\n",
       "    <tr style=\"text-align: right;\">\n",
       "      <th></th>\n",
       "      <th>Age</th>\n",
       "      <th>%Fat</th>\n",
       "    </tr>\n",
       "  </thead>\n",
       "  <tbody>\n",
       "    <tr>\n",
       "      <th>0</th>\n",
       "      <td>23</td>\n",
       "      <td>9.5</td>\n",
       "    </tr>\n",
       "    <tr>\n",
       "      <th>1</th>\n",
       "      <td>23</td>\n",
       "      <td>26.5</td>\n",
       "    </tr>\n",
       "    <tr>\n",
       "      <th>2</th>\n",
       "      <td>27</td>\n",
       "      <td>7.8</td>\n",
       "    </tr>\n",
       "    <tr>\n",
       "      <th>3</th>\n",
       "      <td>27</td>\n",
       "      <td>17.8</td>\n",
       "    </tr>\n",
       "    <tr>\n",
       "      <th>4</th>\n",
       "      <td>39</td>\n",
       "      <td>31.4</td>\n",
       "    </tr>\n",
       "    <tr>\n",
       "      <th>5</th>\n",
       "      <td>41</td>\n",
       "      <td>25.9</td>\n",
       "    </tr>\n",
       "    <tr>\n",
       "      <th>6</th>\n",
       "      <td>47</td>\n",
       "      <td>27.4</td>\n",
       "    </tr>\n",
       "    <tr>\n",
       "      <th>7</th>\n",
       "      <td>50</td>\n",
       "      <td>31.2</td>\n",
       "    </tr>\n",
       "    <tr>\n",
       "      <th>8</th>\n",
       "      <td>52</td>\n",
       "      <td>34.6</td>\n",
       "    </tr>\n",
       "    <tr>\n",
       "      <th>9</th>\n",
       "      <td>54</td>\n",
       "      <td>42.5</td>\n",
       "    </tr>\n",
       "    <tr>\n",
       "      <th>10</th>\n",
       "      <td>54</td>\n",
       "      <td>28.8</td>\n",
       "    </tr>\n",
       "    <tr>\n",
       "      <th>11</th>\n",
       "      <td>56</td>\n",
       "      <td>33.4</td>\n",
       "    </tr>\n",
       "    <tr>\n",
       "      <th>12</th>\n",
       "      <td>57</td>\n",
       "      <td>30.2</td>\n",
       "    </tr>\n",
       "    <tr>\n",
       "      <th>13</th>\n",
       "      <td>58</td>\n",
       "      <td>34.1</td>\n",
       "    </tr>\n",
       "    <tr>\n",
       "      <th>14</th>\n",
       "      <td>58</td>\n",
       "      <td>32.9</td>\n",
       "    </tr>\n",
       "    <tr>\n",
       "      <th>15</th>\n",
       "      <td>60</td>\n",
       "      <td>41.2</td>\n",
       "    </tr>\n",
       "    <tr>\n",
       "      <th>16</th>\n",
       "      <td>61</td>\n",
       "      <td>35.7</td>\n",
       "    </tr>\n",
       "  </tbody>\n",
       "</table>\n",
       "</div>"
      ],
      "text/plain": [
       "    Age  %Fat\n",
       "0    23   9.5\n",
       "1    23  26.5\n",
       "2    27   7.8\n",
       "3    27  17.8\n",
       "4    39  31.4\n",
       "5    41  25.9\n",
       "6    47  27.4\n",
       "7    50  31.2\n",
       "8    52  34.6\n",
       "9    54  42.5\n",
       "10   54  28.8\n",
       "11   56  33.4\n",
       "12   57  30.2\n",
       "13   58  34.1\n",
       "14   58  32.9\n",
       "15   60  41.2\n",
       "16   61  35.7"
      ]
     },
     "execution_count": 48,
     "metadata": {},
     "output_type": "execute_result"
    }
   ],
   "source": [
    "fat_data = [[23, 9.5], [23, 26.5], [27, 7.8], [27, 17.8], [39, 31.4], [41, 25.9],\n",
    "           [47, 27.4], [50, 31.2], [52, 34.6], [54, 42.5], [54, 28.8], [56, 33.4],\n",
    "           [57, 30.2], [58, 34.1], [58, 32.9], [60, 41.2], [61, 35.7]]\n",
    "fd = pd.DataFrame(fat_data, columns=['Age', '%Fat'])\n",
    "fd"
   ]
  },
  {
   "cell_type": "code",
   "execution_count": 61,
   "id": "484b6cff",
   "metadata": {
    "scrolled": true
   },
   "outputs": [
    {
     "name": "stdout",
     "output_type": "stream",
     "text": [
      "The Mean of the data is:\n",
      "Age     46.294118\n",
      "%Fat    28.876471\n",
      "dtype: float64\n",
      "The Median of the data is:\n",
      "Age     52.0\n",
      "%Fat    31.2\n",
      "dtype: float64\n",
      "The Standard Deviation of the data is:\n",
      "Age     13.609577\n",
      "%Fat     9.530512\n",
      "dtype: float64\n"
     ]
    }
   ],
   "source": [
    "#(a) Calculate the mean, median, and standard deviation of age and %fat.\n",
    "fd_mean = fd.mean()\n",
    "fd_median = fd.median()\n",
    "fd_std = fd.std()\n",
    "print('The Mean of the data is:')\n",
    "print(fd_mean)\n",
    "print('The Median of the data is:')\n",
    "print(fd_median)\n",
    "print('The Standard Deviation of the data is:')\n",
    "print(fd_std)"
   ]
  },
  {
   "cell_type": "code",
   "execution_count": 62,
   "id": "7bbc3ad4",
   "metadata": {},
   "outputs": [
    {
     "data": {
      "image/png": "[encoded data removed]",
      "text/plain": [
       "<Figure size 432x288 with 1 Axes>"
      ]
     },
     "metadata": {
      "needs_background": "light"
     },
     "output_type": "display_data"
    }
   ],
   "source": [
    "#(b) Draw the boxplots for age and %fat.\n",
    "plot = fd.boxplot(column=['Age', '%Fat'])"
   ]
  },
  {
   "cell_type": "markdown",
   "id": "5169e4e1",
   "metadata": {},
   "source": [
    "Page 81 Question 2.6 a-c [30]"
   ]
  },
  {
   "cell_type": "markdown",
   "id": "55cd5192",
   "metadata": {},
   "source": [
    "Given two objects represented by the tuples (22, 1, 42, 10) and (20, 0, 36, 8):\n",
    "\n",
    "(a) Compute the Euclidean distance between the two objects.\n",
    "\n",
    "(b) Compute the Manhattan distance between the two objects.\n",
    "\n",
    "(c) Compute the Minkowski distance between the two objects, using q=3."
   ]
  },
  {
   "cell_type": "code",
   "execution_count": 65,
   "id": "0e0a2a1e",
   "metadata": {},
   "outputs": [],
   "source": [
    "t1 = np.array([22, 1, 42, 10])\n",
    "t2 = np.array([20, 0, 36, 8])"
   ]
  },
  {
   "cell_type": "code",
   "execution_count": 72,
   "id": "24d10155",
   "metadata": {},
   "outputs": [
    {
     "name": "stdout",
     "output_type": "stream",
     "text": [
      "The Euclidean distance is:\n"
     ]
    },
    {
     "data": {
      "text/plain": [
       "6.708203932499369"
      ]
     },
     "execution_count": 72,
     "metadata": {},
     "output_type": "execute_result"
    }
   ],
   "source": [
    "#(a) Compute the Euclidean distance between the two objects.\n",
    "euc_dist = np.linalg.norm(t1-t2)\n",
    "print('The Euclidean distance is:')\n",
    "euc_dist"
   ]
  },
  {
   "cell_type": "code",
   "execution_count": 73,
   "id": "44af0058",
   "metadata": {},
   "outputs": [
    {
     "name": "stdout",
     "output_type": "stream",
     "text": [
      "The Manhattan Distance is:\n"
     ]
    },
    {
     "data": {
      "text/plain": [
       "11"
      ]
     },
     "execution_count": 73,
     "metadata": {},
     "output_type": "execute_result"
    }
   ],
   "source": [
    "#(b) Compute the Manhattan distance between the two objects.\n",
    "man_dis = 0\n",
    "\n",
    "for i in range(len(t1)):\n",
    "    man_dis += abs(t1[i] - t2[i])\n",
    "\n",
    "print('The Manhattan Distance is:')\n",
    "man_dis"
   ]
  },
  {
   "cell_type": "code",
   "execution_count": 77,
   "id": "35b4497d",
   "metadata": {},
   "outputs": [
    {
     "name": "stdout",
     "output_type": "stream",
     "text": [
      "The Minkowski distance is:\n"
     ]
    },
    {
     "data": {
      "text/plain": [
       "6.153449493663682"
      ]
     },
     "execution_count": 77,
     "metadata": {},
     "output_type": "execute_result"
    }
   ],
   "source": [
    "#(c) Compute the Minkowski distance between the two objects, using q=3.\n",
    "min_dis = np.sum(np.abs(t1 -t2) **3) ** (1 / 3)\n",
    "print('The Minkowski distance is:')\n",
    "min_dis"
   ]
  },
  {
   "cell_type": "code",
   "execution_count": null,
   "id": "2cdee395",
   "metadata": {},
   "outputs": [],
   "source": []
  }
 ],
 "metadata": {
  "kernelspec": {
   "display_name": "Python 3",
   "language": "python",
   "name": "python3"
  },
  "language_info": {
   "codemirror_mode": {
    "name": "ipython",
    "version": 3
   },
   "file_extension": ".py",
   "mimetype": "text/x-python",
   "name": "python",
   "nbconvert_exporter": "python",
   "pygments_lexer": "ipython3",
   "version": "3.8.8"
  },
  "varInspector": {
   "cols": {
    "lenName": 16,
    "lenType": 16,
    "lenVar": 40
   },
   "kernels_config": {
    "python": {
     "delete_cmd_postfix": "",
     "delete_cmd_prefix": "del ",
     "library": "var_list.py",
     "varRefreshCmd": "print(var_dic_list())"
    },
    "r": {
     "delete_cmd_postfix": ") ",
     "delete_cmd_prefix": "rm(",
     "library": "var_list.r",
     "varRefreshCmd": "cat(var_dic_list()) "
    }
   },
   "types_to_exclude": [
    "module",
    "function",
    "builtin_function_or_method",
    "instance",
    "_Feature"
   ],
   "window_display": false
  }
 },
 "nbformat": 4,
 "nbformat_minor": 5
}
