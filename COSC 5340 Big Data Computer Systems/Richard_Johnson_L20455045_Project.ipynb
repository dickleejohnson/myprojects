{
 "cells": [
  {
   "cell_type": "markdown",
   "metadata": {},
   "source": [
    "# Richard Johnson L20455045 \n",
    "# COSC 5340 Big Data Computer Systems \n",
    "# Project 1\n",
    "# 02 May 2022 \n",
    "# Professor Jiangjiang Liu"
   ]
  },
  {
   "cell_type": "markdown",
   "metadata": {},
   "source": [
    "# Credit Card Approval Machine Learning Model"
   ]
  },
  {
   "cell_type": "code",
   "execution_count": 1,
   "metadata": {
    "_cell_guid": "b1076dfc-b9ad-4769-8c92-a6c4dae69d19",
    "_uuid": "8f2839f25d086af736a60e9eeb907d3b93b6e0e5",
    "execution": {
     "iopub.execute_input": "2022-04-30T19:54:34.063884Z",
     "iopub.status.busy": "2022-04-30T19:54:34.0636Z",
     "iopub.status.idle": "2022-04-30T19:54:34.075135Z",
     "shell.execute_reply": "2022-04-30T19:54:34.074225Z",
     "shell.execute_reply.started": "2022-04-30T19:54:34.063852Z"
    }
   },
   "outputs": [],
   "source": [
    "import pandas as pd\n",
    "import seaborn as sns\n",
    "import matplotlib.pyplot as plt\n",
    "%matplotlib inline\n",
    "\n",
    "from sklearn.preprocessing import MinMaxScaler\n",
    "from sklearn.model_selection import train_test_split\n",
    "\n",
    "from sklearn.linear_model import LogisticRegression\n",
    "from sklearn.tree import DecisionTreeClassifier\n",
    "from sklearn.neighbors import KNeighborsClassifier\n",
    "from sklearn.naive_bayes import GaussianNB\n",
    "from sklearn.svm import SVC\n",
    "\n",
    "from sklearn.model_selection import KFold\n",
    "from sklearn.model_selection import RepeatedKFold\n",
    "from sklearn.model_selection import cross_val_score\n",
    "from sklearn.pipeline import Pipeline\n",
    "\n",
    "from sklearn.metrics import accuracy_score\n",
    "from sklearn.metrics import confusion_matrix\n",
    "from sklearn.metrics import classification_report\n",
    "from sklearn.feature_selection import RFE"
   ]
  },
  {
   "cell_type": "code",
   "execution_count": 2,
   "metadata": {
    "execution": {
     "iopub.execute_input": "2022-04-30T19:21:45.753856Z",
     "iopub.status.busy": "2022-04-30T19:21:45.753525Z",
     "iopub.status.idle": "2022-04-30T19:21:45.77189Z",
     "shell.execute_reply": "2022-04-30T19:21:45.771035Z",
     "shell.execute_reply.started": "2022-04-30T19:21:45.753821Z"
    }
   },
   "outputs": [],
   "source": [
    "df = pd.read_csv('clean_dataset.csv', dtype={'ZipCode': str})"
   ]
  },
  {
   "cell_type": "markdown",
   "metadata": {},
   "source": [
    "# Data Overview"
   ]
  },
  {
   "cell_type": "code",
   "execution_count": 3,
   "metadata": {},
   "outputs": [
    {
     "name": "stdout",
     "output_type": "stream",
     "text": [
      "<class 'pandas.core.frame.DataFrame'>\n",
      "RangeIndex: 690 entries, 0 to 689\n",
      "Data columns (total 16 columns):\n",
      " #   Column          Non-Null Count  Dtype  \n",
      "---  ------          --------------  -----  \n",
      " 0   Gender          690 non-null    int64  \n",
      " 1   Age             690 non-null    float64\n",
      " 2   Debt            690 non-null    float64\n",
      " 3   Married         690 non-null    int64  \n",
      " 4   BankCustomer    690 non-null    int64  \n",
      " 5   Industry        690 non-null    object \n",
      " 6   Ethnicity       690 non-null    object \n",
      " 7   YearsEmployed   690 non-null    float64\n",
      " 8   PriorDefault    690 non-null    int64  \n",
      " 9   Employed        690 non-null    int64  \n",
      " 10  CreditScore     690 non-null    int64  \n",
      " 11  DriversLicense  690 non-null    int64  \n",
      " 12  Citizen         690 non-null    object \n",
      " 13  ZipCode         690 non-null    object \n",
      " 14  Income          690 non-null    int64  \n",
      " 15  Approved        690 non-null    int64  \n",
      "dtypes: float64(3), int64(9), object(4)\n",
      "memory usage: 86.4+ KB\n"
     ]
    }
   ],
   "source": [
    "df.info()"
   ]
  },
  {
   "cell_type": "code",
   "execution_count": 4,
   "metadata": {
    "execution": {
     "iopub.execute_input": "2022-04-30T19:21:45.775166Z",
     "iopub.status.busy": "2022-04-30T19:21:45.774546Z",
     "iopub.status.idle": "2022-04-30T19:21:45.801967Z",
     "shell.execute_reply": "2022-04-30T19:21:45.80135Z",
     "shell.execute_reply.started": "2022-04-30T19:21:45.775117Z"
    },
    "scrolled": true
   },
   "outputs": [
    {
     "data": {
      "text/html": [
       "<div>\n",
       "<style scoped>\n",
       "    .dataframe tbody tr th:only-of-type {\n",
       "        vertical-align: middle;\n",
       "    }\n",
       "\n",
       "    .dataframe tbody tr th {\n",
       "        vertical-align: top;\n",
       "    }\n",
       "\n",
       "    .dataframe thead th {\n",
       "        text-align: right;\n",
       "    }\n",
       "</style>\n",
       "<table border=\"1\" class=\"dataframe\">\n",
       "  <thead>\n",
       "    <tr style=\"text-align: right;\">\n",
       "      <th></th>\n",
       "      <th>Gender</th>\n",
       "      <th>Age</th>\n",
       "      <th>Debt</th>\n",
       "      <th>Married</th>\n",
       "      <th>BankCustomer</th>\n",
       "      <th>Industry</th>\n",
       "      <th>Ethnicity</th>\n",
       "      <th>YearsEmployed</th>\n",
       "      <th>PriorDefault</th>\n",
       "      <th>Employed</th>\n",
       "      <th>CreditScore</th>\n",
       "      <th>DriversLicense</th>\n",
       "      <th>Citizen</th>\n",
       "      <th>ZipCode</th>\n",
       "      <th>Income</th>\n",
       "      <th>Approved</th>\n",
       "    </tr>\n",
       "  </thead>\n",
       "  <tbody>\n",
       "    <tr>\n",
       "      <th>0</th>\n",
       "      <td>1</td>\n",
       "      <td>30.83</td>\n",
       "      <td>0.000</td>\n",
       "      <td>1</td>\n",
       "      <td>1</td>\n",
       "      <td>Industrials</td>\n",
       "      <td>White</td>\n",
       "      <td>1.250</td>\n",
       "      <td>1</td>\n",
       "      <td>1</td>\n",
       "      <td>1</td>\n",
       "      <td>0</td>\n",
       "      <td>ByBirth</td>\n",
       "      <td>00202</td>\n",
       "      <td>0</td>\n",
       "      <td>1</td>\n",
       "    </tr>\n",
       "    <tr>\n",
       "      <th>1</th>\n",
       "      <td>0</td>\n",
       "      <td>58.67</td>\n",
       "      <td>4.460</td>\n",
       "      <td>1</td>\n",
       "      <td>1</td>\n",
       "      <td>Materials</td>\n",
       "      <td>Black</td>\n",
       "      <td>3.040</td>\n",
       "      <td>1</td>\n",
       "      <td>1</td>\n",
       "      <td>6</td>\n",
       "      <td>0</td>\n",
       "      <td>ByBirth</td>\n",
       "      <td>00043</td>\n",
       "      <td>560</td>\n",
       "      <td>1</td>\n",
       "    </tr>\n",
       "    <tr>\n",
       "      <th>2</th>\n",
       "      <td>0</td>\n",
       "      <td>24.50</td>\n",
       "      <td>0.500</td>\n",
       "      <td>1</td>\n",
       "      <td>1</td>\n",
       "      <td>Materials</td>\n",
       "      <td>Black</td>\n",
       "      <td>1.500</td>\n",
       "      <td>1</td>\n",
       "      <td>0</td>\n",
       "      <td>0</td>\n",
       "      <td>0</td>\n",
       "      <td>ByBirth</td>\n",
       "      <td>00280</td>\n",
       "      <td>824</td>\n",
       "      <td>1</td>\n",
       "    </tr>\n",
       "    <tr>\n",
       "      <th>3</th>\n",
       "      <td>1</td>\n",
       "      <td>27.83</td>\n",
       "      <td>1.540</td>\n",
       "      <td>1</td>\n",
       "      <td>1</td>\n",
       "      <td>Industrials</td>\n",
       "      <td>White</td>\n",
       "      <td>3.750</td>\n",
       "      <td>1</td>\n",
       "      <td>1</td>\n",
       "      <td>5</td>\n",
       "      <td>1</td>\n",
       "      <td>ByBirth</td>\n",
       "      <td>00100</td>\n",
       "      <td>3</td>\n",
       "      <td>1</td>\n",
       "    </tr>\n",
       "    <tr>\n",
       "      <th>4</th>\n",
       "      <td>1</td>\n",
       "      <td>20.17</td>\n",
       "      <td>5.625</td>\n",
       "      <td>1</td>\n",
       "      <td>1</td>\n",
       "      <td>Industrials</td>\n",
       "      <td>White</td>\n",
       "      <td>1.710</td>\n",
       "      <td>1</td>\n",
       "      <td>0</td>\n",
       "      <td>0</td>\n",
       "      <td>0</td>\n",
       "      <td>ByOtherMeans</td>\n",
       "      <td>00120</td>\n",
       "      <td>0</td>\n",
       "      <td>1</td>\n",
       "    </tr>\n",
       "    <tr>\n",
       "      <th>5</th>\n",
       "      <td>1</td>\n",
       "      <td>32.08</td>\n",
       "      <td>4.000</td>\n",
       "      <td>1</td>\n",
       "      <td>1</td>\n",
       "      <td>CommunicationServices</td>\n",
       "      <td>White</td>\n",
       "      <td>2.500</td>\n",
       "      <td>1</td>\n",
       "      <td>0</td>\n",
       "      <td>0</td>\n",
       "      <td>1</td>\n",
       "      <td>ByBirth</td>\n",
       "      <td>00360</td>\n",
       "      <td>0</td>\n",
       "      <td>1</td>\n",
       "    </tr>\n",
       "    <tr>\n",
       "      <th>6</th>\n",
       "      <td>1</td>\n",
       "      <td>33.17</td>\n",
       "      <td>1.040</td>\n",
       "      <td>1</td>\n",
       "      <td>1</td>\n",
       "      <td>Transport</td>\n",
       "      <td>Black</td>\n",
       "      <td>6.500</td>\n",
       "      <td>1</td>\n",
       "      <td>0</td>\n",
       "      <td>0</td>\n",
       "      <td>1</td>\n",
       "      <td>ByBirth</td>\n",
       "      <td>00164</td>\n",
       "      <td>31285</td>\n",
       "      <td>1</td>\n",
       "    </tr>\n",
       "    <tr>\n",
       "      <th>7</th>\n",
       "      <td>0</td>\n",
       "      <td>22.92</td>\n",
       "      <td>11.585</td>\n",
       "      <td>1</td>\n",
       "      <td>1</td>\n",
       "      <td>InformationTechnology</td>\n",
       "      <td>White</td>\n",
       "      <td>0.040</td>\n",
       "      <td>1</td>\n",
       "      <td>0</td>\n",
       "      <td>0</td>\n",
       "      <td>0</td>\n",
       "      <td>ByBirth</td>\n",
       "      <td>00080</td>\n",
       "      <td>1349</td>\n",
       "      <td>1</td>\n",
       "    </tr>\n",
       "    <tr>\n",
       "      <th>8</th>\n",
       "      <td>1</td>\n",
       "      <td>54.42</td>\n",
       "      <td>0.500</td>\n",
       "      <td>0</td>\n",
       "      <td>0</td>\n",
       "      <td>Financials</td>\n",
       "      <td>Black</td>\n",
       "      <td>3.960</td>\n",
       "      <td>1</td>\n",
       "      <td>0</td>\n",
       "      <td>0</td>\n",
       "      <td>0</td>\n",
       "      <td>ByBirth</td>\n",
       "      <td>00180</td>\n",
       "      <td>314</td>\n",
       "      <td>1</td>\n",
       "    </tr>\n",
       "    <tr>\n",
       "      <th>9</th>\n",
       "      <td>1</td>\n",
       "      <td>42.50</td>\n",
       "      <td>4.915</td>\n",
       "      <td>0</td>\n",
       "      <td>0</td>\n",
       "      <td>Industrials</td>\n",
       "      <td>White</td>\n",
       "      <td>3.165</td>\n",
       "      <td>1</td>\n",
       "      <td>0</td>\n",
       "      <td>0</td>\n",
       "      <td>1</td>\n",
       "      <td>ByBirth</td>\n",
       "      <td>00052</td>\n",
       "      <td>1442</td>\n",
       "      <td>1</td>\n",
       "    </tr>\n",
       "  </tbody>\n",
       "</table>\n",
       "</div>"
      ],
      "text/plain": [
       "   Gender    Age    Debt  Married  BankCustomer               Industry  \\\n",
       "0       1  30.83   0.000        1             1            Industrials   \n",
       "1       0  58.67   4.460        1             1              Materials   \n",
       "2       0  24.50   0.500        1             1              Materials   \n",
       "3       1  27.83   1.540        1             1            Industrials   \n",
       "4       1  20.17   5.625        1             1            Industrials   \n",
       "5       1  32.08   4.000        1             1  CommunicationServices   \n",
       "6       1  33.17   1.040        1             1              Transport   \n",
       "7       0  22.92  11.585        1             1  InformationTechnology   \n",
       "8       1  54.42   0.500        0             0             Financials   \n",
       "9       1  42.50   4.915        0             0            Industrials   \n",
       "\n",
       "  Ethnicity  YearsEmployed  PriorDefault  Employed  CreditScore  \\\n",
       "0     White          1.250             1         1            1   \n",
       "1     Black          3.040             1         1            6   \n",
       "2     Black          1.500             1         0            0   \n",
       "3     White          3.750             1         1            5   \n",
       "4     White          1.710             1         0            0   \n",
       "5     White          2.500             1         0            0   \n",
       "6     Black          6.500             1         0            0   \n",
       "7     White          0.040             1         0            0   \n",
       "8     Black          3.960             1         0            0   \n",
       "9     White          3.165             1         0            0   \n",
       "\n",
       "   DriversLicense       Citizen ZipCode  Income  Approved  \n",
       "0               0       ByBirth   00202       0         1  \n",
       "1               0       ByBirth   00043     560         1  \n",
       "2               0       ByBirth   00280     824         1  \n",
       "3               1       ByBirth   00100       3         1  \n",
       "4               0  ByOtherMeans   00120       0         1  \n",
       "5               1       ByBirth   00360       0         1  \n",
       "6               1       ByBirth   00164   31285         1  \n",
       "7               0       ByBirth   00080    1349         1  \n",
       "8               0       ByBirth   00180     314         1  \n",
       "9               1       ByBirth   00052    1442         1  "
      ]
     },
     "execution_count": 4,
     "metadata": {},
     "output_type": "execute_result"
    }
   ],
   "source": [
    "df.head(10)"
   ]
  },
  {
   "cell_type": "code",
   "execution_count": 5,
   "metadata": {
    "execution": {
     "iopub.execute_input": "2022-04-30T19:21:45.803856Z",
     "iopub.status.busy": "2022-04-30T19:21:45.803548Z",
     "iopub.status.idle": "2022-04-30T19:21:45.809063Z",
     "shell.execute_reply": "2022-04-30T19:21:45.808493Z",
     "shell.execute_reply.started": "2022-04-30T19:21:45.803816Z"
    }
   },
   "outputs": [
    {
     "name": "stdout",
     "output_type": "stream",
     "text": [
      "Index(['Gender', 'Age', 'Debt', 'Married', 'BankCustomer', 'Industry',\n",
      "       'Ethnicity', 'YearsEmployed', 'PriorDefault', 'Employed', 'CreditScore',\n",
      "       'DriversLicense', 'Citizen', 'ZipCode', 'Income', 'Approved'],\n",
      "      dtype='object')\n"
     ]
    }
   ],
   "source": [
    "print(df.columns)"
   ]
  },
  {
   "cell_type": "markdown",
   "metadata": {},
   "source": [
    "<h4>Data Information</h4>\n",
    "<ul>\n",
    "    <li><b>Gender:</b> 1=Male, 0=Female</li>\n",
    "    <li><b>Age:</b> in years</li>\n",
    "    <li><b>Debt:</b> outstanding debt (scaled)</li>\n",
    "    <li><b>Married:</b> 1=Married, 0=Single/Divorce/etc.</li>\n",
    "    <li><b>BankCustomer:</b> 1=has a bank account, 0=doesn't have a bank account</li>\n",
    "    <li><b>Industry:</b> current or most recent job sector</li>\n",
    "    <li><b>Ethnicity:</b> ethnicity</li>\n",
    "    <li><b>YearsEmployed:</b> years employed</li>\n",
    "    <li><b>PriorDefault:</b> 1=has prior default, 0=no prior default</li>\n",
    "    <li><b>Employed:</b> 1=employed, 0=unemployed</li>\n",
    "    <li><b>CreditScore:</b> credit score (scaled)</li>\n",
    "    <li><b>DriversLicense:</b> 1=has driver license, 0=no driver license</li>\n",
    "    <li><b>Citizen:</b> citizenship, either ByBirth, ByOtherMeans or Temporary</li>\n",
    "    <li><b>ZipCode:</b> zip code</li>\n",
    "    <li><b>Income:</b> income (scaled)</li>\n",
    "    <li><b>Approved:</b> 1=approved, 0=not approved</li>\n",
    "</ul>\n",
    "\n",
    "<p>Some numeric values like debt and income are scaled, which means that the data does not represent the amount that it shows.</p>"
   ]
  },
  {
   "cell_type": "code",
   "execution_count": 6,
   "metadata": {
    "execution": {
     "iopub.execute_input": "2022-04-30T19:21:45.843246Z",
     "iopub.status.busy": "2022-04-30T19:21:45.842683Z",
     "iopub.status.idle": "2022-04-30T19:21:45.859384Z",
     "shell.execute_reply": "2022-04-30T19:21:45.858718Z",
     "shell.execute_reply.started": "2022-04-30T19:21:45.843187Z"
    }
   },
   "outputs": [
    {
     "name": "stdout",
     "output_type": "stream",
     "text": [
      "Number of null values: 0\n",
      "Number of duplicated values: 0\n"
     ]
    }
   ],
   "source": [
    "print(f'Number of null values: {df.isnull().values.sum()}')\n",
    "print(f'Number of duplicated values: {df.duplicated().values.sum()}')"
   ]
  },
  {
   "cell_type": "markdown",
   "metadata": {},
   "source": [
    "# Data Visualization"
   ]
  },
  {
   "cell_type": "code",
   "execution_count": 7,
   "metadata": {
    "code_folding": [],
    "execution": {
     "iopub.execute_input": "2022-04-30T19:21:45.861236Z",
     "iopub.status.busy": "2022-04-30T19:21:45.860621Z",
     "iopub.status.idle": "2022-04-30T19:21:45.868329Z",
     "shell.execute_reply": "2022-04-30T19:21:45.86733Z",
     "shell.execute_reply.started": "2022-04-30T19:21:45.861203Z"
    }
   },
   "outputs": [],
   "source": [
    "# setting graphing format\n",
    "\n",
    "plt.rcParams['figure.figsize'] = (10, 8)\n",
    "font_fmt = {'fontweight': 'bold',\n",
    "           'fontsize': 20}\n"
   ]
  },
  {
   "cell_type": "code",
   "execution_count": 8,
   "metadata": {},
   "outputs": [
    {
     "data": {
      "text/html": [
       "<div>\n",
       "<style scoped>\n",
       "    .dataframe tbody tr th:only-of-type {\n",
       "        vertical-align: middle;\n",
       "    }\n",
       "\n",
       "    .dataframe tbody tr th {\n",
       "        vertical-align: top;\n",
       "    }\n",
       "\n",
       "    .dataframe thead th {\n",
       "        text-align: right;\n",
       "    }\n",
       "</style>\n",
       "<table border=\"1\" class=\"dataframe\">\n",
       "  <thead>\n",
       "    <tr style=\"text-align: right;\">\n",
       "      <th></th>\n",
       "      <th>count</th>\n",
       "      <th>mean</th>\n",
       "      <th>std</th>\n",
       "      <th>min</th>\n",
       "      <th>25%</th>\n",
       "      <th>50%</th>\n",
       "      <th>75%</th>\n",
       "      <th>max</th>\n",
       "    </tr>\n",
       "  </thead>\n",
       "  <tbody>\n",
       "    <tr>\n",
       "      <th>Gender</th>\n",
       "      <td>690.0</td>\n",
       "      <td>0.695652</td>\n",
       "      <td>0.460464</td>\n",
       "      <td>0.00</td>\n",
       "      <td>0.000</td>\n",
       "      <td>1.00</td>\n",
       "      <td>1.0000</td>\n",
       "      <td>1.00</td>\n",
       "    </tr>\n",
       "    <tr>\n",
       "      <th>Age</th>\n",
       "      <td>690.0</td>\n",
       "      <td>31.514116</td>\n",
       "      <td>11.860245</td>\n",
       "      <td>13.75</td>\n",
       "      <td>22.670</td>\n",
       "      <td>28.46</td>\n",
       "      <td>37.7075</td>\n",
       "      <td>80.25</td>\n",
       "    </tr>\n",
       "    <tr>\n",
       "      <th>Debt</th>\n",
       "      <td>690.0</td>\n",
       "      <td>4.758725</td>\n",
       "      <td>4.978163</td>\n",
       "      <td>0.00</td>\n",
       "      <td>1.000</td>\n",
       "      <td>2.75</td>\n",
       "      <td>7.2075</td>\n",
       "      <td>28.00</td>\n",
       "    </tr>\n",
       "    <tr>\n",
       "      <th>Married</th>\n",
       "      <td>690.0</td>\n",
       "      <td>0.760870</td>\n",
       "      <td>0.426862</td>\n",
       "      <td>0.00</td>\n",
       "      <td>1.000</td>\n",
       "      <td>1.00</td>\n",
       "      <td>1.0000</td>\n",
       "      <td>1.00</td>\n",
       "    </tr>\n",
       "    <tr>\n",
       "      <th>BankCustomer</th>\n",
       "      <td>690.0</td>\n",
       "      <td>0.763768</td>\n",
       "      <td>0.425074</td>\n",
       "      <td>0.00</td>\n",
       "      <td>1.000</td>\n",
       "      <td>1.00</td>\n",
       "      <td>1.0000</td>\n",
       "      <td>1.00</td>\n",
       "    </tr>\n",
       "    <tr>\n",
       "      <th>YearsEmployed</th>\n",
       "      <td>690.0</td>\n",
       "      <td>2.223406</td>\n",
       "      <td>3.346513</td>\n",
       "      <td>0.00</td>\n",
       "      <td>0.165</td>\n",
       "      <td>1.00</td>\n",
       "      <td>2.6250</td>\n",
       "      <td>28.50</td>\n",
       "    </tr>\n",
       "    <tr>\n",
       "      <th>PriorDefault</th>\n",
       "      <td>690.0</td>\n",
       "      <td>0.523188</td>\n",
       "      <td>0.499824</td>\n",
       "      <td>0.00</td>\n",
       "      <td>0.000</td>\n",
       "      <td>1.00</td>\n",
       "      <td>1.0000</td>\n",
       "      <td>1.00</td>\n",
       "    </tr>\n",
       "    <tr>\n",
       "      <th>Employed</th>\n",
       "      <td>690.0</td>\n",
       "      <td>0.427536</td>\n",
       "      <td>0.495080</td>\n",
       "      <td>0.00</td>\n",
       "      <td>0.000</td>\n",
       "      <td>0.00</td>\n",
       "      <td>1.0000</td>\n",
       "      <td>1.00</td>\n",
       "    </tr>\n",
       "    <tr>\n",
       "      <th>CreditScore</th>\n",
       "      <td>690.0</td>\n",
       "      <td>2.400000</td>\n",
       "      <td>4.862940</td>\n",
       "      <td>0.00</td>\n",
       "      <td>0.000</td>\n",
       "      <td>0.00</td>\n",
       "      <td>3.0000</td>\n",
       "      <td>67.00</td>\n",
       "    </tr>\n",
       "    <tr>\n",
       "      <th>DriversLicense</th>\n",
       "      <td>690.0</td>\n",
       "      <td>0.457971</td>\n",
       "      <td>0.498592</td>\n",
       "      <td>0.00</td>\n",
       "      <td>0.000</td>\n",
       "      <td>0.00</td>\n",
       "      <td>1.0000</td>\n",
       "      <td>1.00</td>\n",
       "    </tr>\n",
       "    <tr>\n",
       "      <th>Income</th>\n",
       "      <td>690.0</td>\n",
       "      <td>1017.385507</td>\n",
       "      <td>5210.102598</td>\n",
       "      <td>0.00</td>\n",
       "      <td>0.000</td>\n",
       "      <td>5.00</td>\n",
       "      <td>395.5000</td>\n",
       "      <td>100000.00</td>\n",
       "    </tr>\n",
       "    <tr>\n",
       "      <th>Approved</th>\n",
       "      <td>690.0</td>\n",
       "      <td>0.444928</td>\n",
       "      <td>0.497318</td>\n",
       "      <td>0.00</td>\n",
       "      <td>0.000</td>\n",
       "      <td>0.00</td>\n",
       "      <td>1.0000</td>\n",
       "      <td>1.00</td>\n",
       "    </tr>\n",
       "  </tbody>\n",
       "</table>\n",
       "</div>"
      ],
      "text/plain": [
       "                count         mean          std    min     25%    50%  \\\n",
       "Gender          690.0     0.695652     0.460464   0.00   0.000   1.00   \n",
       "Age             690.0    31.514116    11.860245  13.75  22.670  28.46   \n",
       "Debt            690.0     4.758725     4.978163   0.00   1.000   2.75   \n",
       "Married         690.0     0.760870     0.426862   0.00   1.000   1.00   \n",
       "BankCustomer    690.0     0.763768     0.425074   0.00   1.000   1.00   \n",
       "YearsEmployed   690.0     2.223406     3.346513   0.00   0.165   1.00   \n",
       "PriorDefault    690.0     0.523188     0.499824   0.00   0.000   1.00   \n",
       "Employed        690.0     0.427536     0.495080   0.00   0.000   0.00   \n",
       "CreditScore     690.0     2.400000     4.862940   0.00   0.000   0.00   \n",
       "DriversLicense  690.0     0.457971     0.498592   0.00   0.000   0.00   \n",
       "Income          690.0  1017.385507  5210.102598   0.00   0.000   5.00   \n",
       "Approved        690.0     0.444928     0.497318   0.00   0.000   0.00   \n",
       "\n",
       "                     75%        max  \n",
       "Gender            1.0000       1.00  \n",
       "Age              37.7075      80.25  \n",
       "Debt              7.2075      28.00  \n",
       "Married           1.0000       1.00  \n",
       "BankCustomer      1.0000       1.00  \n",
       "YearsEmployed     2.6250      28.50  \n",
       "PriorDefault      1.0000       1.00  \n",
       "Employed          1.0000       1.00  \n",
       "CreditScore       3.0000      67.00  \n",
       "DriversLicense    1.0000       1.00  \n",
       "Income          395.5000  100000.00  \n",
       "Approved          1.0000       1.00  "
      ]
     },
     "execution_count": 8,
     "metadata": {},
     "output_type": "execute_result"
    }
   ],
   "source": [
    "df.describe().T"
   ]
  },
  {
   "cell_type": "code",
   "execution_count": 9,
   "metadata": {
    "execution": {
     "iopub.execute_input": "2022-04-30T19:21:45.898664Z",
     "iopub.status.busy": "2022-04-30T19:21:45.898134Z",
     "iopub.status.idle": "2022-04-30T19:21:45.903461Z",
     "shell.execute_reply": "2022-04-30T19:21:45.902638Z",
     "shell.execute_reply.started": "2022-04-30T19:21:45.89863Z"
    }
   },
   "outputs": [],
   "source": [
    "numeric_cols = ['Age', 'Debt', 'YearsEmployed', 'CreditScore', 'Income']\n",
    "boolean_cols = ['Gender', 'Married', 'BankCustomer', 'PriorDefault', 'Employed', 'DriversLicense', 'Approved']\n",
    "string_cols = ['Industry', 'Ethnicity', 'Citizen']"
   ]
  },
  {
   "cell_type": "code",
   "execution_count": 10,
   "metadata": {
    "execution": {
     "iopub.execute_input": "2022-04-30T19:21:45.905074Z",
     "iopub.status.busy": "2022-04-30T19:21:45.90454Z",
     "iopub.status.idle": "2022-04-30T19:21:46.499685Z",
     "shell.execute_reply": "2022-04-30T19:21:46.498819Z",
     "shell.execute_reply.started": "2022-04-30T19:21:45.905043Z"
    }
   },
   "outputs": [
    {
     "data": {
      "image/png": "[encoded data removed]",
      "text/plain": [
       "<Figure size 1296x864 with 5 Axes>"
      ]
     },
     "metadata": {
      "needs_background": "light"
     },
     "output_type": "display_data"
    }
   ],
   "source": [
    "plt.figure(figsize=(18, 12))\n",
    "\n",
    "for i, plot in enumerate(numeric_cols):\n",
    "    plt.subplot(int(f'23{i+1}'))\n",
    "    plt.title(f'{plot}', fontdict=font_fmt)\n",
    "    plt.subplots_adjust(hspace=0.2)\n",
    "    sns.boxplot(data=df, y=plot)"
   ]
  },
  {
   "cell_type": "code",
   "execution_count": 11,
   "metadata": {
    "execution": {
     "iopub.execute_input": "2022-04-30T19:21:46.524359Z",
     "iopub.status.busy": "2022-04-30T19:21:46.523902Z",
     "iopub.status.idle": "2022-04-30T19:21:47.34077Z",
     "shell.execute_reply": "2022-04-30T19:21:47.339877Z",
     "shell.execute_reply.started": "2022-04-30T19:21:46.524319Z"
    },
    "scrolled": true
   },
   "outputs": [
    {
     "data": {
      "image/png": "[encoded data removed]",
      "text/plain": [
       "<Figure size 1296x864 with 5 Axes>"
      ]
     },
     "metadata": {
      "needs_background": "light"
     },
     "output_type": "display_data"
    }
   ],
   "source": [
    "plt.figure(figsize=(18, 12))\n",
    "\n",
    "for i, plot in enumerate(numeric_cols):\n",
    "    plt.subplot(int(f'23{i+1}'))\n",
    "    plt.title(f'{plot} by Approval', fontdict=font_fmt)\n",
    "    plt.subplots_adjust(hspace=0.2)\n",
    "    sns.boxplot(data=df, y=plot, x='Approved')\n",
    "    plt.xlabel('')\n",
    "\n",
    "\n",
    "plt.show()"
   ]
  },
  {
   "cell_type": "code",
   "execution_count": 12,
   "metadata": {
    "execution": {
     "iopub.execute_input": "2022-04-30T19:21:47.342633Z",
     "iopub.status.busy": "2022-04-30T19:21:47.342324Z",
     "iopub.status.idle": "2022-04-30T19:21:47.383635Z",
     "shell.execute_reply": "2022-04-30T19:21:47.382041Z",
     "shell.execute_reply.started": "2022-04-30T19:21:47.342592Z"
    }
   },
   "outputs": [
    {
     "name": "stdout",
     "output_type": "stream",
     "text": [
      "--- Age (Not Approved) ---\n",
      "count    383.000000\n",
      "mean      29.773029\n",
      "std       10.777571\n",
      "min       15.170000\n",
      "25%       22.125000\n",
      "50%       27.670000\n",
      "75%       34.790000\n",
      "max       80.250000\n",
      "Name: Age, dtype: float64\n",
      "\n",
      "\n",
      "--- Age (Approved) ---\n",
      "count    307.000000\n",
      "mean      33.686221\n",
      "std       12.774745\n",
      "min       13.750000\n",
      "25%       23.210000\n",
      "50%       30.170000\n",
      "75%       41.330000\n",
      "max       76.750000\n",
      "Name: Age, dtype: float64\n",
      "\n",
      "\n",
      "--- Debt (Not Approved) ---\n",
      "count    383.000000\n",
      "mean       3.839948\n",
      "std        4.337662\n",
      "min        0.000000\n",
      "25%        0.835000\n",
      "50%        2.210000\n",
      "75%        5.000000\n",
      "max       26.335000\n",
      "Name: Debt, dtype: float64\n",
      "\n",
      "\n",
      "--- Debt (Approved) ---\n",
      "count    307.000000\n",
      "mean       5.904951\n",
      "std        5.471485\n",
      "min        0.000000\n",
      "25%        1.500000\n",
      "50%        4.460000\n",
      "75%        9.520000\n",
      "max       28.000000\n",
      "Name: Debt, dtype: float64\n",
      "\n",
      "\n",
      "--- YearsEmployed (Not Approved) ---\n",
      "count    383.000000\n",
      "mean       1.257924\n",
      "std        2.120481\n",
      "min        0.000000\n",
      "25%        0.125000\n",
      "50%        0.415000\n",
      "75%        1.500000\n",
      "max       13.875000\n",
      "Name: YearsEmployed, dtype: float64\n",
      "\n",
      "\n",
      "--- YearsEmployed (Approved) ---\n",
      "count    307.000000\n",
      "mean       3.427899\n",
      "std        4.120792\n",
      "min        0.000000\n",
      "25%        0.750000\n",
      "50%        2.000000\n",
      "75%        5.000000\n",
      "max       28.500000\n",
      "Name: YearsEmployed, dtype: float64\n",
      "\n",
      "\n",
      "--- CreditScore (Not Approved) ---\n",
      "count    383.000000\n",
      "mean       0.631854\n",
      "std        1.900049\n",
      "min        0.000000\n",
      "25%        0.000000\n",
      "50%        0.000000\n",
      "75%        0.000000\n",
      "max       20.000000\n",
      "Name: CreditScore, dtype: float64\n",
      "\n",
      "\n",
      "--- CreditScore (Approved) ---\n",
      "count    307.000000\n",
      "mean       4.605863\n",
      "std        6.320242\n",
      "min        0.000000\n",
      "25%        0.000000\n",
      "50%        3.000000\n",
      "75%        7.000000\n",
      "max       67.000000\n",
      "Name: CreditScore, dtype: float64\n",
      "\n",
      "\n",
      "--- Income (Not Approved) ---\n",
      "count     383.000000\n",
      "mean      198.605744\n",
      "std       671.608839\n",
      "min         0.000000\n",
      "25%         0.000000\n",
      "50%         1.000000\n",
      "75%        67.000000\n",
      "max      5552.000000\n",
      "Name: Income, dtype: float64\n",
      "\n",
      "\n",
      "--- Income (Approved) ---\n",
      "count       307.000000\n",
      "mean       2038.859935\n",
      "std        7659.763941\n",
      "min           0.000000\n",
      "25%           0.000000\n",
      "50%         221.000000\n",
      "75%        1209.000000\n",
      "max      100000.000000\n",
      "Name: Income, dtype: float64\n",
      "\n",
      "\n"
     ]
    }
   ],
   "source": [
    "for col in numeric_cols:\n",
    "    for a in range(2):\n",
    "        if a == 0:\n",
    "            print(f'--- {col} (Not Approved) ---')\n",
    "        else:\n",
    "            print(f'--- {col} (Approved) ---')\n",
    "        print(df[col][df['Approved']==a].describe())\n",
    "        print('\\n')"
   ]
  },
  {
   "cell_type": "code",
   "execution_count": 13,
   "metadata": {
    "execution": {
     "iopub.execute_input": "2022-04-30T19:21:47.385219Z",
     "iopub.status.busy": "2022-04-30T19:21:47.385014Z",
     "iopub.status.idle": "2022-04-30T19:21:48.155141Z",
     "shell.execute_reply": "2022-04-30T19:21:48.15441Z",
     "shell.execute_reply.started": "2022-04-30T19:21:47.385193Z"
    }
   },
   "outputs": [
    {
     "data": {
      "image/png": "[encoded data removed]",
      "text/plain": [
       "<Figure size 1296x864 with 7 Axes>"
      ]
     },
     "metadata": {
      "needs_background": "light"
     },
     "output_type": "display_data"
    }
   ],
   "source": [
    "plt.figure(figsize=(18, 12))\n",
    "\n",
    "for i, plot in enumerate(boolean_cols):\n",
    "    plt.subplot(int(f'33{i+1}'))\n",
    "    plt.title(plot, fontdict=font_fmt)\n",
    "    plt.subplots_adjust(hspace=0.3)\n",
    "    sns.countplot(x=df[plot])\n",
    "    plt.xlabel('')"
   ]
  },
  {
   "cell_type": "code",
   "execution_count": 14,
   "metadata": {
    "execution": {
     "iopub.execute_input": "2022-04-30T19:21:48.15652Z",
     "iopub.status.busy": "2022-04-30T19:21:48.156278Z",
     "iopub.status.idle": "2022-04-30T19:21:48.952497Z",
     "shell.execute_reply": "2022-04-30T19:21:48.951649Z",
     "shell.execute_reply.started": "2022-04-30T19:21:48.156491Z"
    }
   },
   "outputs": [
    {
     "data": {
      "image/png": "[encoded data removed]",
      "text/plain": [
       "<Figure size 1296x864 with 6 Axes>"
      ]
     },
     "metadata": {
      "needs_background": "light"
     },
     "output_type": "display_data"
    }
   ],
   "source": [
    "plt.figure(figsize=(18, 12))\n",
    "\n",
    "for i, plot in enumerate(boolean_cols):\n",
    "    if plot != 'Approved':\n",
    "        plt.subplot(int(f'33{i+1}'))\n",
    "        plt.title(f'{plot} by approval', fontdict=font_fmt)\n",
    "        plt.subplots_adjust(hspace=0.3)\n",
    "        sns.countplot(data=df, x='Approved', hue=plot)\n",
    "        plt.xlabel('')\n",
    "        plt.legend(['Not Approved', 'Approved'], loc='upper right')"
   ]
  },
  {
   "cell_type": "code",
   "execution_count": 15,
   "metadata": {
    "execution": {
     "iopub.execute_input": "2022-04-30T19:21:48.953891Z",
     "iopub.status.busy": "2022-04-30T19:21:48.953659Z",
     "iopub.status.idle": "2022-04-30T19:21:49.454893Z",
     "shell.execute_reply": "2022-04-30T19:21:49.454106Z",
     "shell.execute_reply.started": "2022-04-30T19:21:48.953861Z"
    }
   },
   "outputs": [
    {
     "data": {
      "image/png": "[encoded data removed]",
      "text/plain": [
       "<Figure size 720x576 with 3 Axes>"
      ]
     },
     "metadata": {
      "needs_background": "light"
     },
     "output_type": "display_data"
    }
   ],
   "source": [
    "for i, plot in enumerate(string_cols):\n",
    "    if plot != 'ZipCode':\n",
    "        plt.subplot(int(f'22{i+1}'))\n",
    "        plt.title(f'{plot}', fontdict=font_fmt)\n",
    "        plt.subplots_adjust(wspace=0.3, hspace=0.3)\n",
    "        sns.countplot(y=df[plot])"
   ]
  },
  {
   "cell_type": "code",
   "execution_count": 16,
   "metadata": {
    "execution": {
     "iopub.execute_input": "2022-04-30T19:21:49.456849Z",
     "iopub.status.busy": "2022-04-30T19:21:49.456237Z",
     "iopub.status.idle": "2022-04-30T19:21:50.828178Z",
     "shell.execute_reply": "2022-04-30T19:21:50.827376Z",
     "shell.execute_reply.started": "2022-04-30T19:21:49.4568Z"
    }
   },
   "outputs": [
    {
     "data": {
      "text/plain": [
       "<Figure size 1152x720 with 0 Axes>"
      ]
     },
     "metadata": {},
     "output_type": "display_data"
    },
    {
     "data": {
      "image/png": "[encoded data removed]",
      "text/plain": [
       "<Figure size 864x432 with 2 Axes>"
      ]
     },
     "metadata": {
      "needs_background": "light"
     },
     "output_type": "display_data"
    },
    {
     "data": {
      "image/png": "[encoded data removed]",
      "text/plain": [
       "<Figure size 864x432 with 2 Axes>"
      ]
     },
     "metadata": {
      "needs_background": "light"
     },
     "output_type": "display_data"
    },
    {
     "data": {
      "image/png": "[encoded data removed]",
      "text/plain": [
       "<Figure size 864x432 with 2 Axes>"
      ]
     },
     "metadata": {
      "needs_background": "light"
     },
     "output_type": "display_data"
    }
   ],
   "source": [
    "plt.figure(figsize=(16, 10))\n",
    "\n",
    "for i, plot in enumerate(string_cols):\n",
    "    sns.catplot(y=plot, col=\"Approved\",\n",
    "                data=df, kind=\"count\",\n",
    "                height=6, aspect=1,\n",
    "                order=df[plot].value_counts().index)"
   ]
  },
  {
   "cell_type": "markdown",
   "metadata": {},
   "source": [
    "<h3 style='color: #5AA49D'>Key Findings</h3>\n",
    "\n",
    "<ul>\n",
    "    <li>Based on descriptive analysis, <b>YearsEmployed</b>, <b>CreditScore</b>, and <b>Income</b> might affect creidt card approval chance; the higher the numbers, the higher the chance of approval.</li>\n",
    "    <li><b>PriorDefault</b> and <b>Employed</b> also seem to be significant factors in determining approval status. Having prior default or defaults increases the chance of approval. Being employed also increases the chance of approval.</li>\n",
    "</ul>"
   ]
  },
  {
   "cell_type": "markdown",
   "metadata": {},
   "source": [
    "# Data Wrangling"
   ]
  },
  {
   "cell_type": "code",
   "execution_count": 17,
   "metadata": {
    "execution": {
     "iopub.execute_input": "2022-04-30T19:21:50.849333Z",
     "iopub.status.busy": "2022-04-30T19:21:50.849085Z",
     "iopub.status.idle": "2022-04-30T19:21:50.873529Z",
     "shell.execute_reply": "2022-04-30T19:21:50.872674Z",
     "shell.execute_reply.started": "2022-04-30T19:21:50.849298Z"
    }
   },
   "outputs": [
    {
     "name": "stdout",
     "output_type": "stream",
     "text": [
      "['Industry', 'Ethnicity', 'Citizen']\n"
     ]
    },
    {
     "data": {
      "text/html": [
       "<div>\n",
       "<style scoped>\n",
       "    .dataframe tbody tr th:only-of-type {\n",
       "        vertical-align: middle;\n",
       "    }\n",
       "\n",
       "    .dataframe tbody tr th {\n",
       "        vertical-align: top;\n",
       "    }\n",
       "\n",
       "    .dataframe thead th {\n",
       "        text-align: right;\n",
       "    }\n",
       "</style>\n",
       "<table border=\"1\" class=\"dataframe\">\n",
       "  <thead>\n",
       "    <tr style=\"text-align: right;\">\n",
       "      <th></th>\n",
       "      <th>Gender</th>\n",
       "      <th>Age</th>\n",
       "      <th>Debt</th>\n",
       "      <th>Married</th>\n",
       "      <th>BankCustomer</th>\n",
       "      <th>YearsEmployed</th>\n",
       "      <th>PriorDefault</th>\n",
       "      <th>Employed</th>\n",
       "      <th>CreditScore</th>\n",
       "      <th>DriversLicense</th>\n",
       "      <th>Income</th>\n",
       "      <th>Approved</th>\n",
       "    </tr>\n",
       "  </thead>\n",
       "  <tbody>\n",
       "    <tr>\n",
       "      <th>0</th>\n",
       "      <td>1</td>\n",
       "      <td>30.83</td>\n",
       "      <td>0.000</td>\n",
       "      <td>1</td>\n",
       "      <td>1</td>\n",
       "      <td>1.25</td>\n",
       "      <td>1</td>\n",
       "      <td>1</td>\n",
       "      <td>1</td>\n",
       "      <td>0</td>\n",
       "      <td>0</td>\n",
       "      <td>1</td>\n",
       "    </tr>\n",
       "    <tr>\n",
       "      <th>1</th>\n",
       "      <td>0</td>\n",
       "      <td>58.67</td>\n",
       "      <td>4.460</td>\n",
       "      <td>1</td>\n",
       "      <td>1</td>\n",
       "      <td>3.04</td>\n",
       "      <td>1</td>\n",
       "      <td>1</td>\n",
       "      <td>6</td>\n",
       "      <td>0</td>\n",
       "      <td>560</td>\n",
       "      <td>1</td>\n",
       "    </tr>\n",
       "    <tr>\n",
       "      <th>2</th>\n",
       "      <td>0</td>\n",
       "      <td>24.50</td>\n",
       "      <td>0.500</td>\n",
       "      <td>1</td>\n",
       "      <td>1</td>\n",
       "      <td>1.50</td>\n",
       "      <td>1</td>\n",
       "      <td>0</td>\n",
       "      <td>0</td>\n",
       "      <td>0</td>\n",
       "      <td>824</td>\n",
       "      <td>1</td>\n",
       "    </tr>\n",
       "    <tr>\n",
       "      <th>3</th>\n",
       "      <td>1</td>\n",
       "      <td>27.83</td>\n",
       "      <td>1.540</td>\n",
       "      <td>1</td>\n",
       "      <td>1</td>\n",
       "      <td>3.75</td>\n",
       "      <td>1</td>\n",
       "      <td>1</td>\n",
       "      <td>5</td>\n",
       "      <td>1</td>\n",
       "      <td>3</td>\n",
       "      <td>1</td>\n",
       "    </tr>\n",
       "    <tr>\n",
       "      <th>4</th>\n",
       "      <td>1</td>\n",
       "      <td>20.17</td>\n",
       "      <td>5.625</td>\n",
       "      <td>1</td>\n",
       "      <td>1</td>\n",
       "      <td>1.71</td>\n",
       "      <td>1</td>\n",
       "      <td>0</td>\n",
       "      <td>0</td>\n",
       "      <td>0</td>\n",
       "      <td>0</td>\n",
       "      <td>1</td>\n",
       "    </tr>\n",
       "  </tbody>\n",
       "</table>\n",
       "</div>"
      ],
      "text/plain": [
       "   Gender    Age   Debt  Married  BankCustomer  YearsEmployed  PriorDefault  \\\n",
       "0       1  30.83  0.000        1             1           1.25             1   \n",
       "1       0  58.67  4.460        1             1           3.04             1   \n",
       "2       0  24.50  0.500        1             1           1.50             1   \n",
       "3       1  27.83  1.540        1             1           3.75             1   \n",
       "4       1  20.17  5.625        1             1           1.71             1   \n",
       "\n",
       "   Employed  CreditScore  DriversLicense  Income  Approved  \n",
       "0         1            1               0       0         1  \n",
       "1         1            6               0     560         1  \n",
       "2         0            0               0     824         1  \n",
       "3         1            5               1       3         1  \n",
       "4         0            0               0       0         1  "
      ]
     },
     "execution_count": 17,
     "metadata": {},
     "output_type": "execute_result"
    }
   ],
   "source": [
    "# removing ZipCode, Industry, Ethnicity, and Citizenship from the training dataset\n",
    "# I think including these information would be unethical to be used for credit card approving\n",
    "\n",
    "df_copy = df.drop(string_cols, axis=1)\n",
    "df_copy.drop('ZipCode', axis=1, inplace=True)\n",
    "print(string_cols)\n",
    "df_copy.head()"
   ]
  },
  {
   "cell_type": "code",
   "execution_count": 18,
   "metadata": {
    "execution": {
     "iopub.execute_input": "2022-04-30T19:21:50.875601Z",
     "iopub.status.busy": "2022-04-30T19:21:50.875093Z",
     "iopub.status.idle": "2022-04-30T19:21:50.88235Z",
     "shell.execute_reply": "2022-04-30T19:21:50.8815Z",
     "shell.execute_reply.started": "2022-04-30T19:21:50.875556Z"
    }
   },
   "outputs": [],
   "source": [
    "# splitting X (variables) and y (output)\n",
    "X = df_copy.drop('Approved', axis=1)\n",
    "y = df_copy['Approved']"
   ]
  },
  {
   "cell_type": "code",
   "execution_count": 19,
   "metadata": {
    "execution": {
     "iopub.execute_input": "2022-04-30T19:21:50.883721Z",
     "iopub.status.busy": "2022-04-30T19:21:50.883483Z",
     "iopub.status.idle": "2022-04-30T19:21:50.898412Z",
     "shell.execute_reply": "2022-04-30T19:21:50.897475Z",
     "shell.execute_reply.started": "2022-04-30T19:21:50.88369Z"
    }
   },
   "outputs": [],
   "source": [
    "# rescaling data\n",
    "sc = MinMaxScaler(feature_range=(0,1))\n",
    "\n",
    "X = sc.fit_transform(X)"
   ]
  },
  {
   "cell_type": "markdown",
   "metadata": {},
   "source": [
    "# Machine Learning model\n",
    "\n",
    "Evaluate different classification models to see which produce the best accuracy score for this dataset."
   ]
  },
  {
   "cell_type": "code",
   "execution_count": 20,
   "metadata": {
    "execution": {
     "iopub.execute_input": "2022-04-30T19:21:50.900599Z",
     "iopub.status.busy": "2022-04-30T19:21:50.899748Z",
     "iopub.status.idle": "2022-04-30T19:21:51.277129Z",
     "shell.execute_reply": "2022-04-30T19:21:51.275983Z",
     "shell.execute_reply.started": "2022-04-30T19:21:50.900553Z"
    }
   },
   "outputs": [
    {
     "name": "stdout",
     "output_type": "stream",
     "text": [
      "LR: 0.8449 (0.1936)\n",
      "KNN: 0.8029 (0.1699)\n",
      "DT: 0.7797 (0.1436)\n",
      "NB: 0.7725 (0.1363)\n",
      "SVM: 0.8391 (0.1928)\n"
     ]
    }
   ],
   "source": [
    "models = []\n",
    "models.append(('LR', LogisticRegression()))\n",
    "models.append(('KNN', KNeighborsClassifier()))\n",
    "models.append(('DT', DecisionTreeClassifier()))\n",
    "models.append(('NB', GaussianNB()))\n",
    "models.append(('SVM', SVC()))\n",
    "\n",
    "# evaluate each model in turn\n",
    "\n",
    "for name, model in models:\n",
    "    kfold = KFold(n_splits=10)\n",
    "    cv_results = cross_val_score(model, X, y, cv=kfold, scoring='accuracy')\n",
    "    scoring = f\"{name}: {round(cv_results.mean(), 4)} ({round(cv_results.std(),4)})\"\n",
    "    print(scoring)\n"
   ]
  },
  {
   "cell_type": "markdown",
   "metadata": {},
   "source": [
    "<p><b>Logistic Regression</b> and <b>KNN</b> seem to have the best accuracy score out of those classification models (84.49% and 80.29%, respectively).</p>"
   ]
  },
  {
   "cell_type": "code",
   "execution_count": 21,
   "metadata": {
    "execution": {
     "iopub.execute_input": "2022-04-30T19:40:29.787795Z",
     "iopub.status.busy": "2022-04-30T19:40:29.787361Z",
     "iopub.status.idle": "2022-04-30T19:40:29.806358Z",
     "shell.execute_reply": "2022-04-30T19:40:29.80544Z",
     "shell.execute_reply.started": "2022-04-30T19:40:29.787764Z"
    }
   },
   "outputs": [
    {
     "name": "stdout",
     "output_type": "stream",
     "text": [
      "Accuracy score for Logistic Regression model: 0.8985507246376812\n"
     ]
    }
   ],
   "source": [
    "X_train, X_test, y_train, y_test = train_test_split(X, y, test_size=0.2, random_state=10)\n",
    "\n",
    "test_model = LogisticRegression()\n",
    "test_model.fit(X_train, y_train)\n",
    "\n",
    "predictions = test_model.predict(X_test)\n",
    "accuracy = accuracy_score(y_test, predictions)\n",
    "print(f'Accuracy score for Logistic Regression model: {accuracy}')"
   ]
  },
  {
   "cell_type": "markdown",
   "metadata": {},
   "source": [
    "<p>An accuracy score of 89.86% is very good.</p>\n",
    "<p>Let's try to improve the accuracy of the model and make sure that the model is not overly optimistic using:</p>\n",
    "<ul>\n",
    "    <li><a href='https://machinelearningmastery.com/rfe-feature-selection-in-python/'>Recursive Feature Elimination</a> (RFE) is a feature selection algorithm that will evaluate and rank the importance of each feature in the dataset. Then, it will eliminate features that aren't strongly correlate to the output.</li>\n",
    "    <li><a href='https://machinelearningmastery.com/repeated-k-fold-cross-validation-with-python/'>Repeated K-Fold cross validation</a> will help to reduce noises compared to the simple KFold cross validation method.</li>\n",
    "</ul>"
   ]
  },
  {
   "cell_type": "code",
   "execution_count": 22,
   "metadata": {
    "execution": {
     "iopub.execute_input": "2022-04-30T20:17:29.638884Z",
     "iopub.status.busy": "2022-04-30T20:17:29.63853Z",
     "iopub.status.idle": "2022-04-30T20:17:29.714389Z",
     "shell.execute_reply": "2022-04-30T20:17:29.713493Z",
     "shell.execute_reply.started": "2022-04-30T20:17:29.638852Z"
    }
   },
   "outputs": [
    {
     "data": {
      "text/plain": [
       "RFE(estimator=LogisticRegression(), n_features_to_select=5)"
      ]
     },
     "execution_count": 22,
     "metadata": {},
     "output_type": "execute_result"
    }
   ],
   "source": [
    "# we don't know how many features to choose so 5 features can be a good start for our RFE\n",
    "\n",
    "rfe = RFE(LogisticRegression(), n_features_to_select=5)\n",
    "rfe.fit(X_train, y_train)"
   ]
  },
  {
   "cell_type": "code",
   "execution_count": 23,
   "metadata": {
    "execution": {
     "iopub.execute_input": "2022-04-30T20:17:30.467737Z",
     "iopub.status.busy": "2022-04-30T20:17:30.466855Z",
     "iopub.status.idle": "2022-04-30T20:17:30.479587Z",
     "shell.execute_reply": "2022-04-30T20:17:30.478893Z",
     "shell.execute_reply.started": "2022-04-30T20:17:30.467692Z"
    }
   },
   "outputs": [
    {
     "data": {
      "text/html": [
       "<div>\n",
       "<style scoped>\n",
       "    .dataframe tbody tr th:only-of-type {\n",
       "        vertical-align: middle;\n",
       "    }\n",
       "\n",
       "    .dataframe tbody tr th {\n",
       "        vertical-align: top;\n",
       "    }\n",
       "\n",
       "    .dataframe thead th {\n",
       "        text-align: right;\n",
       "    }\n",
       "</style>\n",
       "<table border=\"1\" class=\"dataframe\">\n",
       "  <thead>\n",
       "    <tr style=\"text-align: right;\">\n",
       "      <th></th>\n",
       "      <th>rank</th>\n",
       "    </tr>\n",
       "  </thead>\n",
       "  <tbody>\n",
       "    <tr>\n",
       "      <th>BankCustomer</th>\n",
       "      <td>1</td>\n",
       "    </tr>\n",
       "    <tr>\n",
       "      <th>YearsEmployed</th>\n",
       "      <td>1</td>\n",
       "    </tr>\n",
       "    <tr>\n",
       "      <th>PriorDefault</th>\n",
       "      <td>1</td>\n",
       "    </tr>\n",
       "    <tr>\n",
       "      <th>Employed</th>\n",
       "      <td>1</td>\n",
       "    </tr>\n",
       "    <tr>\n",
       "      <th>CreditScore</th>\n",
       "      <td>1</td>\n",
       "    </tr>\n",
       "    <tr>\n",
       "      <th>Income</th>\n",
       "      <td>2</td>\n",
       "    </tr>\n",
       "    <tr>\n",
       "      <th>DriversLicense</th>\n",
       "      <td>3</td>\n",
       "    </tr>\n",
       "    <tr>\n",
       "      <th>Married</th>\n",
       "      <td>4</td>\n",
       "    </tr>\n",
       "    <tr>\n",
       "      <th>Age</th>\n",
       "      <td>5</td>\n",
       "    </tr>\n",
       "    <tr>\n",
       "      <th>Gender</th>\n",
       "      <td>6</td>\n",
       "    </tr>\n",
       "    <tr>\n",
       "      <th>Debt</th>\n",
       "      <td>7</td>\n",
       "    </tr>\n",
       "  </tbody>\n",
       "</table>\n",
       "</div>"
      ],
      "text/plain": [
       "                rank\n",
       "BankCustomer       1\n",
       "YearsEmployed      1\n",
       "PriorDefault       1\n",
       "Employed           1\n",
       "CreditScore        1\n",
       "Income             2\n",
       "DriversLicense     3\n",
       "Married            4\n",
       "Age                5\n",
       "Gender             6\n",
       "Debt               7"
      ]
     },
     "execution_count": 23,
     "metadata": {},
     "output_type": "execute_result"
    }
   ],
   "source": [
    "df_rank = pd.DataFrame(data=rfe.ranking_, index=df_copy.columns[:-1])\n",
    "df_rank.rename(columns={0:'rank'}, inplace=True)\n",
    "df_rank.sort_values('rank', ascending=True)"
   ]
  },
  {
   "cell_type": "markdown",
   "metadata": {},
   "source": [
    "<p>When selecting 5 features, <b>BankCustomer</b>, <b>YearsEmployed</b>, <b>PriorDefault</b>, <b>Employed</b>, and <b>CreditScore</b> seem to be the top 5 important factors in our prediction model.</p>\n",
    "<p>Now, we can try to create a pipeline </p>"
   ]
  },
  {
   "cell_type": "code",
   "execution_count": 24,
   "metadata": {
    "execution": {
     "iopub.execute_input": "2022-04-30T20:33:10.875129Z",
     "iopub.status.busy": "2022-04-30T20:33:10.874534Z",
     "iopub.status.idle": "2022-04-30T20:33:40.608369Z",
     "shell.execute_reply": "2022-04-30T20:33:40.607502Z",
     "shell.execute_reply.started": "2022-04-30T20:33:10.87509Z"
    }
   },
   "outputs": [],
   "source": [
    "results = []\n",
    "\n",
    "for i in range(1, df_rank.shape[0]+1):\n",
    "    pipeline = Pipeline(steps=[('rfe', RFE(LogisticRegression(), n_features_to_select=i)), ('lg', LogisticRegression())])\n",
    "    cv = RepeatedKFold(n_splits=5, n_repeats=10, random_state=10)\n",
    "\n",
    "    scores = cross_val_score(pipeline, X, y, cv=cv, scoring='accuracy')\n",
    "    \n",
    "    results.append([i, scores.mean(), scores.std()])"
   ]
  },
  {
   "cell_type": "code",
   "execution_count": 25,
   "metadata": {
    "execution": {
     "iopub.execute_input": "2022-04-30T20:33:50.431551Z",
     "iopub.status.busy": "2022-04-30T20:33:50.431222Z",
     "iopub.status.idle": "2022-04-30T20:33:50.44392Z",
     "shell.execute_reply": "2022-04-30T20:33:50.442976Z",
     "shell.execute_reply.started": "2022-04-30T20:33:50.431516Z"
    }
   },
   "outputs": [
    {
     "data": {
      "text/html": [
       "<div>\n",
       "<style scoped>\n",
       "    .dataframe tbody tr th:only-of-type {\n",
       "        vertical-align: middle;\n",
       "    }\n",
       "\n",
       "    .dataframe tbody tr th {\n",
       "        vertical-align: top;\n",
       "    }\n",
       "\n",
       "    .dataframe thead th {\n",
       "        text-align: right;\n",
       "    }\n",
       "</style>\n",
       "<table border=\"1\" class=\"dataframe\">\n",
       "  <thead>\n",
       "    <tr style=\"text-align: right;\">\n",
       "      <th></th>\n",
       "      <th>n_feature</th>\n",
       "      <th>mean</th>\n",
       "      <th>std</th>\n",
       "    </tr>\n",
       "  </thead>\n",
       "  <tbody>\n",
       "    <tr>\n",
       "      <th>0</th>\n",
       "      <td>1</td>\n",
       "      <td>0.855072</td>\n",
       "      <td>0.027113</td>\n",
       "    </tr>\n",
       "    <tr>\n",
       "      <th>1</th>\n",
       "      <td>2</td>\n",
       "      <td>0.855072</td>\n",
       "      <td>0.027113</td>\n",
       "    </tr>\n",
       "    <tr>\n",
       "      <th>2</th>\n",
       "      <td>3</td>\n",
       "      <td>0.855072</td>\n",
       "      <td>0.027113</td>\n",
       "    </tr>\n",
       "    <tr>\n",
       "      <th>3</th>\n",
       "      <td>4</td>\n",
       "      <td>0.855072</td>\n",
       "      <td>0.027152</td>\n",
       "    </tr>\n",
       "    <tr>\n",
       "      <th>4</th>\n",
       "      <td>5</td>\n",
       "      <td>0.854783</td>\n",
       "      <td>0.026485</td>\n",
       "    </tr>\n",
       "    <tr>\n",
       "      <th>5</th>\n",
       "      <td>6</td>\n",
       "      <td>0.856377</td>\n",
       "      <td>0.026711</td>\n",
       "    </tr>\n",
       "    <tr>\n",
       "      <th>6</th>\n",
       "      <td>7</td>\n",
       "      <td>0.854203</td>\n",
       "      <td>0.027138</td>\n",
       "    </tr>\n",
       "    <tr>\n",
       "      <th>7</th>\n",
       "      <td>8</td>\n",
       "      <td>0.853043</td>\n",
       "      <td>0.026169</td>\n",
       "    </tr>\n",
       "    <tr>\n",
       "      <th>8</th>\n",
       "      <td>9</td>\n",
       "      <td>0.853333</td>\n",
       "      <td>0.026429</td>\n",
       "    </tr>\n",
       "    <tr>\n",
       "      <th>9</th>\n",
       "      <td>10</td>\n",
       "      <td>0.853478</td>\n",
       "      <td>0.026018</td>\n",
       "    </tr>\n",
       "    <tr>\n",
       "      <th>10</th>\n",
       "      <td>11</td>\n",
       "      <td>0.853478</td>\n",
       "      <td>0.026538</td>\n",
       "    </tr>\n",
       "  </tbody>\n",
       "</table>\n",
       "</div>"
      ],
      "text/plain": [
       "    n_feature      mean       std\n",
       "0           1  0.855072  0.027113\n",
       "1           2  0.855072  0.027113\n",
       "2           3  0.855072  0.027113\n",
       "3           4  0.855072  0.027152\n",
       "4           5  0.854783  0.026485\n",
       "5           6  0.856377  0.026711\n",
       "6           7  0.854203  0.027138\n",
       "7           8  0.853043  0.026169\n",
       "8           9  0.853333  0.026429\n",
       "9          10  0.853478  0.026018\n",
       "10         11  0.853478  0.026538"
      ]
     },
     "execution_count": 25,
     "metadata": {},
     "output_type": "execute_result"
    }
   ],
   "source": [
    "df_pipeline = pd.DataFrame(data=results, columns=['n_feature', 'mean', 'std'])\n",
    "df_pipeline"
   ]
  },
  {
   "cell_type": "code",
   "execution_count": 26,
   "metadata": {
    "execution": {
     "iopub.execute_input": "2022-04-30T20:39:49.269004Z",
     "iopub.status.busy": "2022-04-30T20:39:49.26821Z",
     "iopub.status.idle": "2022-04-30T20:39:49.274049Z",
     "shell.execute_reply": "2022-04-30T20:39:49.273419Z",
     "shell.execute_reply.started": "2022-04-30T20:39:49.268955Z"
    }
   },
   "outputs": [
    {
     "name": "stdout",
     "output_type": "stream",
     "text": [
      "Cross val score mean: 0.8544532279314887\n",
      "Cross val score std: 0.0010270259134047236\n"
     ]
    }
   ],
   "source": [
    "print(f\"Cross val score mean: {df_pipeline['mean'].mean()}\")\n",
    "print(f\"Cross val score std: {df_pipeline['mean'].std()}\")"
   ]
  },
  {
   "cell_type": "code",
   "execution_count": 27,
   "metadata": {
    "execution": {
     "iopub.execute_input": "2022-04-30T20:46:15.698562Z",
     "iopub.status.busy": "2022-04-30T20:46:15.698261Z",
     "iopub.status.idle": "2022-04-30T20:46:15.710772Z",
     "shell.execute_reply": "2022-04-30T20:46:15.709825Z",
     "shell.execute_reply.started": "2022-04-30T20:46:15.698532Z"
    }
   },
   "outputs": [
    {
     "data": {
      "text/html": [
       "<div>\n",
       "<style scoped>\n",
       "    .dataframe tbody tr th:only-of-type {\n",
       "        vertical-align: middle;\n",
       "    }\n",
       "\n",
       "    .dataframe tbody tr th {\n",
       "        vertical-align: top;\n",
       "    }\n",
       "\n",
       "    .dataframe thead th {\n",
       "        text-align: right;\n",
       "    }\n",
       "</style>\n",
       "<table border=\"1\" class=\"dataframe\">\n",
       "  <thead>\n",
       "    <tr style=\"text-align: right;\">\n",
       "      <th></th>\n",
       "      <th>n_feature</th>\n",
       "      <th>mean</th>\n",
       "      <th>std</th>\n",
       "    </tr>\n",
       "  </thead>\n",
       "  <tbody>\n",
       "    <tr>\n",
       "      <th>5</th>\n",
       "      <td>6</td>\n",
       "      <td>0.856377</td>\n",
       "      <td>0.026711</td>\n",
       "    </tr>\n",
       "  </tbody>\n",
       "</table>\n",
       "</div>"
      ],
      "text/plain": [
       "   n_feature      mean       std\n",
       "5          6  0.856377  0.026711"
      ]
     },
     "execution_count": 27,
     "metadata": {},
     "output_type": "execute_result"
    }
   ],
   "source": [
    "df_pipeline[df_pipeline['mean'] == df_pipeline['mean'].max()]"
   ]
  },
  {
   "cell_type": "markdown",
   "metadata": {},
   "source": [
    "<p>Picking 6 features from the 11 features from the dataset has the best accuracy.</p>\n",
    "<p>Let's look at the ranking of each feature:</p>"
   ]
  },
  {
   "cell_type": "code",
   "execution_count": 28,
   "metadata": {
    "execution": {
     "iopub.execute_input": "2022-04-30T20:51:27.030996Z",
     "iopub.status.busy": "2022-04-30T20:51:27.030715Z",
     "iopub.status.idle": "2022-04-30T20:51:27.105086Z",
     "shell.execute_reply": "2022-04-30T20:51:27.103807Z",
     "shell.execute_reply.started": "2022-04-30T20:51:27.030967Z"
    }
   },
   "outputs": [
    {
     "data": {
      "text/html": [
       "<div>\n",
       "<style scoped>\n",
       "    .dataframe tbody tr th:only-of-type {\n",
       "        vertical-align: middle;\n",
       "    }\n",
       "\n",
       "    .dataframe tbody tr th {\n",
       "        vertical-align: top;\n",
       "    }\n",
       "\n",
       "    .dataframe thead th {\n",
       "        text-align: right;\n",
       "    }\n",
       "</style>\n",
       "<table border=\"1\" class=\"dataframe\">\n",
       "  <thead>\n",
       "    <tr style=\"text-align: right;\">\n",
       "      <th></th>\n",
       "      <th>rank</th>\n",
       "    </tr>\n",
       "  </thead>\n",
       "  <tbody>\n",
       "    <tr>\n",
       "      <th>BankCustomer</th>\n",
       "      <td>1</td>\n",
       "    </tr>\n",
       "    <tr>\n",
       "      <th>YearsEmployed</th>\n",
       "      <td>1</td>\n",
       "    </tr>\n",
       "    <tr>\n",
       "      <th>PriorDefault</th>\n",
       "      <td>1</td>\n",
       "    </tr>\n",
       "    <tr>\n",
       "      <th>Employed</th>\n",
       "      <td>1</td>\n",
       "    </tr>\n",
       "    <tr>\n",
       "      <th>CreditScore</th>\n",
       "      <td>1</td>\n",
       "    </tr>\n",
       "    <tr>\n",
       "      <th>Income</th>\n",
       "      <td>1</td>\n",
       "    </tr>\n",
       "    <tr>\n",
       "      <th>DriversLicense</th>\n",
       "      <td>2</td>\n",
       "    </tr>\n",
       "    <tr>\n",
       "      <th>Married</th>\n",
       "      <td>3</td>\n",
       "    </tr>\n",
       "    <tr>\n",
       "      <th>Age</th>\n",
       "      <td>4</td>\n",
       "    </tr>\n",
       "    <tr>\n",
       "      <th>Gender</th>\n",
       "      <td>5</td>\n",
       "    </tr>\n",
       "    <tr>\n",
       "      <th>Debt</th>\n",
       "      <td>6</td>\n",
       "    </tr>\n",
       "  </tbody>\n",
       "</table>\n",
       "</div>"
      ],
      "text/plain": [
       "                rank\n",
       "BankCustomer       1\n",
       "YearsEmployed      1\n",
       "PriorDefault       1\n",
       "Employed           1\n",
       "CreditScore        1\n",
       "Income             1\n",
       "DriversLicense     2\n",
       "Married            3\n",
       "Age                4\n",
       "Gender             5\n",
       "Debt               6"
      ]
     },
     "execution_count": 28,
     "metadata": {},
     "output_type": "execute_result"
    }
   ],
   "source": [
    "rfe = RFE(LogisticRegression(), n_features_to_select=6)\n",
    "rfe.fit(X_train, y_train)\n",
    "df_rank = pd.DataFrame(data=rfe.ranking_, index=df_copy.columns[:-1])\n",
    "df_rank.rename(columns={0:'rank'}, inplace=True)\n",
    "df_rank.sort_values('rank', ascending=True)"
   ]
  },
  {
   "cell_type": "markdown",
   "metadata": {},
   "source": [
    "<p>In addition to our first 5 features, <b>Income</b> is another feature that seems to have high importance in determining the credit card approval.</p>\n",
    "<p>Let's visualize these features:</p>"
   ]
  },
  {
   "cell_type": "code",
   "execution_count": 29,
   "metadata": {
    "execution": {
     "iopub.execute_input": "2022-04-30T21:28:52.515553Z",
     "iopub.status.busy": "2022-04-30T21:28:52.515106Z",
     "iopub.status.idle": "2022-04-30T21:28:52.529316Z",
     "shell.execute_reply": "2022-04-30T21:28:52.528358Z",
     "shell.execute_reply.started": "2022-04-30T21:28:52.515518Z"
    }
   },
   "outputs": [
    {
     "data": {
      "text/html": [
       "<div>\n",
       "<style scoped>\n",
       "    .dataframe tbody tr th:only-of-type {\n",
       "        vertical-align: middle;\n",
       "    }\n",
       "\n",
       "    .dataframe tbody tr th {\n",
       "        vertical-align: top;\n",
       "    }\n",
       "\n",
       "    .dataframe thead th {\n",
       "        text-align: right;\n",
       "    }\n",
       "</style>\n",
       "<table border=\"1\" class=\"dataframe\">\n",
       "  <thead>\n",
       "    <tr style=\"text-align: right;\">\n",
       "      <th></th>\n",
       "      <th>BankCustomer</th>\n",
       "      <th>YearsEmployed</th>\n",
       "      <th>PriorDefault</th>\n",
       "      <th>Employed</th>\n",
       "      <th>CreditScore</th>\n",
       "      <th>Income</th>\n",
       "      <th>Approved</th>\n",
       "    </tr>\n",
       "  </thead>\n",
       "  <tbody>\n",
       "    <tr>\n",
       "      <th>0</th>\n",
       "      <td>1</td>\n",
       "      <td>1.25</td>\n",
       "      <td>1</td>\n",
       "      <td>1</td>\n",
       "      <td>1</td>\n",
       "      <td>0</td>\n",
       "      <td>1</td>\n",
       "    </tr>\n",
       "    <tr>\n",
       "      <th>1</th>\n",
       "      <td>1</td>\n",
       "      <td>3.04</td>\n",
       "      <td>1</td>\n",
       "      <td>1</td>\n",
       "      <td>6</td>\n",
       "      <td>560</td>\n",
       "      <td>1</td>\n",
       "    </tr>\n",
       "    <tr>\n",
       "      <th>2</th>\n",
       "      <td>1</td>\n",
       "      <td>1.50</td>\n",
       "      <td>1</td>\n",
       "      <td>0</td>\n",
       "      <td>0</td>\n",
       "      <td>824</td>\n",
       "      <td>1</td>\n",
       "    </tr>\n",
       "    <tr>\n",
       "      <th>3</th>\n",
       "      <td>1</td>\n",
       "      <td>3.75</td>\n",
       "      <td>1</td>\n",
       "      <td>1</td>\n",
       "      <td>5</td>\n",
       "      <td>3</td>\n",
       "      <td>1</td>\n",
       "    </tr>\n",
       "    <tr>\n",
       "      <th>4</th>\n",
       "      <td>1</td>\n",
       "      <td>1.71</td>\n",
       "      <td>1</td>\n",
       "      <td>0</td>\n",
       "      <td>0</td>\n",
       "      <td>0</td>\n",
       "      <td>1</td>\n",
       "    </tr>\n",
       "  </tbody>\n",
       "</table>\n",
       "</div>"
      ],
      "text/plain": [
       "   BankCustomer  YearsEmployed  PriorDefault  Employed  CreditScore  Income  \\\n",
       "0             1           1.25             1         1            1       0   \n",
       "1             1           3.04             1         1            6     560   \n",
       "2             1           1.50             1         0            0     824   \n",
       "3             1           3.75             1         1            5       3   \n",
       "4             1           1.71             1         0            0       0   \n",
       "\n",
       "   Approved  \n",
       "0         1  \n",
       "1         1  \n",
       "2         1  \n",
       "3         1  \n",
       "4         1  "
      ]
     },
     "execution_count": 29,
     "metadata": {},
     "output_type": "execute_result"
    }
   ],
   "source": [
    "cols = ['BankCustomer', 'YearsEmployed', 'PriorDefault', 'Employed', 'CreditScore', 'Income', 'Approved']\n",
    "\n",
    "new_df = df[cols]\n",
    "new_df.head()"
   ]
  },
  {
   "cell_type": "code",
   "execution_count": 30,
   "metadata": {
    "execution": {
     "iopub.execute_input": "2022-04-30T21:53:23.828358Z",
     "iopub.status.busy": "2022-04-30T21:53:23.828062Z",
     "iopub.status.idle": "2022-04-30T21:53:24.346152Z",
     "shell.execute_reply": "2022-04-30T21:53:24.345175Z",
     "shell.execute_reply.started": "2022-04-30T21:53:23.828326Z"
    }
   },
   "outputs": [
    {
     "data": {
      "image/png": "[encoded data removed]",
      "text/plain": [
       "<Figure size 1728x576 with 4 Axes>"
      ]
     },
     "metadata": {
      "needs_background": "light"
     },
     "output_type": "display_data"
    }
   ],
   "source": [
    "plt.figure(figsize=(24, 8))\n",
    "\n",
    "plt.subplot(141)\n",
    "sns.boxplot(data=new_df, y='YearsEmployed', x='Approved')\n",
    "plt.title('YearsEmployed', fontdict=font_fmt)\n",
    "plt.subplot(142)\n",
    "sns.boxplot(data=new_df, y='CreditScore', x='Approved')\n",
    "plt.title('CreditScore', fontdict=font_fmt)\n",
    "plt.subplot(143)\n",
    "sns.boxplot(data=new_df, y='Income', x='Approved')\n",
    "plt.title('Income', fontdict=font_fmt)\n",
    "plt.subplot(144)\n",
    "sns.boxplot(data=new_df[new_df['Income']<10000], y='Income', x='Approved')\n",
    "plt.title('Income (<10000)', fontdict=font_fmt)\n",
    "\n",
    "plt.show()"
   ]
  },
  {
   "cell_type": "code",
   "execution_count": 31,
   "metadata": {
    "execution": {
     "iopub.execute_input": "2022-04-30T21:55:28.424915Z",
     "iopub.status.busy": "2022-04-30T21:55:28.42461Z",
     "iopub.status.idle": "2022-04-30T21:55:28.805296Z",
     "shell.execute_reply": "2022-04-30T21:55:28.804639Z",
     "shell.execute_reply.started": "2022-04-30T21:55:28.424881Z"
    }
   },
   "outputs": [
    {
     "data": {
      "image/png": "[encoded data removed]",
      "text/plain": [
       "<Figure size 1728x576 with 3 Axes>"
      ]
     },
     "metadata": {
      "needs_background": "light"
     },
     "output_type": "display_data"
    }
   ],
   "source": [
    "plt.figure(figsize=(24, 8))\n",
    "\n",
    "plt.subplot(131)\n",
    "sns.countplot(data=new_df, x='BankCustomer', hue='Approved')\n",
    "plt.title('BankCustomer', fontdict=font_fmt)\n",
    "plt.subplot(132)\n",
    "sns.countplot(data=new_df, x='PriorDefault', hue='Approved')\n",
    "plt.title('PriorDefault', fontdict=font_fmt)\n",
    "plt.subplot(133)\n",
    "sns.countplot(data=new_df, x='Employed', hue='Approved')\n",
    "plt.title('Employed', fontdict=font_fmt)\n",
    "\n",
    "plt.show()"
   ]
  },
  {
   "cell_type": "markdown",
   "metadata": {},
   "source": [
    "# Conclusion\n",
    "\n",
    "<p>We will be using <b>Logistic Regression</b> with <b>6</b> of the most important features for our predictive model:</p>\n",
    "<ul>\n",
    "    <li>BankCustomer</li>\n",
    "    <li>YearsEmployed</li>\n",
    "    <li>PriorDefault</li>\n",
    "    <li>Employed</li>\n",
    "    <li>CreditScore</li>\n",
    "    <li>Income</li>\n",
    "</ul>\n",
    "<p>Our classification model has an accuracy of <b>85.6% (standard deviation = 0.027)</b>. This model is fairly accurate in predicting whether to approve an applicant for a credit card or not.</p>\n",
    "<p>I think we can also remove Gender, Age, and Marriage status from our set of features since they can somewhat be unethical for the ML model. However, with RFE, the algorithm automatically elimiates unimportant features.</p>"
   ]
  }
 ],
 "metadata": {
  "kernelspec": {
   "display_name": "Python 3",
   "language": "python",
   "name": "python3"
  },
  "language_info": {
   "codemirror_mode": {
    "name": "ipython",
    "version": 3
   },
   "file_extension": ".py",
   "mimetype": "text/x-python",
   "name": "python",
   "nbconvert_exporter": "python",
   "pygments_lexer": "ipython3",
   "version": "3.8.8"
  },
  "varInspector": {
   "cols": {
    "lenName": 16,
    "lenType": 16,
    "lenVar": 40
   },
   "kernels_config": {
    "python": {
     "delete_cmd_postfix": "",
     "delete_cmd_prefix": "del ",
     "library": "var_list.py",
     "varRefreshCmd": "print(var_dic_list())"
    },
    "r": {
     "delete_cmd_postfix": ") ",
     "delete_cmd_prefix": "rm(",
     "library": "var_list.r",
     "varRefreshCmd": "cat(var_dic_list()) "
    }
   },
   "types_to_exclude": [
    "module",
    "function",
    "builtin_function_or_method",
    "instance",
    "_Feature"
   ],
   "window_display": false
  }
 },
 "nbformat": 4,
 "nbformat_minor": 4
}
