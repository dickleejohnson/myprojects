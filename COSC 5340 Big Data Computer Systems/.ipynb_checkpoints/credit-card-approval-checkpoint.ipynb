{
 "cells": [
  {
   "cell_type": "markdown",
   "metadata": {},
   "source": [
    "<h1 style='font-weight: bold; color: #5AA49D; font-size: 3rem'>Credit Card Approval Machine Learning Model</h1>\n",
    "<p><u>By:</u> Minh Nguyen</p>\n",
    "<p><u>Date:</u> April 30th 2022</p>\n",
    "<p><u>Data Source:</u> UCI Machine Learning Respository (<a href='https://archive.ics.uci.edu/ml/datasets/Credit+Approval?msclkid=200008bdc4a311ec9f500a3245a2bfb1'>UCI</a>)</p>"
   ]
  },
  {
   "cell_type": "markdown",
   "metadata": {},
   "source": [
    "<h2 style='font-weight: bold; color: #5AA49D'>1. Introduction</h2>\n",
    "\n",
    "<p>How do banks know whether or not to approve you for a credit card based on just some information about you? Thanks to Machine Learning (ML), many banks were able to create their own model of predicting how reliable an applicant is. for this project, I will apply different Classification ML models into the data and pick out which model perform the best (the highest accuracy).</p>\n",
    "<p>Special thanks to <a href='https://www.kaggle.com/samuelcortinhas'>SAMUEL CORTINHAS</a> for cleaning and tranforming the data into CSV format.</p>"
   ]
  },
  {
   "cell_type": "markdown",
   "metadata": {},
   "source": [
    "<h2 style='font-weight: bold; color: #5AA49D'>2. Data Analysis</h2>\n",
    "\n",
    "<p>Before we create a model, let's do some exploratory data analysis to find insights, trends, and outliers from the data.</p>"
   ]
  },
  {
   "cell_type": "markdown",
   "metadata": {},
   "source": [
    "<h3 style='color: #5AA49D'>2.1. Importing libraries and data</h3>"
   ]
  },
  {
   "cell_type": "code",
   "execution_count": null,
   "metadata": {
    "_cell_guid": "b1076dfc-b9ad-4769-8c92-a6c4dae69d19",
    "_uuid": "8f2839f25d086af736a60e9eeb907d3b93b6e0e5",
    "execution": {
     "iopub.execute_input": "2022-04-30T19:54:34.063884Z",
     "iopub.status.busy": "2022-04-30T19:54:34.0636Z",
     "iopub.status.idle": "2022-04-30T19:54:34.075135Z",
     "shell.execute_reply": "2022-04-30T19:54:34.074225Z",
     "shell.execute_reply.started": "2022-04-30T19:54:34.063852Z"
    }
   },
   "outputs": [],
   "source": [
    "import pandas as pd\n",
    "import seaborn as sns\n",
    "import matplotlib.pyplot as plt\n",
    "%matplotlib inline\n",
    "\n",
    "from sklearn.preprocessing import MinMaxScaler\n",
    "from sklearn.model_selection import train_test_split\n",
    "\n",
    "from sklearn.linear_model import LogisticRegression\n",
    "from sklearn.tree import DecisionTreeClassifier\n",
    "from sklearn.neighbors import KNeighborsClassifier\n",
    "from sklearn.discriminant_analysis import LinearDiscriminantAnalysis\n",
    "from sklearn.naive_bayes import GaussianNB\n",
    "from sklearn.svm import SVC\n",
    "\n",
    "from sklearn.model_selection import KFold\n",
    "from sklearn.model_selection import RepeatedKFold\n",
    "from sklearn.model_selection import cross_val_score\n",
    "from sklearn.pipeline import Pipeline\n",
    "\n",
    "from sklearn.metrics import accuracy_score\n",
    "from sklearn.metrics import confusion_matrix\n",
    "from sklearn.metrics import classification_report\n",
    "from sklearn.feature_selection import RFE"
   ]
  },
  {
   "cell_type": "code",
   "execution_count": null,
   "metadata": {
    "execution": {
     "iopub.execute_input": "2022-04-30T19:21:45.753856Z",
     "iopub.status.busy": "2022-04-30T19:21:45.753525Z",
     "iopub.status.idle": "2022-04-30T19:21:45.77189Z",
     "shell.execute_reply": "2022-04-30T19:21:45.771035Z",
     "shell.execute_reply.started": "2022-04-30T19:21:45.753821Z"
    }
   },
   "outputs": [],
   "source": [
    "df = pd.read_csv('../input/credit-card-approval-clean-data/clean_dataset.csv', dtype={'ZipCode': str})"
   ]
  },
  {
   "cell_type": "markdown",
   "metadata": {},
   "source": [
    "<h3 style='color: #5AA49D'>2.2. Data Overview</h3>"
   ]
  },
  {
   "cell_type": "code",
   "execution_count": null,
   "metadata": {
    "execution": {
     "iopub.execute_input": "2022-04-30T19:21:45.775166Z",
     "iopub.status.busy": "2022-04-30T19:21:45.774546Z",
     "iopub.status.idle": "2022-04-30T19:21:45.801967Z",
     "shell.execute_reply": "2022-04-30T19:21:45.80135Z",
     "shell.execute_reply.started": "2022-04-30T19:21:45.775117Z"
    }
   },
   "outputs": [],
   "source": [
    "df.head()"
   ]
  },
  {
   "cell_type": "code",
   "execution_count": null,
   "metadata": {
    "execution": {
     "iopub.execute_input": "2022-04-30T19:21:45.803856Z",
     "iopub.status.busy": "2022-04-30T19:21:45.803548Z",
     "iopub.status.idle": "2022-04-30T19:21:45.809063Z",
     "shell.execute_reply": "2022-04-30T19:21:45.808493Z",
     "shell.execute_reply.started": "2022-04-30T19:21:45.803816Z"
    }
   },
   "outputs": [],
   "source": [
    "print(df.columns)"
   ]
  },
  {
   "cell_type": "markdown",
   "metadata": {},
   "source": [
    "<h4>Data Information</h4>\n",
    "<ul>\n",
    "    <li><b>Gender:</b> 1=Male, 0=Female</li>\n",
    "    <li><b>Age:</b> in years</li>\n",
    "    <li><b>Debt:</b> outstanding debt (scaled)</li>\n",
    "    <li><b>Married:</b> 1=Married, 0=Single/Divorce/etc.</li>\n",
    "    <li><b>BankCustomer:</b> 1=has a bank account, 0=doesn't have a bank account</li>\n",
    "    <li><b>Industry:</b> current or most recent job sector</li>\n",
    "    <li><b>Ethnicity:</b> ethnicity</li>\n",
    "    <li><b>YearsEmployed:</b> years employed</li>\n",
    "    <li><b>PriorDefault:</b> 1=has prior default, 0=no prior default</li>\n",
    "    <li><b>Employed:</b> 1=employed, 0=unemployed</li>\n",
    "    <li><b>CreditScore:</b> credit score (scaled)</li>\n",
    "    <li><b>DriversLicense:</b> 1=has driver license, 0=no driver license</li>\n",
    "    <li><b>Citizen:</b> citizenship, either ByBirth, ByOtherMeans or Temporary</li>\n",
    "    <li><b>ZipCode:</b> zip code</li>\n",
    "    <li><b>Income:</b> income (scaled)</li>\n",
    "    <li><b>Approved:</b> 1=approved, 0=not approved</li>\n",
    "</ul>\n",
    "\n",
    "<p>As you can see from the table, some numeric values like debt and income are scaled, which means that the data does not represent the amount that it shows. For example, income of 560 doesn't mean $560/year income, but 560 is scaled based on all the data from the feature.</p>"
   ]
  },
  {
   "cell_type": "code",
   "execution_count": null,
   "metadata": {
    "execution": {
     "iopub.execute_input": "2022-04-30T19:21:45.810694Z",
     "iopub.status.busy": "2022-04-30T19:21:45.810467Z",
     "iopub.status.idle": "2022-04-30T19:21:45.829225Z",
     "shell.execute_reply": "2022-04-30T19:21:45.8283Z",
     "shell.execute_reply.started": "2022-04-30T19:21:45.810666Z"
    }
   },
   "outputs": [],
   "source": [
    "cols = ['Industry', 'Ethnicity', 'Citizen']\n",
    "\n",
    "for col in cols:\n",
    "    print(f'--- {col} ---')\n",
    "    print(df[col].unique())\n",
    "    print('\\n')"
   ]
  },
  {
   "cell_type": "code",
   "execution_count": null,
   "metadata": {
    "execution": {
     "iopub.execute_input": "2022-04-30T19:21:45.83435Z",
     "iopub.status.busy": "2022-04-30T19:21:45.834083Z",
     "iopub.status.idle": "2022-04-30T19:21:45.841031Z",
     "shell.execute_reply": "2022-04-30T19:21:45.840463Z",
     "shell.execute_reply.started": "2022-04-30T19:21:45.834314Z"
    }
   },
   "outputs": [],
   "source": [
    "print(f'Number of rows: {df.shape[0]}\\nNumber of columns: {df.shape[1]}')"
   ]
  },
  {
   "cell_type": "code",
   "execution_count": null,
   "metadata": {
    "execution": {
     "iopub.execute_input": "2022-04-30T19:21:45.843246Z",
     "iopub.status.busy": "2022-04-30T19:21:45.842683Z",
     "iopub.status.idle": "2022-04-30T19:21:45.859384Z",
     "shell.execute_reply": "2022-04-30T19:21:45.858718Z",
     "shell.execute_reply.started": "2022-04-30T19:21:45.843187Z"
    }
   },
   "outputs": [],
   "source": [
    "print(f'Number of null values: {df.isnull().values.sum()}')\n",
    "print(f'Number of duplicated values: {df.duplicated().values.sum()}')"
   ]
  },
  {
   "cell_type": "markdown",
   "metadata": {},
   "source": [
    "<h3 style='color: #5AA49D'>2.3. Data Visualization</h3>"
   ]
  },
  {
   "cell_type": "code",
   "execution_count": null,
   "metadata": {
    "execution": {
     "iopub.execute_input": "2022-04-30T19:21:45.861236Z",
     "iopub.status.busy": "2022-04-30T19:21:45.860621Z",
     "iopub.status.idle": "2022-04-30T19:21:45.868329Z",
     "shell.execute_reply": "2022-04-30T19:21:45.86733Z",
     "shell.execute_reply.started": "2022-04-30T19:21:45.861203Z"
    }
   },
   "outputs": [],
   "source": [
    "# setting graphing format\n",
    "\n",
    "plt.rcParams['figure.figsize'] = (10, 8)\n",
    "font_fmt = {'fontweight': 'bold',\n",
    "           'fontsize': 20}\n"
   ]
  },
  {
   "cell_type": "code",
   "execution_count": null,
   "metadata": {
    "execution": {
     "iopub.execute_input": "2022-04-30T19:21:45.870291Z",
     "iopub.status.busy": "2022-04-30T19:21:45.869989Z",
     "iopub.status.idle": "2022-04-30T19:21:45.897066Z",
     "shell.execute_reply": "2022-04-30T19:21:45.896484Z",
     "shell.execute_reply.started": "2022-04-30T19:21:45.870261Z"
    }
   },
   "outputs": [],
   "source": [
    "df.head()"
   ]
  },
  {
   "cell_type": "code",
   "execution_count": null,
   "metadata": {
    "execution": {
     "iopub.execute_input": "2022-04-30T19:21:45.898664Z",
     "iopub.status.busy": "2022-04-30T19:21:45.898134Z",
     "iopub.status.idle": "2022-04-30T19:21:45.903461Z",
     "shell.execute_reply": "2022-04-30T19:21:45.902638Z",
     "shell.execute_reply.started": "2022-04-30T19:21:45.89863Z"
    }
   },
   "outputs": [],
   "source": [
    "numeric_cols = ['Age', 'Debt', 'YearsEmployed', 'CreditScore', 'Income']\n",
    "boolean_cols = ['Gender', 'Married', 'BankCustomer', 'PriorDefault', 'Employed', 'DriversLicense', 'Approved']\n",
    "string_cols = ['Industry', 'Ethnicity', 'Citizen']"
   ]
  },
  {
   "cell_type": "code",
   "execution_count": null,
   "metadata": {
    "execution": {
     "iopub.execute_input": "2022-04-30T19:21:45.905074Z",
     "iopub.status.busy": "2022-04-30T19:21:45.90454Z",
     "iopub.status.idle": "2022-04-30T19:21:46.499685Z",
     "shell.execute_reply": "2022-04-30T19:21:46.498819Z",
     "shell.execute_reply.started": "2022-04-30T19:21:45.905043Z"
    }
   },
   "outputs": [],
   "source": [
    "plt.figure(figsize=(18, 12))\n",
    "\n",
    "for i, plot in enumerate(numeric_cols):\n",
    "    plt.subplot(int(f'23{i+1}'))\n",
    "    plt.title(f'{plot}', fontdict=font_fmt)\n",
    "    plt.subplots_adjust(hspace=0.2)\n",
    "    sns.boxplot(data=df, y=plot)"
   ]
  },
  {
   "cell_type": "code",
   "execution_count": null,
   "metadata": {
    "execution": {
     "iopub.execute_input": "2022-04-30T19:21:46.500917Z",
     "iopub.status.busy": "2022-04-30T19:21:46.500693Z",
     "iopub.status.idle": "2022-04-30T19:21:46.522844Z",
     "shell.execute_reply": "2022-04-30T19:21:46.522238Z",
     "shell.execute_reply.started": "2022-04-30T19:21:46.500889Z"
    }
   },
   "outputs": [],
   "source": [
    "for col in numeric_cols:\n",
    "    print(f'--- {col} ---')\n",
    "    print(df[col].describe())\n",
    "    print('\\n')"
   ]
  },
  {
   "cell_type": "code",
   "execution_count": null,
   "metadata": {
    "execution": {
     "iopub.execute_input": "2022-04-30T19:21:46.524359Z",
     "iopub.status.busy": "2022-04-30T19:21:46.523902Z",
     "iopub.status.idle": "2022-04-30T19:21:47.34077Z",
     "shell.execute_reply": "2022-04-30T19:21:47.339877Z",
     "shell.execute_reply.started": "2022-04-30T19:21:46.524319Z"
    }
   },
   "outputs": [],
   "source": [
    "plt.figure(figsize=(18, 12))\n",
    "\n",
    "for i, plot in enumerate(numeric_cols):\n",
    "    plt.subplot(int(f'23{i+1}'))\n",
    "    plt.title(f'{plot} by Approval', fontdict=font_fmt)\n",
    "    plt.subplots_adjust(hspace=0.2)\n",
    "    sns.boxplot(data=df, y=plot, x='Approved')\n",
    "    plt.xlabel('')\n",
    "\n",
    "\n",
    "plt.show()"
   ]
  },
  {
   "cell_type": "code",
   "execution_count": null,
   "metadata": {
    "execution": {
     "iopub.execute_input": "2022-04-30T19:21:47.342633Z",
     "iopub.status.busy": "2022-04-30T19:21:47.342324Z",
     "iopub.status.idle": "2022-04-30T19:21:47.383635Z",
     "shell.execute_reply": "2022-04-30T19:21:47.382041Z",
     "shell.execute_reply.started": "2022-04-30T19:21:47.342592Z"
    }
   },
   "outputs": [],
   "source": [
    "for col in numeric_cols:\n",
    "    for a in range(2):\n",
    "        if a == 0:\n",
    "            print(f'--- {col} (Not Approved) ---')\n",
    "        else:\n",
    "            print(f'--- {col} (Approved) ---')\n",
    "        print(df[col][df['Approved']==a].describe())\n",
    "        print('\\n')"
   ]
  },
  {
   "cell_type": "code",
   "execution_count": null,
   "metadata": {
    "execution": {
     "iopub.execute_input": "2022-04-30T19:21:47.385219Z",
     "iopub.status.busy": "2022-04-30T19:21:47.385014Z",
     "iopub.status.idle": "2022-04-30T19:21:48.155141Z",
     "shell.execute_reply": "2022-04-30T19:21:48.15441Z",
     "shell.execute_reply.started": "2022-04-30T19:21:47.385193Z"
    }
   },
   "outputs": [],
   "source": [
    "plt.figure(figsize=(18, 12))\n",
    "\n",
    "for i, plot in enumerate(boolean_cols):\n",
    "    plt.subplot(int(f'33{i+1}'))\n",
    "    plt.title(plot, fontdict=font_fmt)\n",
    "    plt.subplots_adjust(hspace=0.3)\n",
    "    sns.countplot(x=df[plot])\n",
    "    plt.xlabel('')"
   ]
  },
  {
   "cell_type": "code",
   "execution_count": null,
   "metadata": {
    "execution": {
     "iopub.execute_input": "2022-04-30T19:21:48.15652Z",
     "iopub.status.busy": "2022-04-30T19:21:48.156278Z",
     "iopub.status.idle": "2022-04-30T19:21:48.952497Z",
     "shell.execute_reply": "2022-04-30T19:21:48.951649Z",
     "shell.execute_reply.started": "2022-04-30T19:21:48.156491Z"
    }
   },
   "outputs": [],
   "source": [
    "plt.figure(figsize=(18, 12))\n",
    "\n",
    "for i, plot in enumerate(boolean_cols):\n",
    "    if plot != 'Approved':\n",
    "        plt.subplot(int(f'33{i+1}'))\n",
    "        plt.title(f'{plot} by approval', fontdict=font_fmt)\n",
    "        plt.subplots_adjust(hspace=0.3)\n",
    "        sns.countplot(data=df, x='Approved', hue=plot)\n",
    "        plt.xlabel('')\n",
    "        plt.legend(['Not Approved', 'Approved'], loc='upper right')"
   ]
  },
  {
   "cell_type": "code",
   "execution_count": null,
   "metadata": {
    "execution": {
     "iopub.execute_input": "2022-04-30T19:21:48.953891Z",
     "iopub.status.busy": "2022-04-30T19:21:48.953659Z",
     "iopub.status.idle": "2022-04-30T19:21:49.454893Z",
     "shell.execute_reply": "2022-04-30T19:21:49.454106Z",
     "shell.execute_reply.started": "2022-04-30T19:21:48.953861Z"
    }
   },
   "outputs": [],
   "source": [
    "for i, plot in enumerate(string_cols):\n",
    "    if plot != 'ZipCode':\n",
    "        plt.subplot(int(f'22{i+1}'))\n",
    "        plt.title(f'{plot}', fontdict=font_fmt)\n",
    "        plt.subplots_adjust(wspace=0.3, hspace=0.3)\n",
    "        sns.countplot(y=df[plot])"
   ]
  },
  {
   "cell_type": "code",
   "execution_count": null,
   "metadata": {
    "execution": {
     "iopub.execute_input": "2022-04-30T19:21:49.456849Z",
     "iopub.status.busy": "2022-04-30T19:21:49.456237Z",
     "iopub.status.idle": "2022-04-30T19:21:50.828178Z",
     "shell.execute_reply": "2022-04-30T19:21:50.827376Z",
     "shell.execute_reply.started": "2022-04-30T19:21:49.4568Z"
    }
   },
   "outputs": [],
   "source": [
    "plt.figure(figsize=(16, 10))\n",
    "\n",
    "for i, plot in enumerate(string_cols):\n",
    "    sns.catplot(y=plot, col=\"Approved\",\n",
    "                data=df, kind=\"count\",\n",
    "                height=6, aspect=1,\n",
    "                order=df[plot].value_counts().index)"
   ]
  },
  {
   "cell_type": "markdown",
   "metadata": {},
   "source": [
    "<h3 style='color: #5AA49D'>2.4. Key Findings</h3>\n",
    "\n",
    "<ul>\n",
    "    <li>Based on descriptive analysis, <b>YearsEmployed</b>, <b>CreditScore</b>, and <b>Income</b> might affect creidt card approval chance; the higher the numbers, the higher the chance of approval.</li>\n",
    "    <li><b>PriorDefault</b> and <b>Employed</b> also seem to be significant factors in determining approval status. Having prior default or defaults increases the chance of approval. Being employed also increases the chance of approval.</li>\n",
    "</ul>"
   ]
  },
  {
   "cell_type": "markdown",
   "metadata": {},
   "source": [
    "<h2 style='color: #5AA49D'>3. Data Wrangling</h2>"
   ]
  },
  {
   "cell_type": "code",
   "execution_count": null,
   "metadata": {
    "execution": {
     "iopub.execute_input": "2022-04-30T19:21:50.830031Z",
     "iopub.status.busy": "2022-04-30T19:21:50.82956Z",
     "iopub.status.idle": "2022-04-30T19:21:50.848019Z",
     "shell.execute_reply": "2022-04-30T19:21:50.847062Z",
     "shell.execute_reply.started": "2022-04-30T19:21:50.829996Z"
    }
   },
   "outputs": [],
   "source": [
    "df.head()"
   ]
  },
  {
   "cell_type": "code",
   "execution_count": null,
   "metadata": {
    "execution": {
     "iopub.execute_input": "2022-04-30T19:21:50.849333Z",
     "iopub.status.busy": "2022-04-30T19:21:50.849085Z",
     "iopub.status.idle": "2022-04-30T19:21:50.873529Z",
     "shell.execute_reply": "2022-04-30T19:21:50.872674Z",
     "shell.execute_reply.started": "2022-04-30T19:21:50.849298Z"
    }
   },
   "outputs": [],
   "source": [
    "# removing ZipCode, Industry, Ethnicity, and Citizenship from the training dataset\n",
    "# I think including these information would be unethical to be used for credit card approving\n",
    "\n",
    "df_copy = df.drop(string_cols, axis=1)\n",
    "df_copy.drop('ZipCode', axis=1, inplace=True)\n",
    "print(string_cols)\n",
    "df_copy.head()"
   ]
  },
  {
   "cell_type": "code",
   "execution_count": null,
   "metadata": {
    "execution": {
     "iopub.execute_input": "2022-04-30T19:21:50.875601Z",
     "iopub.status.busy": "2022-04-30T19:21:50.875093Z",
     "iopub.status.idle": "2022-04-30T19:21:50.88235Z",
     "shell.execute_reply": "2022-04-30T19:21:50.8815Z",
     "shell.execute_reply.started": "2022-04-30T19:21:50.875556Z"
    }
   },
   "outputs": [],
   "source": [
    "# splitting X (variables) and y (output)\n",
    "X = df_copy.drop('Approved', axis=1)\n",
    "y = df_copy['Approved']"
   ]
  },
  {
   "cell_type": "code",
   "execution_count": null,
   "metadata": {
    "execution": {
     "iopub.execute_input": "2022-04-30T19:21:50.883721Z",
     "iopub.status.busy": "2022-04-30T19:21:50.883483Z",
     "iopub.status.idle": "2022-04-30T19:21:50.898412Z",
     "shell.execute_reply": "2022-04-30T19:21:50.897475Z",
     "shell.execute_reply.started": "2022-04-30T19:21:50.88369Z"
    }
   },
   "outputs": [],
   "source": [
    "# rescaling data\n",
    "sc = MinMaxScaler(feature_range=(0,1))\n",
    "\n",
    "X = sc.fit_transform(X)"
   ]
  },
  {
   "cell_type": "markdown",
   "metadata": {},
   "source": [
    "<h2 style='color: #5AA49D'>4. Machine Learning model</h2>\n",
    "\n",
    "<p>First, we will evaluate different classification models to see which product the best accuracy score in this dataset.</p>\n",
    "<p>Then, we can work on improving and verifying our model's accuracy</p>"
   ]
  },
  {
   "cell_type": "code",
   "execution_count": null,
   "metadata": {
    "execution": {
     "iopub.execute_input": "2022-04-30T19:21:50.900599Z",
     "iopub.status.busy": "2022-04-30T19:21:50.899748Z",
     "iopub.status.idle": "2022-04-30T19:21:51.277129Z",
     "shell.execute_reply": "2022-04-30T19:21:51.275983Z",
     "shell.execute_reply.started": "2022-04-30T19:21:50.900553Z"
    }
   },
   "outputs": [],
   "source": [
    "# this cell of code is copied from Edureka! with some slight modifications\n",
    "\n",
    "models = []\n",
    "models.append(('LR', LogisticRegression()))\n",
    "models.append(('LDA', LinearDiscriminantAnalysis()))\n",
    "models.append(('KNN', KNeighborsClassifier()))\n",
    "models.append(('DT', DecisionTreeClassifier()))\n",
    "models.append(('NB', GaussianNB()))\n",
    "models.append(('SVM', SVC()))\n",
    "\n",
    "# evaluate each model in turn\n",
    "\n",
    "for name, model in models:\n",
    "    kfold = KFold(n_splits=10)\n",
    "    cv_results = cross_val_score(model, X, y, cv=kfold, scoring='accuracy')\n",
    "    scoring = f\"{name}: {round(cv_results.mean(), 4)} ({round(cv_results.std(),4)})\"\n",
    "    print(scoring)\n"
   ]
  },
  {
   "cell_type": "markdown",
   "metadata": {},
   "source": [
    "<p><b>Logistic Regression</b> and <b>Linear Discriminant Analysis</b> seem to have the best accuracy score out of those classification models (84.49% and 85.36%, respectively).</p>\n",
    "<p>According to Wikipedia,</p>\n",
    "<ul>\n",
    "    <li><a href='https://en.wikipedia.org/wiki/Logistic_regression'>Logistic Regression</a> \"is a statistical model that models the probability of one event (out of two alternatives) taking place by having the log-odds (the logarithm of the odds) for the event be a linear combination of one or more independent variables ('predictors')\".</li>\n",
    "    <li><a href=\"https://en.wikipedia.org/wiki/Linear_discriminant_analysis\">Linear Discriminant Analysis</a> \"is a generalization of Fisher's linear discriminant, a method used in statistics and other fields, to find a linear combination of features that characterizes or separates two or more classes of objects or events. The resulting combination may be used as a linear classifier, or, more commonly, for dimensionality reduction before later classification.\"</li>\n",
    "</ul>\n",
    "<p>For this project, I will be using <b>Logistic Regression</b> since it is fairly easy to understand while still achieving a good accuracy score.</p>"
   ]
  },
  {
   "cell_type": "code",
   "execution_count": null,
   "metadata": {
    "execution": {
     "iopub.execute_input": "2022-04-30T19:40:29.787795Z",
     "iopub.status.busy": "2022-04-30T19:40:29.787361Z",
     "iopub.status.idle": "2022-04-30T19:40:29.806358Z",
     "shell.execute_reply": "2022-04-30T19:40:29.80544Z",
     "shell.execute_reply.started": "2022-04-30T19:40:29.787764Z"
    }
   },
   "outputs": [],
   "source": [
    "X_train, X_test, y_train, y_test = train_test_split(X, y, test_size=0.2, random_state=10)\n",
    "\n",
    "test_model = LogisticRegression()\n",
    "test_model.fit(X_train, y_train)\n",
    "\n",
    "predictions = test_model.predict(X_test)\n",
    "accuracy = accuracy_score(y_test, predictions)\n",
    "print(f'Accuracy score for Logistic Regression model: {accuracy}')"
   ]
  },
  {
   "cell_type": "markdown",
   "metadata": {},
   "source": [
    "<p>An accuracy score of 89.86% is very good.</p>\n",
    "<p>Let's try to improve the accuracy of the model and make sure that the model is not overly optimistic using:</p>\n",
    "<ul>\n",
    "    <li><a href='https://machinelearningmastery.com/rfe-feature-selection-in-python/'>Recursive Feature Elimination</a> (RFE) is a feature selection algorithm that will evaluate and rank the importance of each feature in the dataset. Then, it will eliminate features that aren't strongly correlate to the output.</li>\n",
    "    <li><a href='https://machinelearningmastery.com/repeated-k-fold-cross-validation-with-python/'>Repeated K-Fold cross validation</a> will help to reduce noises compared to the simple KFold cross validation method.</li>\n",
    "</ul>"
   ]
  },
  {
   "cell_type": "code",
   "execution_count": null,
   "metadata": {
    "execution": {
     "iopub.execute_input": "2022-04-30T20:17:29.638884Z",
     "iopub.status.busy": "2022-04-30T20:17:29.63853Z",
     "iopub.status.idle": "2022-04-30T20:17:29.714389Z",
     "shell.execute_reply": "2022-04-30T20:17:29.713493Z",
     "shell.execute_reply.started": "2022-04-30T20:17:29.638852Z"
    }
   },
   "outputs": [],
   "source": [
    "# we don't know how many features to choose so 5 features can be a good start for our RFE\n",
    "\n",
    "rfe = RFE(LogisticRegression(), n_features_to_select=5)\n",
    "rfe.fit(X_train, y_train)"
   ]
  },
  {
   "cell_type": "code",
   "execution_count": null,
   "metadata": {
    "execution": {
     "iopub.execute_input": "2022-04-30T20:17:30.467737Z",
     "iopub.status.busy": "2022-04-30T20:17:30.466855Z",
     "iopub.status.idle": "2022-04-30T20:17:30.479587Z",
     "shell.execute_reply": "2022-04-30T20:17:30.478893Z",
     "shell.execute_reply.started": "2022-04-30T20:17:30.467692Z"
    }
   },
   "outputs": [],
   "source": [
    "df_rank = pd.DataFrame(data=rfe.ranking_, index=df_copy.columns[:-1])\n",
    "df_rank.rename(columns={0:'rank'}, inplace=True)\n",
    "df_rank.sort_values('rank', ascending=True)"
   ]
  },
  {
   "cell_type": "markdown",
   "metadata": {},
   "source": [
    "<p>When selecting 5 features, <b>BankCustomer</b>, <b>YearsEmployed</b>, <b>PriorDefault</b>, <b>Employed</b>, and <b>CreditScore</b> seem to be the top 5 important factors in our prediction model.</p>\n",
    "<p>Now, we can try to create a pipeline </p>"
   ]
  },
  {
   "cell_type": "code",
   "execution_count": null,
   "metadata": {
    "execution": {
     "iopub.execute_input": "2022-04-30T20:33:10.875129Z",
     "iopub.status.busy": "2022-04-30T20:33:10.874534Z",
     "iopub.status.idle": "2022-04-30T20:33:40.608369Z",
     "shell.execute_reply": "2022-04-30T20:33:40.607502Z",
     "shell.execute_reply.started": "2022-04-30T20:33:10.87509Z"
    }
   },
   "outputs": [],
   "source": [
    "results = []\n",
    "\n",
    "for i in range(1, df_rank.shape[0]+1):\n",
    "    pipeline = Pipeline(steps=[('rfe', RFE(LogisticRegression(), n_features_to_select=i)), ('lg', LogisticRegression())])\n",
    "    cv = RepeatedKFold(n_splits=5, n_repeats=10, random_state=10)\n",
    "\n",
    "    scores = cross_val_score(pipeline, X, y, cv=cv, scoring='accuracy')\n",
    "    \n",
    "    results.append([i, scores.mean(), scores.std()])"
   ]
  },
  {
   "cell_type": "code",
   "execution_count": null,
   "metadata": {
    "execution": {
     "iopub.execute_input": "2022-04-30T20:33:50.431551Z",
     "iopub.status.busy": "2022-04-30T20:33:50.431222Z",
     "iopub.status.idle": "2022-04-30T20:33:50.44392Z",
     "shell.execute_reply": "2022-04-30T20:33:50.442976Z",
     "shell.execute_reply.started": "2022-04-30T20:33:50.431516Z"
    }
   },
   "outputs": [],
   "source": [
    "df_pipeline = pd.DataFrame(data=results, columns=['n_feature', 'mean', 'std'])\n",
    "df_pipeline"
   ]
  },
  {
   "cell_type": "code",
   "execution_count": null,
   "metadata": {
    "execution": {
     "iopub.execute_input": "2022-04-30T20:39:49.269004Z",
     "iopub.status.busy": "2022-04-30T20:39:49.26821Z",
     "iopub.status.idle": "2022-04-30T20:39:49.274049Z",
     "shell.execute_reply": "2022-04-30T20:39:49.273419Z",
     "shell.execute_reply.started": "2022-04-30T20:39:49.268955Z"
    }
   },
   "outputs": [],
   "source": [
    "print(f\"Cross val score mean: {df_pipeline['mean'].mean()}\")\n",
    "print(f\"Cross val score std: {df_pipeline['mean'].std()}\")"
   ]
  },
  {
   "cell_type": "code",
   "execution_count": null,
   "metadata": {
    "execution": {
     "iopub.execute_input": "2022-04-30T20:46:15.698562Z",
     "iopub.status.busy": "2022-04-30T20:46:15.698261Z",
     "iopub.status.idle": "2022-04-30T20:46:15.710772Z",
     "shell.execute_reply": "2022-04-30T20:46:15.709825Z",
     "shell.execute_reply.started": "2022-04-30T20:46:15.698532Z"
    }
   },
   "outputs": [],
   "source": [
    "df_pipeline[df_pipeline['mean'] == df_pipeline['mean'].max()]"
   ]
  },
  {
   "cell_type": "markdown",
   "metadata": {},
   "source": [
    "<p>Picking 6 features from the 11 features from the dataset has the best accuracy.</p>\n",
    "<p>Let's look at the ranking of each feature:</p>"
   ]
  },
  {
   "cell_type": "code",
   "execution_count": null,
   "metadata": {
    "execution": {
     "iopub.execute_input": "2022-04-30T20:51:27.030996Z",
     "iopub.status.busy": "2022-04-30T20:51:27.030715Z",
     "iopub.status.idle": "2022-04-30T20:51:27.105086Z",
     "shell.execute_reply": "2022-04-30T20:51:27.103807Z",
     "shell.execute_reply.started": "2022-04-30T20:51:27.030967Z"
    }
   },
   "outputs": [],
   "source": [
    "rfe = RFE(LogisticRegression(), n_features_to_select=6)\n",
    "rfe.fit(X_train, y_train)\n",
    "df_rank = pd.DataFrame(data=rfe.ranking_, index=df_copy.columns[:-1])\n",
    "df_rank.rename(columns={0:'rank'}, inplace=True)\n",
    "df_rank.sort_values('rank', ascending=True)"
   ]
  },
  {
   "cell_type": "markdown",
   "metadata": {},
   "source": [
    "<p>In addition to our first 5 features, <b>Income</b> is another feature that seems to have high importance in determining the credit card approval.</p>\n",
    "<p>Let's visualize these features:</p>"
   ]
  },
  {
   "cell_type": "code",
   "execution_count": null,
   "metadata": {
    "execution": {
     "iopub.execute_input": "2022-04-30T21:28:52.515553Z",
     "iopub.status.busy": "2022-04-30T21:28:52.515106Z",
     "iopub.status.idle": "2022-04-30T21:28:52.529316Z",
     "shell.execute_reply": "2022-04-30T21:28:52.528358Z",
     "shell.execute_reply.started": "2022-04-30T21:28:52.515518Z"
    }
   },
   "outputs": [],
   "source": [
    "cols = ['BankCustomer', 'YearsEmployed', 'PriorDefault', 'Employed', 'CreditScore', 'Income', 'Approved']\n",
    "\n",
    "new_df = df[cols]\n",
    "new_df.head()"
   ]
  },
  {
   "cell_type": "code",
   "execution_count": null,
   "metadata": {
    "execution": {
     "iopub.execute_input": "2022-04-30T21:53:23.828358Z",
     "iopub.status.busy": "2022-04-30T21:53:23.828062Z",
     "iopub.status.idle": "2022-04-30T21:53:24.346152Z",
     "shell.execute_reply": "2022-04-30T21:53:24.345175Z",
     "shell.execute_reply.started": "2022-04-30T21:53:23.828326Z"
    }
   },
   "outputs": [],
   "source": [
    "plt.figure(figsize=(24, 8))\n",
    "\n",
    "plt.subplot(141)\n",
    "sns.boxplot(data=new_df, y='YearsEmployed', x='Approved')\n",
    "plt.title('YearsEmployed', fontdict=font_fmt)\n",
    "plt.subplot(142)\n",
    "sns.boxplot(data=new_df, y='CreditScore', x='Approved')\n",
    "plt.title('CreditScore', fontdict=font_fmt)\n",
    "plt.subplot(143)\n",
    "sns.boxplot(data=new_df, y='Income', x='Approved')\n",
    "plt.title('Income', fontdict=font_fmt)\n",
    "plt.subplot(144)\n",
    "sns.boxplot(data=new_df[new_df['Income']<10000], y='Income', x='Approved')\n",
    "plt.title('Income (<10000)', fontdict=font_fmt)\n",
    "\n",
    "plt.show()"
   ]
  },
  {
   "cell_type": "code",
   "execution_count": null,
   "metadata": {
    "execution": {
     "iopub.execute_input": "2022-04-30T21:55:28.424915Z",
     "iopub.status.busy": "2022-04-30T21:55:28.42461Z",
     "iopub.status.idle": "2022-04-30T21:55:28.805296Z",
     "shell.execute_reply": "2022-04-30T21:55:28.804639Z",
     "shell.execute_reply.started": "2022-04-30T21:55:28.424881Z"
    }
   },
   "outputs": [],
   "source": [
    "plt.figure(figsize=(24, 8))\n",
    "\n",
    "plt.subplot(131)\n",
    "sns.countplot(data=new_df, x='BankCustomer', hue='Approved')\n",
    "plt.title('BankCustomer', fontdict=font_fmt)\n",
    "plt.subplot(132)\n",
    "sns.countplot(data=new_df, x='PriorDefault', hue='Approved')\n",
    "plt.title('PriorDefault', fontdict=font_fmt)\n",
    "plt.subplot(133)\n",
    "sns.countplot(data=new_df, x='Employed', hue='Approved')\n",
    "plt.title('Employed', fontdict=font_fmt)\n",
    "\n",
    "plt.show()"
   ]
  },
  {
   "cell_type": "markdown",
   "metadata": {},
   "source": [
    "<h2 style='font-weight: bold; color: #5AA49D'>6. Conclusion</h2>\n",
    "\n",
    "<p>We will be using <b>Logistic Regression</b> with <b>6</b> of the most important features for our predictive model:</p>\n",
    "<ul>\n",
    "    <li>BankCustomer</li>\n",
    "    <li>YearsEmployed</li>\n",
    "    <li>PriorDefault</li>\n",
    "    <li>Employed</li>\n",
    "    <li>CreditScore</li>\n",
    "    <li>Income</li>\n",
    "</ul>\n",
    "<p>Our classification model has an accuracy of <b>85.6% (standard deviation = 0.027)</b>. This model is fairly accurate in predicting whether to approve an applicant for a credit card or not.</p>\n",
    "<p>I think we can also remove Gender, Age, and Marriage status from our set of features since they can somewhat be unethical for the ML model. However, with RFE, the algorithm automatically elimiates unimportant features.</p>\n",
    "<p>In the banking industry, I think that this can be a good start in determining the reliability of an applicant for a credit card. However, in reality, there are different types and levels of credit card so each credit card would have a separate model to approve.</p>"
   ]
  }
 ],
 "metadata": {
  "kernelspec": {
   "display_name": "Python 3",
   "language": "python",
   "name": "python3"
  },
  "language_info": {
   "codemirror_mode": {
    "name": "ipython",
    "version": 3
   },
   "file_extension": ".py",
   "mimetype": "text/x-python",
   "name": "python",
   "nbconvert_exporter": "python",
   "pygments_lexer": "ipython3",
   "version": "3.8.8"
  },
  "varInspector": {
   "cols": {
    "lenName": 16,
    "lenType": 16,
    "lenVar": 40
   },
   "kernels_config": {
    "python": {
     "delete_cmd_postfix": "",
     "delete_cmd_prefix": "del ",
     "library": "var_list.py",
     "varRefreshCmd": "print(var_dic_list())"
    },
    "r": {
     "delete_cmd_postfix": ") ",
     "delete_cmd_prefix": "rm(",
     "library": "var_list.r",
     "varRefreshCmd": "cat(var_dic_list()) "
    }
   },
   "types_to_exclude": [
    "module",
    "function",
    "builtin_function_or_method",
    "instance",
    "_Feature"
   ],
   "window_display": false
  }
 },
 "nbformat": 4,
 "nbformat_minor": 4
}
