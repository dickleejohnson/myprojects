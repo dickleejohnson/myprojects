{
 "cells": [
  {
   "cell_type": "markdown",
   "metadata": {},
   "source": [
    "# Assignment 1: Data Science and Big Data Analysis (COSC 5340)"
   ]
  },
  {
   "cell_type": "markdown",
   "metadata": {},
   "source": [
    "#                           Student Name\n",
    "\n",
    "\n",
    "\"Mammographic Mass Data Set\""
   ]
  },
  {
   "cell_type": "markdown",
   "metadata": {},
   "source": [
    "This data set can be used to predict the severity (benign or malignant)\n",
    "of a mammographic mass lesion from BI-RADS attributes and the patient's age.\n",
    "It contains a BI-RADS assessment, the patient's age and three BI-RADS attributes\n",
    "together with the ground truth (the severity field) for 516 benign and\n",
    "445 malignant masses that have been identified on full field digital mammograms\n",
    "collected at the Institute of Radiology of the\n",
    "University Erlangen-Nuremberg between 2003 and 2006.\n",
    "Each instance has an associated BI-RADS assessment ranging from 1 (definitely benign)\n",
    "to 5 (highly suggestive of malignancy) assigned in a double-review process by\n",
    "physicians. Assuming that all cases with BI-RADS assessments greater or equal\n",
    "a given value (varying from 1 to 5), are malignant and the other cases benign,\n",
    "sensitivities and associated specificities can be calculated. These can be an\n",
    "indication of how well a CAD system performs compared to the radiologists.\n",
    "\n",
    "Class Distribution: benign: 516; malignant: 445"
   ]
  },
  {
   "cell_type": "markdown",
   "metadata": {},
   "source": [
    " Attribute Information:\n",
    "   1. BI-RADS assessment: 1 to 5 (ordinal)  \n",
    "   2. Age: patient's age in years (integer)\n",
    "   3. Shape: mass shape: round=1 oval=2 lobular=3 irregular=4 (nominal)\n",
    "   4. Margin: mass margin: circumscribed=1 microlobulated=2 obscured=3 ill-defined=4 spiculated=5 (nominal)\n",
    "   5. Density: mass density high=1 iso=2 low=3 fat-containing=4 (ordinal)\n",
    "   6. Severity: benign=0 or malignant=1 (binominal)"
   ]
  },
  {
   "cell_type": "markdown",
   "metadata": {},
   "source": [
    "Missing Attribute Values: Yes\n",
    "    - BI-RADS assessment:    2\n",
    "    - Age:                   5\n",
    "    - Shape:                31\n",
    "    - Margin:               48\n",
    "    - Density:              76\n",
    "    - Severity:              0"
   ]
  },
  {
   "cell_type": "code",
   "execution_count": 1,
   "metadata": {},
   "outputs": [],
   "source": [
    "#Importing required library\n",
    "import numpy as np\n",
    "import pandas as pd"
   ]
  },
  {
   "cell_type": "code",
   "execution_count": 2,
   "metadata": {},
   "outputs": [],
   "source": [
    "#Load 'mammographic_masses' dataset into a pandas dataframe object 'data'\n",
    "\n",
    "data = pd.read_csv('mammographic_masses.data',index_col = False, header=None)"
   ]
  },
  {
   "cell_type": "code",
   "execution_count": 3,
   "metadata": {},
   "outputs": [
    {
     "data": {
      "text/html": [
       "<div>\n",
       "<style scoped>\n",
       "    .dataframe tbody tr th:only-of-type {\n",
       "        vertical-align: middle;\n",
       "    }\n",
       "\n",
       "    .dataframe tbody tr th {\n",
       "        vertical-align: top;\n",
       "    }\n",
       "\n",
       "    .dataframe thead th {\n",
       "        text-align: right;\n",
       "    }\n",
       "</style>\n",
       "<table border=\"1\" class=\"dataframe\">\n",
       "  <thead>\n",
       "    <tr style=\"text-align: right;\">\n",
       "      <th></th>\n",
       "      <th>0</th>\n",
       "      <th>1</th>\n",
       "      <th>2</th>\n",
       "      <th>3</th>\n",
       "      <th>4</th>\n",
       "      <th>5</th>\n",
       "    </tr>\n",
       "  </thead>\n",
       "  <tbody>\n",
       "    <tr>\n",
       "      <td>0</td>\n",
       "      <td>5</td>\n",
       "      <td>67</td>\n",
       "      <td>3</td>\n",
       "      <td>5</td>\n",
       "      <td>3</td>\n",
       "      <td>1</td>\n",
       "    </tr>\n",
       "    <tr>\n",
       "      <td>1</td>\n",
       "      <td>4</td>\n",
       "      <td>43</td>\n",
       "      <td>1</td>\n",
       "      <td>1</td>\n",
       "      <td>?</td>\n",
       "      <td>1</td>\n",
       "    </tr>\n",
       "    <tr>\n",
       "      <td>2</td>\n",
       "      <td>5</td>\n",
       "      <td>58</td>\n",
       "      <td>4</td>\n",
       "      <td>5</td>\n",
       "      <td>3</td>\n",
       "      <td>1</td>\n",
       "    </tr>\n",
       "    <tr>\n",
       "      <td>3</td>\n",
       "      <td>4</td>\n",
       "      <td>28</td>\n",
       "      <td>1</td>\n",
       "      <td>1</td>\n",
       "      <td>3</td>\n",
       "      <td>0</td>\n",
       "    </tr>\n",
       "    <tr>\n",
       "      <td>4</td>\n",
       "      <td>5</td>\n",
       "      <td>74</td>\n",
       "      <td>1</td>\n",
       "      <td>5</td>\n",
       "      <td>?</td>\n",
       "      <td>1</td>\n",
       "    </tr>\n",
       "  </tbody>\n",
       "</table>\n",
       "</div>"
      ],
      "text/plain": [
       "   0   1  2  3  4  5\n",
       "0  5  67  3  5  3  1\n",
       "1  4  43  1  1  ?  1\n",
       "2  5  58  4  5  3  1\n",
       "3  4  28  1  1  3  0\n",
       "4  5  74  1  5  ?  1"
      ]
     },
     "execution_count": 3,
     "metadata": {},
     "output_type": "execute_result"
    }
   ],
   "source": [
    "#Checking top5 data \n",
    "data.head()"
   ]
  },
  {
   "cell_type": "code",
   "execution_count": 4,
   "metadata": {},
   "outputs": [],
   "source": [
    "#Setting the columns name from our dataset file\n",
    "\n",
    "data.columns = ['BI-RADS assessment','Age','Shape','Margin','Density','Severity']"
   ]
  },
  {
   "cell_type": "code",
   "execution_count": 5,
   "metadata": {},
   "outputs": [
    {
     "data": {
      "text/html": [
       "<div>\n",
       "<style scoped>\n",
       "    .dataframe tbody tr th:only-of-type {\n",
       "        vertical-align: middle;\n",
       "    }\n",
       "\n",
       "    .dataframe tbody tr th {\n",
       "        vertical-align: top;\n",
       "    }\n",
       "\n",
       "    .dataframe thead th {\n",
       "        text-align: right;\n",
       "    }\n",
       "</style>\n",
       "<table border=\"1\" class=\"dataframe\">\n",
       "  <thead>\n",
       "    <tr style=\"text-align: right;\">\n",
       "      <th></th>\n",
       "      <th>BI-RADS assessment</th>\n",
       "      <th>Age</th>\n",
       "      <th>Shape</th>\n",
       "      <th>Margin</th>\n",
       "      <th>Density</th>\n",
       "      <th>Severity</th>\n",
       "    </tr>\n",
       "  </thead>\n",
       "  <tbody>\n",
       "    <tr>\n",
       "      <td>0</td>\n",
       "      <td>5</td>\n",
       "      <td>67</td>\n",
       "      <td>3</td>\n",
       "      <td>5</td>\n",
       "      <td>3</td>\n",
       "      <td>1</td>\n",
       "    </tr>\n",
       "    <tr>\n",
       "      <td>1</td>\n",
       "      <td>4</td>\n",
       "      <td>43</td>\n",
       "      <td>1</td>\n",
       "      <td>1</td>\n",
       "      <td>?</td>\n",
       "      <td>1</td>\n",
       "    </tr>\n",
       "    <tr>\n",
       "      <td>2</td>\n",
       "      <td>5</td>\n",
       "      <td>58</td>\n",
       "      <td>4</td>\n",
       "      <td>5</td>\n",
       "      <td>3</td>\n",
       "      <td>1</td>\n",
       "    </tr>\n",
       "    <tr>\n",
       "      <td>3</td>\n",
       "      <td>4</td>\n",
       "      <td>28</td>\n",
       "      <td>1</td>\n",
       "      <td>1</td>\n",
       "      <td>3</td>\n",
       "      <td>0</td>\n",
       "    </tr>\n",
       "    <tr>\n",
       "      <td>4</td>\n",
       "      <td>5</td>\n",
       "      <td>74</td>\n",
       "      <td>1</td>\n",
       "      <td>5</td>\n",
       "      <td>?</td>\n",
       "      <td>1</td>\n",
       "    </tr>\n",
       "    <tr>\n",
       "      <td>...</td>\n",
       "      <td>...</td>\n",
       "      <td>...</td>\n",
       "      <td>...</td>\n",
       "      <td>...</td>\n",
       "      <td>...</td>\n",
       "      <td>...</td>\n",
       "    </tr>\n",
       "    <tr>\n",
       "      <td>956</td>\n",
       "      <td>4</td>\n",
       "      <td>47</td>\n",
       "      <td>2</td>\n",
       "      <td>1</td>\n",
       "      <td>3</td>\n",
       "      <td>0</td>\n",
       "    </tr>\n",
       "    <tr>\n",
       "      <td>957</td>\n",
       "      <td>4</td>\n",
       "      <td>56</td>\n",
       "      <td>4</td>\n",
       "      <td>5</td>\n",
       "      <td>3</td>\n",
       "      <td>1</td>\n",
       "    </tr>\n",
       "    <tr>\n",
       "      <td>958</td>\n",
       "      <td>4</td>\n",
       "      <td>64</td>\n",
       "      <td>4</td>\n",
       "      <td>5</td>\n",
       "      <td>3</td>\n",
       "      <td>0</td>\n",
       "    </tr>\n",
       "    <tr>\n",
       "      <td>959</td>\n",
       "      <td>5</td>\n",
       "      <td>66</td>\n",
       "      <td>4</td>\n",
       "      <td>5</td>\n",
       "      <td>3</td>\n",
       "      <td>1</td>\n",
       "    </tr>\n",
       "    <tr>\n",
       "      <td>960</td>\n",
       "      <td>4</td>\n",
       "      <td>62</td>\n",
       "      <td>3</td>\n",
       "      <td>3</td>\n",
       "      <td>3</td>\n",
       "      <td>0</td>\n",
       "    </tr>\n",
       "  </tbody>\n",
       "</table>\n",
       "<p>961 rows × 6 columns</p>\n",
       "</div>"
      ],
      "text/plain": [
       "    BI-RADS assessment Age Shape Margin Density  Severity\n",
       "0                    5  67     3      5       3         1\n",
       "1                    4  43     1      1       ?         1\n",
       "2                    5  58     4      5       3         1\n",
       "3                    4  28     1      1       3         0\n",
       "4                    5  74     1      5       ?         1\n",
       "..                 ...  ..   ...    ...     ...       ...\n",
       "956                  4  47     2      1       3         0\n",
       "957                  4  56     4      5       3         1\n",
       "958                  4  64     4      5       3         0\n",
       "959                  5  66     4      5       3         1\n",
       "960                  4  62     3      3       3         0\n",
       "\n",
       "[961 rows x 6 columns]"
      ]
     },
     "execution_count": 5,
     "metadata": {},
     "output_type": "execute_result"
    }
   ],
   "source": [
    "#Watching the changes\n",
    "data"
   ]
  },
  {
   "cell_type": "code",
   "execution_count": 6,
   "metadata": {},
   "outputs": [
    {
     "name": "stdout",
     "output_type": "stream",
     "text": [
      "<class 'pandas.core.frame.DataFrame'>\n",
      "RangeIndex: 961 entries, 0 to 960\n",
      "Data columns (total 6 columns):\n",
      "BI-RADS assessment    961 non-null object\n",
      "Age                   961 non-null object\n",
      "Shape                 961 non-null object\n",
      "Margin                961 non-null object\n",
      "Density               961 non-null object\n",
      "Severity              961 non-null int64\n",
      "dtypes: int64(1), object(5)\n",
      "memory usage: 45.2+ KB\n"
     ]
    }
   ],
   "source": [
    "#Getting information of our dataset\n",
    "data.info()"
   ]
  },
  {
   "cell_type": "code",
   "execution_count": 7,
   "metadata": {},
   "outputs": [
    {
     "data": {
      "text/plain": [
       "BI-RADS assessment    False\n",
       "Age                   False\n",
       "Shape                 False\n",
       "Margin                False\n",
       "Density               False\n",
       "Severity              False\n",
       "dtype: bool"
      ]
     },
     "execution_count": 7,
     "metadata": {},
     "output_type": "execute_result"
    }
   ],
   "source": [
    "#Checking for null values \n",
    "#Result shows no null values\n",
    "data.isnull().any()"
   ]
  },
  {
   "cell_type": "code",
   "execution_count": 8,
   "metadata": {},
   "outputs": [
    {
     "data": {
      "text/plain": [
       "74"
      ]
     },
     "execution_count": 8,
     "metadata": {},
     "output_type": "execute_result"
    }
   ],
   "source": [
    "#Finding number of unique value in 'Age' column\n",
    "\n",
    "data['Age'].nunique()"
   ]
  },
  {
   "cell_type": "code",
   "execution_count": 9,
   "metadata": {},
   "outputs": [
    {
     "data": {
      "text/plain": [
       "array(['5', '4', '3', '?', '2', '55', '0', '6'], dtype=object)"
      ]
     },
     "execution_count": 9,
     "metadata": {},
     "output_type": "execute_result"
    }
   ],
   "source": [
    "#Finding unique values for all columns\n",
    "\n",
    "data['BI-RADS assessment'].unique()"
   ]
  },
  {
   "cell_type": "code",
   "execution_count": 10,
   "metadata": {},
   "outputs": [
    {
     "data": {
      "text/plain": [
       "array(['67', '43', '58', '28', '74', '65', '70', '42', '57', '60', '76',\n",
       "       '64', '36', '54', '52', '59', '40', '66', '56', '75', '63', '45',\n",
       "       '55', '46', '39', '81', '77', '48', '78', '50', '61', '62', '44',\n",
       "       '23', '80', '53', '49', '51', '25', '72', '73', '68', '33', '47',\n",
       "       '29', '34', '71', '84', '24', '86', '41', '87', '21', '19', '35',\n",
       "       '37', '79', '85', '69', '38', '32', '27', '83', '88', '26', '31',\n",
       "       '?', '18', '82', '93', '30', '22', '96', '20'], dtype=object)"
      ]
     },
     "execution_count": 10,
     "metadata": {},
     "output_type": "execute_result"
    }
   ],
   "source": [
    "data['Age'].unique()"
   ]
  },
  {
   "cell_type": "code",
   "execution_count": 11,
   "metadata": {},
   "outputs": [
    {
     "data": {
      "text/plain": [
       "array(['3', '1', '4', '?', '2'], dtype=object)"
      ]
     },
     "execution_count": 11,
     "metadata": {},
     "output_type": "execute_result"
    }
   ],
   "source": [
    "data['Shape'].unique()"
   ]
  },
  {
   "cell_type": "code",
   "execution_count": 12,
   "metadata": {},
   "outputs": [
    {
     "data": {
      "text/plain": [
       "array(['5', '1', '?', '4', '3', '2'], dtype=object)"
      ]
     },
     "execution_count": 12,
     "metadata": {},
     "output_type": "execute_result"
    }
   ],
   "source": [
    "data['Margin'].unique()"
   ]
  },
  {
   "cell_type": "code",
   "execution_count": 13,
   "metadata": {},
   "outputs": [
    {
     "data": {
      "text/plain": [
       "array(['3', '?', '1', '2', '4'], dtype=object)"
      ]
     },
     "execution_count": 13,
     "metadata": {},
     "output_type": "execute_result"
    }
   ],
   "source": [
    "data['Density'].unique()"
   ]
  },
  {
   "cell_type": "code",
   "execution_count": 14,
   "metadata": {},
   "outputs": [
    {
     "data": {
      "text/plain": [
       "array([1, 0], dtype=int64)"
      ]
     },
     "execution_count": 14,
     "metadata": {},
     "output_type": "execute_result"
    }
   ],
   "source": [
    "data['Severity'].unique()"
   ]
  },
  {
   "cell_type": "code",
   "execution_count": 15,
   "metadata": {},
   "outputs": [
    {
     "data": {
      "text/plain": [
       "BI-RADS assessment     8\n",
       "Age                   74\n",
       "Shape                  5\n",
       "Margin                 6\n",
       "Density                5\n",
       "Severity               2\n",
       "dtype: int64"
      ]
     },
     "execution_count": 15,
     "metadata": {},
     "output_type": "execute_result"
    }
   ],
   "source": [
    "#Finding unique value in each column\n",
    "data.nunique()"
   ]
  },
  {
   "cell_type": "code",
   "execution_count": 16,
   "metadata": {},
   "outputs": [
    {
     "ename": "ValueError",
     "evalue": "invalid literal for int() with base 10: '?'",
     "output_type": "error",
     "traceback": [
      "\u001b[1;31m---------------------------------------------------------------------------\u001b[0m",
      "\u001b[1;31mValueError\u001b[0m                                Traceback (most recent call last)",
      "\u001b[1;32m<ipython-input-16-a4705738100b>\u001b[0m in \u001b[0;36m<module>\u001b[1;34m\u001b[0m\n\u001b[0;32m      1\u001b[0m \u001b[1;31m#Trying to convert Age column to integer but failed possible '?' value\u001b[0m\u001b[1;33m\u001b[0m\u001b[1;33m\u001b[0m\u001b[1;33m\u001b[0m\u001b[0m\n\u001b[1;32m----> 2\u001b[1;33m \u001b[0mdata\u001b[0m\u001b[1;33m[\u001b[0m\u001b[1;34m'Age'\u001b[0m\u001b[1;33m]\u001b[0m\u001b[1;33m.\u001b[0m\u001b[0mastype\u001b[0m\u001b[1;33m(\u001b[0m\u001b[0mint\u001b[0m\u001b[1;33m)\u001b[0m\u001b[1;33m\u001b[0m\u001b[1;33m\u001b[0m\u001b[0m\n\u001b[0m",
      "\u001b[1;32m~\\Anaconda3\\lib\\site-packages\\pandas\\core\\generic.py\u001b[0m in \u001b[0;36mastype\u001b[1;34m(self, dtype, copy, errors, **kwargs)\u001b[0m\n\u001b[0;32m   5880\u001b[0m             \u001b[1;31m# else, only a single dtype is given\u001b[0m\u001b[1;33m\u001b[0m\u001b[1;33m\u001b[0m\u001b[1;33m\u001b[0m\u001b[0m\n\u001b[0;32m   5881\u001b[0m             new_data = self._data.astype(\n\u001b[1;32m-> 5882\u001b[1;33m                 \u001b[0mdtype\u001b[0m\u001b[1;33m=\u001b[0m\u001b[0mdtype\u001b[0m\u001b[1;33m,\u001b[0m \u001b[0mcopy\u001b[0m\u001b[1;33m=\u001b[0m\u001b[0mcopy\u001b[0m\u001b[1;33m,\u001b[0m \u001b[0merrors\u001b[0m\u001b[1;33m=\u001b[0m\u001b[0merrors\u001b[0m\u001b[1;33m,\u001b[0m \u001b[1;33m**\u001b[0m\u001b[0mkwargs\u001b[0m\u001b[1;33m\u001b[0m\u001b[1;33m\u001b[0m\u001b[0m\n\u001b[0m\u001b[0;32m   5883\u001b[0m             )\n\u001b[0;32m   5884\u001b[0m             \u001b[1;32mreturn\u001b[0m \u001b[0mself\u001b[0m\u001b[1;33m.\u001b[0m\u001b[0m_constructor\u001b[0m\u001b[1;33m(\u001b[0m\u001b[0mnew_data\u001b[0m\u001b[1;33m)\u001b[0m\u001b[1;33m.\u001b[0m\u001b[0m__finalize__\u001b[0m\u001b[1;33m(\u001b[0m\u001b[0mself\u001b[0m\u001b[1;33m)\u001b[0m\u001b[1;33m\u001b[0m\u001b[1;33m\u001b[0m\u001b[0m\n",
      "\u001b[1;32m~\\Anaconda3\\lib\\site-packages\\pandas\\core\\internals\\managers.py\u001b[0m in \u001b[0;36mastype\u001b[1;34m(self, dtype, **kwargs)\u001b[0m\n\u001b[0;32m    579\u001b[0m \u001b[1;33m\u001b[0m\u001b[0m\n\u001b[0;32m    580\u001b[0m     \u001b[1;32mdef\u001b[0m \u001b[0mastype\u001b[0m\u001b[1;33m(\u001b[0m\u001b[0mself\u001b[0m\u001b[1;33m,\u001b[0m \u001b[0mdtype\u001b[0m\u001b[1;33m,\u001b[0m \u001b[1;33m**\u001b[0m\u001b[0mkwargs\u001b[0m\u001b[1;33m)\u001b[0m\u001b[1;33m:\u001b[0m\u001b[1;33m\u001b[0m\u001b[1;33m\u001b[0m\u001b[0m\n\u001b[1;32m--> 581\u001b[1;33m         \u001b[1;32mreturn\u001b[0m \u001b[0mself\u001b[0m\u001b[1;33m.\u001b[0m\u001b[0mapply\u001b[0m\u001b[1;33m(\u001b[0m\u001b[1;34m\"astype\"\u001b[0m\u001b[1;33m,\u001b[0m \u001b[0mdtype\u001b[0m\u001b[1;33m=\u001b[0m\u001b[0mdtype\u001b[0m\u001b[1;33m,\u001b[0m \u001b[1;33m**\u001b[0m\u001b[0mkwargs\u001b[0m\u001b[1;33m)\u001b[0m\u001b[1;33m\u001b[0m\u001b[1;33m\u001b[0m\u001b[0m\n\u001b[0m\u001b[0;32m    582\u001b[0m \u001b[1;33m\u001b[0m\u001b[0m\n\u001b[0;32m    583\u001b[0m     \u001b[1;32mdef\u001b[0m \u001b[0mconvert\u001b[0m\u001b[1;33m(\u001b[0m\u001b[0mself\u001b[0m\u001b[1;33m,\u001b[0m \u001b[1;33m**\u001b[0m\u001b[0mkwargs\u001b[0m\u001b[1;33m)\u001b[0m\u001b[1;33m:\u001b[0m\u001b[1;33m\u001b[0m\u001b[1;33m\u001b[0m\u001b[0m\n",
      "\u001b[1;32m~\\Anaconda3\\lib\\site-packages\\pandas\\core\\internals\\managers.py\u001b[0m in \u001b[0;36mapply\u001b[1;34m(self, f, axes, filter, do_integrity_check, consolidate, **kwargs)\u001b[0m\n\u001b[0;32m    436\u001b[0m                     \u001b[0mkwargs\u001b[0m\u001b[1;33m[\u001b[0m\u001b[0mk\u001b[0m\u001b[1;33m]\u001b[0m \u001b[1;33m=\u001b[0m \u001b[0mobj\u001b[0m\u001b[1;33m.\u001b[0m\u001b[0mreindex\u001b[0m\u001b[1;33m(\u001b[0m\u001b[0mb_items\u001b[0m\u001b[1;33m,\u001b[0m \u001b[0maxis\u001b[0m\u001b[1;33m=\u001b[0m\u001b[0maxis\u001b[0m\u001b[1;33m,\u001b[0m \u001b[0mcopy\u001b[0m\u001b[1;33m=\u001b[0m\u001b[0malign_copy\u001b[0m\u001b[1;33m)\u001b[0m\u001b[1;33m\u001b[0m\u001b[1;33m\u001b[0m\u001b[0m\n\u001b[0;32m    437\u001b[0m \u001b[1;33m\u001b[0m\u001b[0m\n\u001b[1;32m--> 438\u001b[1;33m             \u001b[0mapplied\u001b[0m \u001b[1;33m=\u001b[0m \u001b[0mgetattr\u001b[0m\u001b[1;33m(\u001b[0m\u001b[0mb\u001b[0m\u001b[1;33m,\u001b[0m \u001b[0mf\u001b[0m\u001b[1;33m)\u001b[0m\u001b[1;33m(\u001b[0m\u001b[1;33m**\u001b[0m\u001b[0mkwargs\u001b[0m\u001b[1;33m)\u001b[0m\u001b[1;33m\u001b[0m\u001b[1;33m\u001b[0m\u001b[0m\n\u001b[0m\u001b[0;32m    439\u001b[0m             \u001b[0mresult_blocks\u001b[0m \u001b[1;33m=\u001b[0m \u001b[0m_extend_blocks\u001b[0m\u001b[1;33m(\u001b[0m\u001b[0mapplied\u001b[0m\u001b[1;33m,\u001b[0m \u001b[0mresult_blocks\u001b[0m\u001b[1;33m)\u001b[0m\u001b[1;33m\u001b[0m\u001b[1;33m\u001b[0m\u001b[0m\n\u001b[0;32m    440\u001b[0m \u001b[1;33m\u001b[0m\u001b[0m\n",
      "\u001b[1;32m~\\Anaconda3\\lib\\site-packages\\pandas\\core\\internals\\blocks.py\u001b[0m in \u001b[0;36mastype\u001b[1;34m(self, dtype, copy, errors, values, **kwargs)\u001b[0m\n\u001b[0;32m    557\u001b[0m \u001b[1;33m\u001b[0m\u001b[0m\n\u001b[0;32m    558\u001b[0m     \u001b[1;32mdef\u001b[0m \u001b[0mastype\u001b[0m\u001b[1;33m(\u001b[0m\u001b[0mself\u001b[0m\u001b[1;33m,\u001b[0m \u001b[0mdtype\u001b[0m\u001b[1;33m,\u001b[0m \u001b[0mcopy\u001b[0m\u001b[1;33m=\u001b[0m\u001b[1;32mFalse\u001b[0m\u001b[1;33m,\u001b[0m \u001b[0merrors\u001b[0m\u001b[1;33m=\u001b[0m\u001b[1;34m\"raise\"\u001b[0m\u001b[1;33m,\u001b[0m \u001b[0mvalues\u001b[0m\u001b[1;33m=\u001b[0m\u001b[1;32mNone\u001b[0m\u001b[1;33m,\u001b[0m \u001b[1;33m**\u001b[0m\u001b[0mkwargs\u001b[0m\u001b[1;33m)\u001b[0m\u001b[1;33m:\u001b[0m\u001b[1;33m\u001b[0m\u001b[1;33m\u001b[0m\u001b[0m\n\u001b[1;32m--> 559\u001b[1;33m         \u001b[1;32mreturn\u001b[0m \u001b[0mself\u001b[0m\u001b[1;33m.\u001b[0m\u001b[0m_astype\u001b[0m\u001b[1;33m(\u001b[0m\u001b[0mdtype\u001b[0m\u001b[1;33m,\u001b[0m \u001b[0mcopy\u001b[0m\u001b[1;33m=\u001b[0m\u001b[0mcopy\u001b[0m\u001b[1;33m,\u001b[0m \u001b[0merrors\u001b[0m\u001b[1;33m=\u001b[0m\u001b[0merrors\u001b[0m\u001b[1;33m,\u001b[0m \u001b[0mvalues\u001b[0m\u001b[1;33m=\u001b[0m\u001b[0mvalues\u001b[0m\u001b[1;33m,\u001b[0m \u001b[1;33m**\u001b[0m\u001b[0mkwargs\u001b[0m\u001b[1;33m)\u001b[0m\u001b[1;33m\u001b[0m\u001b[1;33m\u001b[0m\u001b[0m\n\u001b[0m\u001b[0;32m    560\u001b[0m \u001b[1;33m\u001b[0m\u001b[0m\n\u001b[0;32m    561\u001b[0m     \u001b[1;32mdef\u001b[0m \u001b[0m_astype\u001b[0m\u001b[1;33m(\u001b[0m\u001b[0mself\u001b[0m\u001b[1;33m,\u001b[0m \u001b[0mdtype\u001b[0m\u001b[1;33m,\u001b[0m \u001b[0mcopy\u001b[0m\u001b[1;33m=\u001b[0m\u001b[1;32mFalse\u001b[0m\u001b[1;33m,\u001b[0m \u001b[0merrors\u001b[0m\u001b[1;33m=\u001b[0m\u001b[1;34m\"raise\"\u001b[0m\u001b[1;33m,\u001b[0m \u001b[0mvalues\u001b[0m\u001b[1;33m=\u001b[0m\u001b[1;32mNone\u001b[0m\u001b[1;33m,\u001b[0m \u001b[1;33m**\u001b[0m\u001b[0mkwargs\u001b[0m\u001b[1;33m)\u001b[0m\u001b[1;33m:\u001b[0m\u001b[1;33m\u001b[0m\u001b[1;33m\u001b[0m\u001b[0m\n",
      "\u001b[1;32m~\\Anaconda3\\lib\\site-packages\\pandas\\core\\internals\\blocks.py\u001b[0m in \u001b[0;36m_astype\u001b[1;34m(self, dtype, copy, errors, values, **kwargs)\u001b[0m\n\u001b[0;32m    641\u001b[0m                     \u001b[1;31m# _astype_nansafe works fine with 1-d only\u001b[0m\u001b[1;33m\u001b[0m\u001b[1;33m\u001b[0m\u001b[1;33m\u001b[0m\u001b[0m\n\u001b[0;32m    642\u001b[0m                     \u001b[0mvals1d\u001b[0m \u001b[1;33m=\u001b[0m \u001b[0mvalues\u001b[0m\u001b[1;33m.\u001b[0m\u001b[0mravel\u001b[0m\u001b[1;33m(\u001b[0m\u001b[1;33m)\u001b[0m\u001b[1;33m\u001b[0m\u001b[1;33m\u001b[0m\u001b[0m\n\u001b[1;32m--> 643\u001b[1;33m                     \u001b[0mvalues\u001b[0m \u001b[1;33m=\u001b[0m \u001b[0mastype_nansafe\u001b[0m\u001b[1;33m(\u001b[0m\u001b[0mvals1d\u001b[0m\u001b[1;33m,\u001b[0m \u001b[0mdtype\u001b[0m\u001b[1;33m,\u001b[0m \u001b[0mcopy\u001b[0m\u001b[1;33m=\u001b[0m\u001b[1;32mTrue\u001b[0m\u001b[1;33m,\u001b[0m \u001b[1;33m**\u001b[0m\u001b[0mkwargs\u001b[0m\u001b[1;33m)\u001b[0m\u001b[1;33m\u001b[0m\u001b[1;33m\u001b[0m\u001b[0m\n\u001b[0m\u001b[0;32m    644\u001b[0m \u001b[1;33m\u001b[0m\u001b[0m\n\u001b[0;32m    645\u001b[0m                 \u001b[1;31m# TODO(extension)\u001b[0m\u001b[1;33m\u001b[0m\u001b[1;33m\u001b[0m\u001b[1;33m\u001b[0m\u001b[0m\n",
      "\u001b[1;32m~\\Anaconda3\\lib\\site-packages\\pandas\\core\\dtypes\\cast.py\u001b[0m in \u001b[0;36mastype_nansafe\u001b[1;34m(arr, dtype, copy, skipna)\u001b[0m\n\u001b[0;32m    705\u001b[0m         \u001b[1;31m# work around NumPy brokenness, #1987\u001b[0m\u001b[1;33m\u001b[0m\u001b[1;33m\u001b[0m\u001b[1;33m\u001b[0m\u001b[0m\n\u001b[0;32m    706\u001b[0m         \u001b[1;32mif\u001b[0m \u001b[0mnp\u001b[0m\u001b[1;33m.\u001b[0m\u001b[0missubdtype\u001b[0m\u001b[1;33m(\u001b[0m\u001b[0mdtype\u001b[0m\u001b[1;33m.\u001b[0m\u001b[0mtype\u001b[0m\u001b[1;33m,\u001b[0m \u001b[0mnp\u001b[0m\u001b[1;33m.\u001b[0m\u001b[0minteger\u001b[0m\u001b[1;33m)\u001b[0m\u001b[1;33m:\u001b[0m\u001b[1;33m\u001b[0m\u001b[1;33m\u001b[0m\u001b[0m\n\u001b[1;32m--> 707\u001b[1;33m             \u001b[1;32mreturn\u001b[0m \u001b[0mlib\u001b[0m\u001b[1;33m.\u001b[0m\u001b[0mastype_intsafe\u001b[0m\u001b[1;33m(\u001b[0m\u001b[0marr\u001b[0m\u001b[1;33m.\u001b[0m\u001b[0mravel\u001b[0m\u001b[1;33m(\u001b[0m\u001b[1;33m)\u001b[0m\u001b[1;33m,\u001b[0m \u001b[0mdtype\u001b[0m\u001b[1;33m)\u001b[0m\u001b[1;33m.\u001b[0m\u001b[0mreshape\u001b[0m\u001b[1;33m(\u001b[0m\u001b[0marr\u001b[0m\u001b[1;33m.\u001b[0m\u001b[0mshape\u001b[0m\u001b[1;33m)\u001b[0m\u001b[1;33m\u001b[0m\u001b[1;33m\u001b[0m\u001b[0m\n\u001b[0m\u001b[0;32m    708\u001b[0m \u001b[1;33m\u001b[0m\u001b[0m\n\u001b[0;32m    709\u001b[0m         \u001b[1;31m# if we have a datetime/timedelta array of objects\u001b[0m\u001b[1;33m\u001b[0m\u001b[1;33m\u001b[0m\u001b[1;33m\u001b[0m\u001b[0m\n",
      "\u001b[1;32mpandas\\_libs\\lib.pyx\u001b[0m in \u001b[0;36mpandas._libs.lib.astype_intsafe\u001b[1;34m()\u001b[0m\n",
      "\u001b[1;31mValueError\u001b[0m: invalid literal for int() with base 10: '?'"
     ]
    }
   ],
   "source": [
    "#Trying to convert Age column to integer but failed possible '?' value\n",
    "data['Age'].astype(int)"
   ]
  },
  {
   "cell_type": "markdown",
   "metadata": {},
   "source": [
    "# Handling Missing Values"
   ]
  },
  {
   "cell_type": "code",
   "execution_count": 17,
   "metadata": {},
   "outputs": [],
   "source": [
    "#Defining method to replace '?' with null value\n",
    "\n",
    "def check(x):\n",
    "    if x == '?':\n",
    "        return np.NaN\n",
    "    return x"
   ]
  },
  {
   "cell_type": "code",
   "execution_count": 18,
   "metadata": {},
   "outputs": [],
   "source": [
    "#Applying that function to every columns\n",
    "\n",
    "data['Age'] = data['Age'].apply(check)\n",
    "data['Shape'] = data['Shape'].apply(check)\n",
    "data['BI-RADS assessment'] = data['BI-RADS assessment'].apply(check)\n",
    "data['Margin'] = data['Margin'].apply(check)\n",
    "data['Density'] = data['Density'].apply(check)"
   ]
  },
  {
   "cell_type": "code",
   "execution_count": 19,
   "metadata": {},
   "outputs": [
    {
     "data": {
      "text/plain": [
       "BI-RADS assessment     2\n",
       "Age                    5\n",
       "Shape                 31\n",
       "Margin                48\n",
       "Density               76\n",
       "Severity               0\n",
       "dtype: int64"
      ]
     },
     "execution_count": 19,
     "metadata": {},
     "output_type": "execute_result"
    }
   ],
   "source": [
    "#Checking total null value in each columns\n",
    "\n",
    "data.isnull().sum()"
   ]
  },
  {
   "cell_type": "code",
   "execution_count": 20,
   "metadata": {},
   "outputs": [],
   "source": [
    "#Finding average value of 'BI-RADS assessment' after dropping null value and converting rest of the objects to integer\n",
    "avg_col1 = round(data['BI-RADS assessment'].dropna().astype(int).mean())"
   ]
  },
  {
   "cell_type": "code",
   "execution_count": 21,
   "metadata": {},
   "outputs": [
    {
     "data": {
      "text/plain": [
       "4"
      ]
     },
     "execution_count": 21,
     "metadata": {},
     "output_type": "execute_result"
    }
   ],
   "source": [
    "avg_col1"
   ]
  },
  {
   "cell_type": "code",
   "execution_count": 22,
   "metadata": {},
   "outputs": [
    {
     "name": "stdout",
     "output_type": "stream",
     "text": [
      "4\n",
      "55\n",
      "3\n",
      "3\n",
      "3\n"
     ]
    }
   ],
   "source": [
    "#Handling missing values\n",
    "\n",
    "#Finding average value of each columns and replacing null value with average value of each columns\n",
    "avg_col = []\n",
    "for i in range(len(data.columns)-1):\n",
    "    avg_col.append(round(data[data.columns[i]].dropna().astype(int).mean()))\n",
    "    data[data.columns[i]] = data[data.columns[i]].fillna(avg_col[i])\n",
    "    print(avg_col[i])"
   ]
  },
  {
   "cell_type": "code",
   "execution_count": 23,
   "metadata": {},
   "outputs": [],
   "source": [
    "#Converting all the attribute columns to integer type\n",
    "\n",
    "data['Density'] = data['Density'].astype(int)\n",
    "data['Age'] = data['Age'].astype(int)\n",
    "data['Shape'] = data['Shape'].astype(int)\n",
    "data['BI-RADS assessment'] = data['BI-RADS assessment'].astype(int)\n",
    "data['Margin'] = data['Margin'].astype(int)"
   ]
  },
  {
   "cell_type": "code",
   "execution_count": 24,
   "metadata": {},
   "outputs": [
    {
     "name": "stdout",
     "output_type": "stream",
     "text": [
      "<class 'pandas.core.frame.DataFrame'>\n",
      "RangeIndex: 961 entries, 0 to 960\n",
      "Data columns (total 6 columns):\n",
      "BI-RADS assessment    961 non-null int32\n",
      "Age                   961 non-null int32\n",
      "Shape                 961 non-null int32\n",
      "Margin                961 non-null int32\n",
      "Density               961 non-null int32\n",
      "Severity              961 non-null int64\n",
      "dtypes: int32(5), int64(1)\n",
      "memory usage: 26.4 KB\n"
     ]
    }
   ],
   "source": [
    "#Checking the data again\n",
    "\n",
    "data.info()"
   ]
  },
  {
   "cell_type": "code",
   "execution_count": 25,
   "metadata": {},
   "outputs": [
    {
     "data": {
      "text/plain": [
       "BI-RADS assessment    0\n",
       "Age                   0\n",
       "Shape                 0\n",
       "Margin                0\n",
       "Density               0\n",
       "Severity              0\n",
       "dtype: int64"
      ]
     },
     "execution_count": 25,
     "metadata": {},
     "output_type": "execute_result"
    }
   ],
   "source": [
    "# Check for any number of missing value\n",
    "data.isnull().sum()"
   ]
  },
  {
   "cell_type": "markdown",
   "metadata": {},
   "source": [
    "# Calculate Similarity for each attribute"
   ]
  },
  {
   "cell_type": "markdown",
   "metadata": {},
   "source": [
    "![](1.png)"
   ]
  },
  {
   "cell_type": "code",
   "execution_count": 26,
   "metadata": {},
   "outputs": [],
   "source": [
    "#Creating numpy array equals the size of data for each columns\n",
    "#To store the similarity between data objects\n",
    "\n",
    "array1 = np.zeros((len(data),len(data)))\n",
    "array2 = np.zeros((len(data),len(data)))\n",
    "array3 = np.zeros((len(data),len(data)))\n",
    "array4 = np.zeros((len(data),len(data)))\n",
    "array5 = np.zeros((len(data),len(data)))"
   ]
  },
  {
   "cell_type": "code",
   "execution_count": 27,
   "metadata": {},
   "outputs": [
    {
     "data": {
      "text/plain": [
       "array([[0., 0., 0., ..., 0., 0., 0.],\n",
       "       [0., 0., 0., ..., 0., 0., 0.],\n",
       "       [0., 0., 0., ..., 0., 0., 0.],\n",
       "       ...,\n",
       "       [0., 0., 0., ..., 0., 0., 0.],\n",
       "       [0., 0., 0., ..., 0., 0., 0.],\n",
       "       [0., 0., 0., ..., 0., 0., 0.]])"
      ]
     },
     "execution_count": 27,
     "metadata": {},
     "output_type": "execute_result"
    }
   ],
   "source": [
    "array1"
   ]
  },
  {
   "cell_type": "code",
   "execution_count": 28,
   "metadata": {},
   "outputs": [
    {
     "name": "stdout",
     "output_type": "stream",
     "text": [
      "[[1.   0.75 1.   ... 0.75 1.   0.75]\n",
      " [0.75 1.   0.75 ... 1.   0.75 1.  ]\n",
      " [1.   0.75 1.   ... 0.75 1.   0.75]\n",
      " ...\n",
      " [0.75 1.   0.75 ... 1.   0.75 1.  ]\n",
      " [1.   0.75 1.   ... 0.75 1.   0.75]\n",
      " [0.75 1.   0.75 ... 1.   0.75 1.  ]]\n"
     ]
    }
   ],
   "source": [
    "#Similarity for the attribute 'BI-RADS assessment' (ORDINAL ATTRIBUTE)\n",
    "\n",
    "#Using d = |p-q| / (n-1); s = 1 - d\n",
    "\n",
    "# For BI-RADS assessment,  order ranges from 1 to 5 so, n=5\n",
    "\n",
    "s = data['BI-RADS assessment']\n",
    "\n",
    "for i in range(0,961):\n",
    "    for j in range (i,961):\n",
    "        array1[i,j] = 1 - ((abs (s[i] - s[j]))/(5-1))\n",
    "\n",
    "        array1[j,i] = 1 - ((abs (s[i] - s[j]))/(5-1))\n",
    "\n",
    "print(array1)"
   ]
  },
  {
   "cell_type": "code",
   "execution_count": 29,
   "metadata": {},
   "outputs": [
    {
     "name": "stdout",
     "output_type": "stream",
     "text": [
      "[[1.         0.04       0.1        ... 0.25       0.5        0.16666667]\n",
      " [0.04       1.         0.0625     ... 0.04545455 0.04166667 0.05      ]\n",
      " [0.1        0.0625     1.         ... 0.14285714 0.11111111 0.2       ]\n",
      " ...\n",
      " [0.25       0.04545455 0.14285714 ... 1.         0.33333333 0.33333333]\n",
      " [0.5        0.04166667 0.11111111 ... 0.33333333 1.         0.2       ]\n",
      " [0.16666667 0.05       0.2        ... 0.33333333 0.2        1.        ]]\n"
     ]
    }
   ],
   "source": [
    "#Similarity for the attribute 'Age' (RATIO ATTRIBUTE)\n",
    "\n",
    "#Using d = |p-q|; s = 1/(1+d)\n",
    "\n",
    "s = data['Age']\n",
    "\n",
    "for i in range(0,961):\n",
    "    for j in range (i,961):\n",
    "        array2[i,j]  =  1/(1+(abs (s[i] - s[j])))\n",
    "        array2[j,i] = 1/(1+(abs (s[i] - s[j])))\n",
    "\n",
    "print(array2)"
   ]
  },
  {
   "cell_type": "code",
   "execution_count": 30,
   "metadata": {},
   "outputs": [
    {
     "name": "stdout",
     "output_type": "stream",
     "text": [
      "[[1. 0. 0. ... 0. 0. 1.]\n",
      " [0. 1. 0. ... 0. 0. 0.]\n",
      " [0. 0. 1. ... 1. 1. 0.]\n",
      " ...\n",
      " [0. 0. 1. ... 1. 1. 0.]\n",
      " [0. 0. 1. ... 1. 1. 0.]\n",
      " [1. 0. 0. ... 0. 0. 1.]]\n"
     ]
    }
   ],
   "source": [
    "#Similarity for the attribute 'Shape' (NOMINAL ATTRIBUTE)\n",
    "\n",
    "#Using s = 1 if p=q; s=0 if p!=q\n",
    "\n",
    "s = data['Shape']\n",
    "\n",
    "for i in range(0,961):\n",
    "    for j in range (i,961):\n",
    "        if s [i] == s[j]:\n",
    "            array3[i,j] = 1\n",
    "            array3[j,i] = 1\n",
    "    \n",
    "        else:\n",
    "            array3[i,j] = 0\n",
    "            array3[j,i] = 0\n",
    "\n",
    "print(array3)"
   ]
  },
  {
   "cell_type": "code",
   "execution_count": 31,
   "metadata": {},
   "outputs": [
    {
     "name": "stdout",
     "output_type": "stream",
     "text": [
      "[[1. 0. 1. ... 1. 1. 0.]\n",
      " [0. 1. 0. ... 0. 0. 0.]\n",
      " [1. 0. 1. ... 1. 1. 0.]\n",
      " ...\n",
      " [1. 0. 1. ... 1. 1. 0.]\n",
      " [1. 0. 1. ... 1. 1. 0.]\n",
      " [0. 0. 0. ... 0. 0. 1.]]\n"
     ]
    }
   ],
   "source": [
    "#Similarity for the attribute 'Margin' (NOMINAL ATTRIBUTE)\n",
    "\n",
    "#Using s = 1 if p=q; s=0 if p!=q\n",
    "\n",
    "s = data['Margin']\n",
    "\n",
    "for i in range(0,961):\n",
    "    for j in range (i,961):\n",
    "        if s [i] == s[j]:\n",
    "            array4[i,j] = 1\n",
    "            array4[j,i] = 1\n",
    "            \n",
    "        else:\n",
    "            array4[i,j] = 0\n",
    "            array4[j,i] = 0\n",
    "\n",
    "print(array4)"
   ]
  },
  {
   "cell_type": "code",
   "execution_count": 32,
   "metadata": {},
   "outputs": [
    {
     "name": "stdout",
     "output_type": "stream",
     "text": [
      "[[1. 1. 1. ... 1. 1. 1.]\n",
      " [1. 1. 1. ... 1. 1. 1.]\n",
      " [1. 1. 1. ... 1. 1. 1.]\n",
      " ...\n",
      " [1. 1. 1. ... 1. 1. 1.]\n",
      " [1. 1. 1. ... 1. 1. 1.]\n",
      " [1. 1. 1. ... 1. 1. 1.]]\n"
     ]
    }
   ],
   "source": [
    "#Similarity for the attribute 'Density' (ORDINAL ATTRIBUTE)\n",
    "\n",
    "#Using d = |p-q| / (n-1); s = 1 - d\n",
    "\n",
    "# For Density,  order ranges from 1 to 4 so, n=4\n",
    "\n",
    "s = data['Density']\n",
    "\n",
    "for i in range(0,961):\n",
    "    for j in range (i,961):\n",
    "        array5[i,j] = 1 - ((abs (s[i] - s[j]))/(4-1))\n",
    "        array5[j,i] = 1 - ((abs (s[i] - s[j]))/(4-1))\n",
    "\n",
    "print(array5)"
   ]
  },
  {
   "cell_type": "markdown",
   "metadata": {},
   "source": [
    "# Combining Similarity"
   ]
  },
  {
   "cell_type": "markdown",
   "metadata": {},
   "source": [
    "![](2.png)"
   ]
  },
  {
   "cell_type": "code",
   "execution_count": 33,
   "metadata": {},
   "outputs": [],
   "source": [
    "#Creating Dataframe to store similairty value of each data objects attribute-wise\n",
    "\n",
    "mat1 = pd.DataFrame(array1)\n",
    "mat2 = pd.DataFrame(array2)\n",
    "mat3 = pd.DataFrame(array3)\n",
    "mat4 = pd.DataFrame(array4)\n",
    "mat5 = pd.DataFrame(array5)\n",
    "z = np.zeros((len(data),len(data)))\n",
    "final_matrix = pd.DataFrame(z)"
   ]
  },
  {
   "cell_type": "code",
   "execution_count": 34,
   "metadata": {},
   "outputs": [],
   "source": [
    "# Using combining similiraty formula to combine the similarity between attributes\n",
    "# In formula, del(k) value equals 1 because the values does not equals zero or have missing values\n",
    "\n",
    "d = 1\n",
    "for i in range(len(data)):\n",
    "    for j in range(i,len(data)):\n",
    "        z[i,j] = z[j,i] = (d*mat1.loc[i,j]+d*mat2.loc[i,j]+d*mat3.loc[i,j]+d*mat4.loc[i,j]+d*mat5.loc[i,j])/5"
   ]
  },
  {
   "cell_type": "code",
   "execution_count": 35,
   "metadata": {},
   "outputs": [
    {
     "data": {
      "text/plain": [
       "array([[1.        , 0.358     , 0.62      , ..., 0.6       , 0.7       ,\n",
       "        0.58333333],\n",
       "       [0.358     , 1.        , 0.3625    , ..., 0.40909091, 0.35833333,\n",
       "        0.41      ],\n",
       "       [0.62      , 0.3625    , 1.        , ..., 0.77857143, 0.82222222,\n",
       "        0.39      ],\n",
       "       ...,\n",
       "       [0.6       , 0.40909091, 0.77857143, ..., 1.        , 0.81666667,\n",
       "        0.46666667],\n",
       "       [0.7       , 0.35833333, 0.82222222, ..., 0.81666667, 1.        ,\n",
       "        0.39      ],\n",
       "       [0.58333333, 0.41      , 0.39      , ..., 0.46666667, 0.39      ,\n",
       "        1.        ]])"
      ]
     },
     "execution_count": 35,
     "metadata": {},
     "output_type": "execute_result"
    }
   ],
   "source": [
    "#Checking combined similarity value\n",
    "z"
   ]
  },
  {
   "cell_type": "code",
   "execution_count": 36,
   "metadata": {},
   "outputs": [],
   "source": [
    "#Creating Dataframe for the final values\n",
    "final_matrix = pd.DataFrame(z)"
   ]
  },
  {
   "cell_type": "code",
   "execution_count": 37,
   "metadata": {},
   "outputs": [
    {
     "data": {
      "text/html": [
       "<div>\n",
       "<style scoped>\n",
       "    .dataframe tbody tr th:only-of-type {\n",
       "        vertical-align: middle;\n",
       "    }\n",
       "\n",
       "    .dataframe tbody tr th {\n",
       "        vertical-align: top;\n",
       "    }\n",
       "\n",
       "    .dataframe thead th {\n",
       "        text-align: right;\n",
       "    }\n",
       "</style>\n",
       "<table border=\"1\" class=\"dataframe\">\n",
       "  <thead>\n",
       "    <tr style=\"text-align: right;\">\n",
       "      <th></th>\n",
       "      <th>0</th>\n",
       "      <th>1</th>\n",
       "      <th>2</th>\n",
       "      <th>3</th>\n",
       "      <th>4</th>\n",
       "      <th>5</th>\n",
       "      <th>6</th>\n",
       "      <th>7</th>\n",
       "      <th>8</th>\n",
       "      <th>9</th>\n",
       "      <th>...</th>\n",
       "      <th>951</th>\n",
       "      <th>952</th>\n",
       "      <th>953</th>\n",
       "      <th>954</th>\n",
       "      <th>955</th>\n",
       "      <th>956</th>\n",
       "      <th>957</th>\n",
       "      <th>958</th>\n",
       "      <th>959</th>\n",
       "      <th>960</th>\n",
       "    </tr>\n",
       "  </thead>\n",
       "  <tbody>\n",
       "    <tr>\n",
       "      <td>0</td>\n",
       "      <td>1.000000</td>\n",
       "      <td>0.358000</td>\n",
       "      <td>0.620000</td>\n",
       "      <td>0.355000</td>\n",
       "      <td>0.625000</td>\n",
       "      <td>0.416667</td>\n",
       "      <td>0.600000</td>\n",
       "      <td>0.407692</td>\n",
       "      <td>0.618182</td>\n",
       "      <td>0.691667</td>\n",
       "      <td>...</td>\n",
       "      <td>0.800000</td>\n",
       "      <td>0.450000</td>\n",
       "      <td>0.366667</td>\n",
       "      <td>0.356061</td>\n",
       "      <td>0.362500</td>\n",
       "      <td>0.359524</td>\n",
       "      <td>0.566667</td>\n",
       "      <td>0.600000</td>\n",
       "      <td>0.700000</td>\n",
       "      <td>0.583333</td>\n",
       "    </tr>\n",
       "    <tr>\n",
       "      <td>1</td>\n",
       "      <td>0.358000</td>\n",
       "      <td>1.000000</td>\n",
       "      <td>0.362500</td>\n",
       "      <td>0.812500</td>\n",
       "      <td>0.556250</td>\n",
       "      <td>0.608696</td>\n",
       "      <td>0.407143</td>\n",
       "      <td>0.650000</td>\n",
       "      <td>0.563333</td>\n",
       "      <td>0.227778</td>\n",
       "      <td>...</td>\n",
       "      <td>0.358000</td>\n",
       "      <td>0.407692</td>\n",
       "      <td>0.414286</td>\n",
       "      <td>0.622222</td>\n",
       "      <td>0.420000</td>\n",
       "      <td>0.640000</td>\n",
       "      <td>0.414286</td>\n",
       "      <td>0.409091</td>\n",
       "      <td>0.358333</td>\n",
       "      <td>0.410000</td>\n",
       "    </tr>\n",
       "    <tr>\n",
       "      <td>2</td>\n",
       "      <td>0.620000</td>\n",
       "      <td>0.362500</td>\n",
       "      <td>1.000000</td>\n",
       "      <td>0.356452</td>\n",
       "      <td>0.611765</td>\n",
       "      <td>0.375000</td>\n",
       "      <td>0.365385</td>\n",
       "      <td>0.411765</td>\n",
       "      <td>0.700000</td>\n",
       "      <td>0.533333</td>\n",
       "      <td>...</td>\n",
       "      <td>0.820000</td>\n",
       "      <td>0.568182</td>\n",
       "      <td>0.416667</td>\n",
       "      <td>0.358333</td>\n",
       "      <td>0.578571</td>\n",
       "      <td>0.366667</td>\n",
       "      <td>0.816667</td>\n",
       "      <td>0.778571</td>\n",
       "      <td>0.822222</td>\n",
       "      <td>0.390000</td>\n",
       "    </tr>\n",
       "    <tr>\n",
       "      <td>3</td>\n",
       "      <td>0.355000</td>\n",
       "      <td>0.812500</td>\n",
       "      <td>0.356452</td>\n",
       "      <td>1.000000</td>\n",
       "      <td>0.554255</td>\n",
       "      <td>0.605263</td>\n",
       "      <td>0.404651</td>\n",
       "      <td>0.563333</td>\n",
       "      <td>0.556667</td>\n",
       "      <td>0.222727</td>\n",
       "      <td>...</td>\n",
       "      <td>0.355000</td>\n",
       "      <td>0.404878</td>\n",
       "      <td>0.406897</td>\n",
       "      <td>0.625000</td>\n",
       "      <td>0.408000</td>\n",
       "      <td>0.610000</td>\n",
       "      <td>0.406897</td>\n",
       "      <td>0.405405</td>\n",
       "      <td>0.355128</td>\n",
       "      <td>0.405714</td>\n",
       "    </tr>\n",
       "    <tr>\n",
       "      <td>4</td>\n",
       "      <td>0.625000</td>\n",
       "      <td>0.556250</td>\n",
       "      <td>0.611765</td>\n",
       "      <td>0.554255</td>\n",
       "      <td>1.000000</td>\n",
       "      <td>0.570000</td>\n",
       "      <td>0.390000</td>\n",
       "      <td>0.606061</td>\n",
       "      <td>0.811111</td>\n",
       "      <td>0.480000</td>\n",
       "      <td>...</td>\n",
       "      <td>0.625000</td>\n",
       "      <td>0.378571</td>\n",
       "      <td>0.360526</td>\n",
       "      <td>0.355000</td>\n",
       "      <td>0.358696</td>\n",
       "      <td>0.357143</td>\n",
       "      <td>0.560526</td>\n",
       "      <td>0.568182</td>\n",
       "      <td>0.622222</td>\n",
       "      <td>0.365385</td>\n",
       "    </tr>\n",
       "    <tr>\n",
       "      <td>...</td>\n",
       "      <td>...</td>\n",
       "      <td>...</td>\n",
       "      <td>...</td>\n",
       "      <td>...</td>\n",
       "      <td>...</td>\n",
       "      <td>...</td>\n",
       "      <td>...</td>\n",
       "      <td>...</td>\n",
       "      <td>...</td>\n",
       "      <td>...</td>\n",
       "      <td>...</td>\n",
       "      <td>...</td>\n",
       "      <td>...</td>\n",
       "      <td>...</td>\n",
       "      <td>...</td>\n",
       "      <td>...</td>\n",
       "      <td>...</td>\n",
       "      <td>...</td>\n",
       "      <td>...</td>\n",
       "      <td>...</td>\n",
       "      <td>...</td>\n",
       "    </tr>\n",
       "    <tr>\n",
       "      <td>956</td>\n",
       "      <td>0.359524</td>\n",
       "      <td>0.640000</td>\n",
       "      <td>0.366667</td>\n",
       "      <td>0.610000</td>\n",
       "      <td>0.357143</td>\n",
       "      <td>0.410526</td>\n",
       "      <td>0.408333</td>\n",
       "      <td>0.383333</td>\n",
       "      <td>0.368182</td>\n",
       "      <td>0.230952</td>\n",
       "      <td>...</td>\n",
       "      <td>0.359524</td>\n",
       "      <td>0.409091</td>\n",
       "      <td>0.620000</td>\n",
       "      <td>0.815385</td>\n",
       "      <td>0.433333</td>\n",
       "      <td>1.000000</td>\n",
       "      <td>0.420000</td>\n",
       "      <td>0.411111</td>\n",
       "      <td>0.360000</td>\n",
       "      <td>0.412500</td>\n",
       "    </tr>\n",
       "    <tr>\n",
       "      <td>957</td>\n",
       "      <td>0.566667</td>\n",
       "      <td>0.414286</td>\n",
       "      <td>0.816667</td>\n",
       "      <td>0.406897</td>\n",
       "      <td>0.560526</td>\n",
       "      <td>0.420000</td>\n",
       "      <td>0.413333</td>\n",
       "      <td>0.363333</td>\n",
       "      <td>0.650000</td>\n",
       "      <td>0.456667</td>\n",
       "      <td>...</td>\n",
       "      <td>0.766667</td>\n",
       "      <td>0.615385</td>\n",
       "      <td>0.600000</td>\n",
       "      <td>0.409091</td>\n",
       "      <td>0.640000</td>\n",
       "      <td>0.420000</td>\n",
       "      <td>1.000000</td>\n",
       "      <td>0.822222</td>\n",
       "      <td>0.768182</td>\n",
       "      <td>0.428571</td>\n",
       "    </tr>\n",
       "    <tr>\n",
       "      <td>958</td>\n",
       "      <td>0.600000</td>\n",
       "      <td>0.409091</td>\n",
       "      <td>0.778571</td>\n",
       "      <td>0.405405</td>\n",
       "      <td>0.568182</td>\n",
       "      <td>0.500000</td>\n",
       "      <td>0.428571</td>\n",
       "      <td>0.358696</td>\n",
       "      <td>0.575000</td>\n",
       "      <td>0.456667</td>\n",
       "      <td>...</td>\n",
       "      <td>0.800000</td>\n",
       "      <td>0.640000</td>\n",
       "      <td>0.422222</td>\n",
       "      <td>0.406667</td>\n",
       "      <td>0.615385</td>\n",
       "      <td>0.411111</td>\n",
       "      <td>0.822222</td>\n",
       "      <td>1.000000</td>\n",
       "      <td>0.816667</td>\n",
       "      <td>0.466667</td>\n",
       "    </tr>\n",
       "    <tr>\n",
       "      <td>959</td>\n",
       "      <td>0.700000</td>\n",
       "      <td>0.358333</td>\n",
       "      <td>0.822222</td>\n",
       "      <td>0.355128</td>\n",
       "      <td>0.622222</td>\n",
       "      <td>0.450000</td>\n",
       "      <td>0.390000</td>\n",
       "      <td>0.408000</td>\n",
       "      <td>0.620000</td>\n",
       "      <td>0.495238</td>\n",
       "      <td>...</td>\n",
       "      <td>0.900000</td>\n",
       "      <td>0.616667</td>\n",
       "      <td>0.368182</td>\n",
       "      <td>0.356250</td>\n",
       "      <td>0.563333</td>\n",
       "      <td>0.360000</td>\n",
       "      <td>0.768182</td>\n",
       "      <td>0.816667</td>\n",
       "      <td>1.000000</td>\n",
       "      <td>0.390000</td>\n",
       "    </tr>\n",
       "    <tr>\n",
       "      <td>960</td>\n",
       "      <td>0.583333</td>\n",
       "      <td>0.410000</td>\n",
       "      <td>0.390000</td>\n",
       "      <td>0.405714</td>\n",
       "      <td>0.365385</td>\n",
       "      <td>0.650000</td>\n",
       "      <td>0.822222</td>\n",
       "      <td>0.559524</td>\n",
       "      <td>0.383333</td>\n",
       "      <td>0.483333</td>\n",
       "      <td>...</td>\n",
       "      <td>0.383333</td>\n",
       "      <td>0.428571</td>\n",
       "      <td>0.428571</td>\n",
       "      <td>0.407143</td>\n",
       "      <td>0.418182</td>\n",
       "      <td>0.412500</td>\n",
       "      <td>0.428571</td>\n",
       "      <td>0.466667</td>\n",
       "      <td>0.390000</td>\n",
       "      <td>1.000000</td>\n",
       "    </tr>\n",
       "  </tbody>\n",
       "</table>\n",
       "<p>961 rows × 961 columns</p>\n",
       "</div>"
      ],
      "text/plain": [
       "          0         1         2         3         4         5         6    \\\n",
       "0    1.000000  0.358000  0.620000  0.355000  0.625000  0.416667  0.600000   \n",
       "1    0.358000  1.000000  0.362500  0.812500  0.556250  0.608696  0.407143   \n",
       "2    0.620000  0.362500  1.000000  0.356452  0.611765  0.375000  0.365385   \n",
       "3    0.355000  0.812500  0.356452  1.000000  0.554255  0.605263  0.404651   \n",
       "4    0.625000  0.556250  0.611765  0.554255  1.000000  0.570000  0.390000   \n",
       "..        ...       ...       ...       ...       ...       ...       ...   \n",
       "956  0.359524  0.640000  0.366667  0.610000  0.357143  0.410526  0.408333   \n",
       "957  0.566667  0.414286  0.816667  0.406897  0.560526  0.420000  0.413333   \n",
       "958  0.600000  0.409091  0.778571  0.405405  0.568182  0.500000  0.428571   \n",
       "959  0.700000  0.358333  0.822222  0.355128  0.622222  0.450000  0.390000   \n",
       "960  0.583333  0.410000  0.390000  0.405714  0.365385  0.650000  0.822222   \n",
       "\n",
       "          7         8         9    ...       951       952       953  \\\n",
       "0    0.407692  0.618182  0.691667  ...  0.800000  0.450000  0.366667   \n",
       "1    0.650000  0.563333  0.227778  ...  0.358000  0.407692  0.414286   \n",
       "2    0.411765  0.700000  0.533333  ...  0.820000  0.568182  0.416667   \n",
       "3    0.563333  0.556667  0.222727  ...  0.355000  0.404878  0.406897   \n",
       "4    0.606061  0.811111  0.480000  ...  0.625000  0.378571  0.360526   \n",
       "..        ...       ...       ...  ...       ...       ...       ...   \n",
       "956  0.383333  0.368182  0.230952  ...  0.359524  0.409091  0.620000   \n",
       "957  0.363333  0.650000  0.456667  ...  0.766667  0.615385  0.600000   \n",
       "958  0.358696  0.575000  0.456667  ...  0.800000  0.640000  0.422222   \n",
       "959  0.408000  0.620000  0.495238  ...  0.900000  0.616667  0.368182   \n",
       "960  0.559524  0.383333  0.483333  ...  0.383333  0.428571  0.428571   \n",
       "\n",
       "          954       955       956       957       958       959       960  \n",
       "0    0.356061  0.362500  0.359524  0.566667  0.600000  0.700000  0.583333  \n",
       "1    0.622222  0.420000  0.640000  0.414286  0.409091  0.358333  0.410000  \n",
       "2    0.358333  0.578571  0.366667  0.816667  0.778571  0.822222  0.390000  \n",
       "3    0.625000  0.408000  0.610000  0.406897  0.405405  0.355128  0.405714  \n",
       "4    0.355000  0.358696  0.357143  0.560526  0.568182  0.622222  0.365385  \n",
       "..        ...       ...       ...       ...       ...       ...       ...  \n",
       "956  0.815385  0.433333  1.000000  0.420000  0.411111  0.360000  0.412500  \n",
       "957  0.409091  0.640000  0.420000  1.000000  0.822222  0.768182  0.428571  \n",
       "958  0.406667  0.615385  0.411111  0.822222  1.000000  0.816667  0.466667  \n",
       "959  0.356250  0.563333  0.360000  0.768182  0.816667  1.000000  0.390000  \n",
       "960  0.407143  0.418182  0.412500  0.428571  0.466667  0.390000  1.000000  \n",
       "\n",
       "[961 rows x 961 columns]"
      ]
     },
     "execution_count": 37,
     "metadata": {},
     "output_type": "execute_result"
    }
   ],
   "source": [
    "final_matrix"
   ]
  },
  {
   "cell_type": "code",
   "execution_count": 38,
   "metadata": {},
   "outputs": [],
   "source": [
    "#Writing the combined similarity to output file\n",
    "final_matrix.to_csv('Similarity Matrix.csv')"
   ]
  }
 ],
 "metadata": {
  "kernelspec": {
   "display_name": "Python 3",
   "language": "python",
   "name": "python3"
  },
  "language_info": {
   "codemirror_mode": {
    "name": "ipython",
    "version": 3
   },
   "file_extension": ".py",
   "mimetype": "text/x-python",
   "name": "python",
   "nbconvert_exporter": "python",
   "pygments_lexer": "ipython3",
   "version": "3.8.8"
  },
  "varInspector": {
   "cols": {
    "lenName": 16,
    "lenType": 16,
    "lenVar": 40
   },
   "kernels_config": {
    "python": {
     "delete_cmd_postfix": "",
     "delete_cmd_prefix": "del ",
     "library": "var_list.py",
     "varRefreshCmd": "print(var_dic_list())"
    },
    "r": {
     "delete_cmd_postfix": ") ",
     "delete_cmd_prefix": "rm(",
     "library": "var_list.r",
     "varRefreshCmd": "cat(var_dic_list()) "
    }
   },
   "types_to_exclude": [
    "module",
    "function",
    "builtin_function_or_method",
    "instance",
    "_Feature"
   ],
   "window_display": false
  }
 },
 "nbformat": 4,
 "nbformat_minor": 2
}
